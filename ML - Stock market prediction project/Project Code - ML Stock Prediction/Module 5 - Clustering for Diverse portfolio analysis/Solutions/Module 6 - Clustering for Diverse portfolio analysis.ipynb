{
 "cells": [
  {
   "cell_type": "markdown",
   "metadata": {},
   "source": [
    "# Module 6 - Clustering for Diverse portfolio analysis"
   ]
  },
  {
   "cell_type": "markdown",
   "metadata": {},
   "source": [
    "## Clustering for Diversification analysis\n",
    "Clustering is a method of unsupervised learning and is a common technique for statistical data analysis used in many fields.\n",
    "\n",
    "Clustering is a Machine Learning technique that involves the grouping of data points. Given a set of data points, we can use a clustering algorithm to classify each data point into a specific group. In theory, data points that are in the same group should have similar properties and/or features, while data points in different groups should have highly dissimilar properties and/or features.\n",
    "\n",
    "In financial Markets, Cluster analysis is a technique used to group sets of objects that share similar characteristics. It is common in statistics, but investors will use the approach to build a diversified portfolio. Stocks that exhibit high correlations in returns fall into one basket, those slightly less correlated in another, and so on, until each stock is placed into a category."
   ]
  },
  {
   "cell_type": "markdown",
   "metadata": {},
   "source": [
    "## Problem Statements\n",
    "- [Query 6.1](#id1)\n",
    "- [Query 6.2](#id2)\n",
    "- [Query 6.3](#id3)\n",
    "- [Query 6.4](#id4)"
   ]
  },
  {
   "cell_type": "markdown",
   "metadata": {},
   "source": [
    "## <a id=\"id1\">Query 6.1</a>\n",
    "Create a table/data frame with the closing prices of 30 different stocks, with 10 from each of the caps"
   ]
  },
  {
   "cell_type": "markdown",
   "metadata": {},
   "source": [
    "**Name of 30 stock which used in this module** (CSV Files in `30_Stock_files`)\n",
    "\n",
    "'APOLLOTYRE.csv', 'ASHOKA.csv', 'ASIANPAINT.csv', 'BAJAJELEC.csv', 'BAJFINANCE.csv', 'CENTURYPLY.csv', 'DHFL.csv', 'HDFCBANK.csv', 'HEROMOTOCO.csv', 'HINDUNILVR.csv', 'IDBI.csv', 'INFY.csv', 'JETAIRWAYS.csv', 'LT.csv', 'LUXIND.csv', 'MARUTI.csv', 'MINDTREE.csv', 'NBCC.csv', 'PNB.csv', 'PVR.csv', 'RAYMOND.csv', 'RBLBANK.csv', 'RCOM.csv', 'RELIANCE.csv', 'SONATSOFTW.csv', 'SUNTV.csv', 'TATAPOWER.csv', 'TCS.csv', 'VENKEYS.csv', 'VOLTAS.csv'"
   ]
  },
  {
   "cell_type": "code",
   "execution_count": 1,
   "metadata": {},
   "outputs": [],
   "source": [
    "import pandas as pd\n",
    "close_price_30 = pd.DataFrame([])"
   ]
  },
  {
   "cell_type": "code",
   "execution_count": 2,
   "metadata": {},
   "outputs": [
    {
     "name": "stdout",
     "output_type": "stream",
     "text": [
      "Shape of close_price_30 : 494 Rows & 30 Columns\n"
     ]
    },
    {
     "data": {
      "text/html": [
       "<div>\n",
       "<style scoped>\n",
       "    .dataframe tbody tr th:only-of-type {\n",
       "        vertical-align: middle;\n",
       "    }\n",
       "\n",
       "    .dataframe tbody tr th {\n",
       "        vertical-align: top;\n",
       "    }\n",
       "\n",
       "    .dataframe thead th {\n",
       "        text-align: right;\n",
       "    }\n",
       "</style>\n",
       "<table border=\"1\" class=\"dataframe\">\n",
       "  <thead>\n",
       "    <tr style=\"text-align: right;\">\n",
       "      <th></th>\n",
       "      <th>APOLLOTYRE</th>\n",
       "      <th>ASHOKA</th>\n",
       "      <th>ASIANPAINT</th>\n",
       "      <th>BAJAJELEC</th>\n",
       "      <th>BAJFINANCE</th>\n",
       "      <th>CENTURYPLY</th>\n",
       "      <th>DHFL</th>\n",
       "      <th>HDFCBANK</th>\n",
       "      <th>HEROMOTOCO</th>\n",
       "      <th>HINDUNILVR</th>\n",
       "      <th>...</th>\n",
       "      <th>RAYMOND</th>\n",
       "      <th>RBLBANK</th>\n",
       "      <th>RCOM</th>\n",
       "      <th>RELIANCE</th>\n",
       "      <th>SONATSOFTW</th>\n",
       "      <th>SUNTV</th>\n",
       "      <th>TATAPOWER</th>\n",
       "      <th>TCS</th>\n",
       "      <th>VENKEYS</th>\n",
       "      <th>VOLTAS</th>\n",
       "    </tr>\n",
       "  </thead>\n",
       "  <tbody>\n",
       "    <tr>\n",
       "      <th>0</th>\n",
       "      <td>231.90</td>\n",
       "      <td>216.05</td>\n",
       "      <td>1148.05</td>\n",
       "      <td>341.15</td>\n",
       "      <td>1332.95</td>\n",
       "      <td>266.65</td>\n",
       "      <td>431.40</td>\n",
       "      <td>1553.40</td>\n",
       "      <td>3515.45</td>\n",
       "      <td>983.25</td>\n",
       "      <td>...</td>\n",
       "      <td>772.80</td>\n",
       "      <td>563.90</td>\n",
       "      <td>32.00</td>\n",
       "      <td>1344.10</td>\n",
       "      <td>162.65</td>\n",
       "      <td>912.20</td>\n",
       "      <td>83.55</td>\n",
       "      <td>2365.10</td>\n",
       "      <td>1169.70</td>\n",
       "      <td>431.85</td>\n",
       "    </tr>\n",
       "    <tr>\n",
       "      <th>1</th>\n",
       "      <td>234.40</td>\n",
       "      <td>214.90</td>\n",
       "      <td>1142.85</td>\n",
       "      <td>347.00</td>\n",
       "      <td>1347.75</td>\n",
       "      <td>266.10</td>\n",
       "      <td>424.45</td>\n",
       "      <td>1559.65</td>\n",
       "      <td>3619.40</td>\n",
       "      <td>1000.40</td>\n",
       "      <td>...</td>\n",
       "      <td>785.00</td>\n",
       "      <td>562.60</td>\n",
       "      <td>32.10</td>\n",
       "      <td>1356.30</td>\n",
       "      <td>158.60</td>\n",
       "      <td>894.70</td>\n",
       "      <td>83.85</td>\n",
       "      <td>2429.15</td>\n",
       "      <td>1177.00</td>\n",
       "      <td>432.45</td>\n",
       "    </tr>\n",
       "    <tr>\n",
       "      <th>2</th>\n",
       "      <td>237.35</td>\n",
       "      <td>217.00</td>\n",
       "      <td>1154.95</td>\n",
       "      <td>349.85</td>\n",
       "      <td>1324.80</td>\n",
       "      <td>264.85</td>\n",
       "      <td>429.00</td>\n",
       "      <td>1557.15</td>\n",
       "      <td>3645.95</td>\n",
       "      <td>1009.40</td>\n",
       "      <td>...</td>\n",
       "      <td>783.65</td>\n",
       "      <td>564.25</td>\n",
       "      <td>31.95</td>\n",
       "      <td>1353.10</td>\n",
       "      <td>158.25</td>\n",
       "      <td>887.05</td>\n",
       "      <td>85.35</td>\n",
       "      <td>2455.35</td>\n",
       "      <td>1188.00</td>\n",
       "      <td>430.20</td>\n",
       "    </tr>\n",
       "    <tr>\n",
       "      <th>3</th>\n",
       "      <td>232.65</td>\n",
       "      <td>209.65</td>\n",
       "      <td>1151.35</td>\n",
       "      <td>334.10</td>\n",
       "      <td>1314.55</td>\n",
       "      <td>260.35</td>\n",
       "      <td>417.95</td>\n",
       "      <td>1557.10</td>\n",
       "      <td>3592.05</td>\n",
       "      <td>990.25</td>\n",
       "      <td>...</td>\n",
       "      <td>746.95</td>\n",
       "      <td>552.15</td>\n",
       "      <td>31.05</td>\n",
       "      <td>1327.35</td>\n",
       "      <td>157.40</td>\n",
       "      <td>871.35</td>\n",
       "      <td>83.75</td>\n",
       "      <td>2536.20</td>\n",
       "      <td>1156.90</td>\n",
       "      <td>414.10</td>\n",
       "    </tr>\n",
       "    <tr>\n",
       "      <th>4</th>\n",
       "      <td>234.65</td>\n",
       "      <td>206.25</td>\n",
       "      <td>1123.15</td>\n",
       "      <td>336.20</td>\n",
       "      <td>1289.15</td>\n",
       "      <td>254.05</td>\n",
       "      <td>404.20</td>\n",
       "      <td>1561.25</td>\n",
       "      <td>3571.65</td>\n",
       "      <td>1008.00</td>\n",
       "      <td>...</td>\n",
       "      <td>723.10</td>\n",
       "      <td>555.45</td>\n",
       "      <td>30.55</td>\n",
       "      <td>1318.85</td>\n",
       "      <td>151.90</td>\n",
       "      <td>852.40</td>\n",
       "      <td>84.15</td>\n",
       "      <td>2507.15</td>\n",
       "      <td>1161.65</td>\n",
       "      <td>415.75</td>\n",
       "    </tr>\n",
       "  </tbody>\n",
       "</table>\n",
       "<p>5 rows × 30 columns</p>\n",
       "</div>"
      ],
      "text/plain": [
       "   APOLLOTYRE  ASHOKA  ASIANPAINT  BAJAJELEC  BAJFINANCE  CENTURYPLY    DHFL  \\\n",
       "0      231.90  216.05     1148.05     341.15     1332.95      266.65  431.40   \n",
       "1      234.40  214.90     1142.85     347.00     1347.75      266.10  424.45   \n",
       "2      237.35  217.00     1154.95     349.85     1324.80      264.85  429.00   \n",
       "3      232.65  209.65     1151.35     334.10     1314.55      260.35  417.95   \n",
       "4      234.65  206.25     1123.15     336.20     1289.15      254.05  404.20   \n",
       "\n",
       "   HDFCBANK  HEROMOTOCO  HINDUNILVR  ...  RAYMOND  RBLBANK   RCOM  RELIANCE  \\\n",
       "0   1553.40     3515.45      983.25  ...   772.80   563.90  32.00   1344.10   \n",
       "1   1559.65     3619.40     1000.40  ...   785.00   562.60  32.10   1356.30   \n",
       "2   1557.15     3645.95     1009.40  ...   783.65   564.25  31.95   1353.10   \n",
       "3   1557.10     3592.05      990.25  ...   746.95   552.15  31.05   1327.35   \n",
       "4   1561.25     3571.65     1008.00  ...   723.10   555.45  30.55   1318.85   \n",
       "\n",
       "   SONATSOFTW   SUNTV  TATAPOWER      TCS  VENKEYS  VOLTAS  \n",
       "0      162.65  912.20      83.55  2365.10  1169.70  431.85  \n",
       "1      158.60  894.70      83.85  2429.15  1177.00  432.45  \n",
       "2      158.25  887.05      85.35  2455.35  1188.00  430.20  \n",
       "3      157.40  871.35      83.75  2536.20  1156.90  414.10  \n",
       "4      151.90  852.40      84.15  2507.15  1161.65  415.75  \n",
       "\n",
       "[5 rows x 30 columns]"
      ]
     },
     "execution_count": 2,
     "metadata": {},
     "output_type": "execute_result"
    }
   ],
   "source": [
    "import os\n",
    "# Iterate over all 30 stocks\n",
    "for i in os.listdir(\"./30_Stock_files/\"):\n",
    "    current_df = pd.read_csv(\"./30_Stock_files/\"+str(i))\n",
    "    # Take rows only with Series 'EQ'\n",
    "    current_df = current_df[current_df.Series == 'EQ'].reset_index(drop=True)\n",
    "    # Take Closing Price column from each stock\n",
    "    close_price_30[current_df.Symbol[0]] = current_df[\"Close Price\"]\n",
    "\n",
    "print(f\"Shape of close_price_30 : {close_price_30.shape[0]} Rows & {close_price_30.shape[1]} Columns\")\n",
    "close_price_30.head()"
   ]
  },
  {
   "cell_type": "markdown",
   "metadata": {},
   "source": [
    "## <a id=\"id2\">Query 6.2</a>\n",
    "Calculate average annual percentage return and volatility of all 30 stocks over a theoretical one year period"
   ]
  },
  {
   "cell_type": "code",
   "execution_count": 3,
   "metadata": {},
   "outputs": [
    {
     "data": {
      "text/html": [
       "<div>\n",
       "<style scoped>\n",
       "    .dataframe tbody tr th:only-of-type {\n",
       "        vertical-align: middle;\n",
       "    }\n",
       "\n",
       "    .dataframe tbody tr th {\n",
       "        vertical-align: top;\n",
       "    }\n",
       "\n",
       "    .dataframe thead th {\n",
       "        text-align: right;\n",
       "    }\n",
       "</style>\n",
       "<table border=\"1\" class=\"dataframe\">\n",
       "  <thead>\n",
       "    <tr style=\"text-align: right;\">\n",
       "      <th></th>\n",
       "      <th>APOLLOTYRE</th>\n",
       "      <th>ASHOKA</th>\n",
       "      <th>ASIANPAINT</th>\n",
       "      <th>BAJAJELEC</th>\n",
       "      <th>BAJFINANCE</th>\n",
       "      <th>CENTURYPLY</th>\n",
       "      <th>DHFL</th>\n",
       "      <th>HDFCBANK</th>\n",
       "      <th>HEROMOTOCO</th>\n",
       "      <th>HINDUNILVR</th>\n",
       "      <th>...</th>\n",
       "      <th>RAYMOND</th>\n",
       "      <th>RBLBANK</th>\n",
       "      <th>RCOM</th>\n",
       "      <th>RELIANCE</th>\n",
       "      <th>SONATSOFTW</th>\n",
       "      <th>SUNTV</th>\n",
       "      <th>TATAPOWER</th>\n",
       "      <th>TCS</th>\n",
       "      <th>VENKEYS</th>\n",
       "      <th>VOLTAS</th>\n",
       "    </tr>\n",
       "  </thead>\n",
       "  <tbody>\n",
       "    <tr>\n",
       "      <th>247</th>\n",
       "      <td>195.20</td>\n",
       "      <td>118.10</td>\n",
       "      <td>1387.80</td>\n",
       "      <td>557.75</td>\n",
       "      <td>3017.05</td>\n",
       "      <td>163.15</td>\n",
       "      <td>116.60</td>\n",
       "      <td>2322.35</td>\n",
       "      <td>2527.35</td>\n",
       "      <td>1697.50</td>\n",
       "      <td>...</td>\n",
       "      <td>808.95</td>\n",
       "      <td>665.95</td>\n",
       "      <td>2.1</td>\n",
       "      <td>1343.50</td>\n",
       "      <td>340.50</td>\n",
       "      <td>551.10</td>\n",
       "      <td>64.35</td>\n",
       "      <td>2151.95</td>\n",
       "      <td>2000.45</td>\n",
       "      <td>601.45</td>\n",
       "    </tr>\n",
       "    <tr>\n",
       "      <th>248</th>\n",
       "      <td>191.75</td>\n",
       "      <td>115.45</td>\n",
       "      <td>1385.70</td>\n",
       "      <td>534.45</td>\n",
       "      <td>2921.30</td>\n",
       "      <td>161.30</td>\n",
       "      <td>116.30</td>\n",
       "      <td>2307.25</td>\n",
       "      <td>2499.70</td>\n",
       "      <td>1688.70</td>\n",
       "      <td>...</td>\n",
       "      <td>807.10</td>\n",
       "      <td>652.80</td>\n",
       "      <td>2.2</td>\n",
       "      <td>1299.45</td>\n",
       "      <td>338.10</td>\n",
       "      <td>528.90</td>\n",
       "      <td>64.50</td>\n",
       "      <td>2152.85</td>\n",
       "      <td>1956.70</td>\n",
       "      <td>576.65</td>\n",
       "    </tr>\n",
       "    <tr>\n",
       "      <th>249</th>\n",
       "      <td>185.30</td>\n",
       "      <td>115.30</td>\n",
       "      <td>1354.20</td>\n",
       "      <td>531.85</td>\n",
       "      <td>2971.35</td>\n",
       "      <td>160.50</td>\n",
       "      <td>116.00</td>\n",
       "      <td>2290.90</td>\n",
       "      <td>2537.75</td>\n",
       "      <td>1703.75</td>\n",
       "      <td>...</td>\n",
       "      <td>805.30</td>\n",
       "      <td>661.85</td>\n",
       "      <td>2.3</td>\n",
       "      <td>1256.45</td>\n",
       "      <td>332.95</td>\n",
       "      <td>540.70</td>\n",
       "      <td>64.40</td>\n",
       "      <td>2172.55</td>\n",
       "      <td>1930.10</td>\n",
       "      <td>574.10</td>\n",
       "    </tr>\n",
       "    <tr>\n",
       "      <th>250</th>\n",
       "      <td>190.95</td>\n",
       "      <td>117.45</td>\n",
       "      <td>1341.05</td>\n",
       "      <td>540.90</td>\n",
       "      <td>2922.85</td>\n",
       "      <td>160.50</td>\n",
       "      <td>116.40</td>\n",
       "      <td>2296.50</td>\n",
       "      <td>2507.30</td>\n",
       "      <td>1687.45</td>\n",
       "      <td>...</td>\n",
       "      <td>804.40</td>\n",
       "      <td>675.00</td>\n",
       "      <td>2.4</td>\n",
       "      <td>1251.15</td>\n",
       "      <td>332.85</td>\n",
       "      <td>541.15</td>\n",
       "      <td>63.80</td>\n",
       "      <td>2135.80</td>\n",
       "      <td>1820.65</td>\n",
       "      <td>580.05</td>\n",
       "    </tr>\n",
       "    <tr>\n",
       "      <th>251</th>\n",
       "      <td>186.20</td>\n",
       "      <td>117.15</td>\n",
       "      <td>1332.50</td>\n",
       "      <td>541.55</td>\n",
       "      <td>2931.85</td>\n",
       "      <td>162.85</td>\n",
       "      <td>110.95</td>\n",
       "      <td>2287.20</td>\n",
       "      <td>2510.75</td>\n",
       "      <td>1702.00</td>\n",
       "      <td>...</td>\n",
       "      <td>779.35</td>\n",
       "      <td>659.50</td>\n",
       "      <td>2.3</td>\n",
       "      <td>1232.05</td>\n",
       "      <td>339.80</td>\n",
       "      <td>535.65</td>\n",
       "      <td>62.60</td>\n",
       "      <td>2128.75</td>\n",
       "      <td>1706.75</td>\n",
       "      <td>572.20</td>\n",
       "    </tr>\n",
       "  </tbody>\n",
       "</table>\n",
       "<p>5 rows × 30 columns</p>\n",
       "</div>"
      ],
      "text/plain": [
       "     APOLLOTYRE  ASHOKA  ASIANPAINT  BAJAJELEC  BAJFINANCE  CENTURYPLY  \\\n",
       "247      195.20  118.10     1387.80     557.75     3017.05      163.15   \n",
       "248      191.75  115.45     1385.70     534.45     2921.30      161.30   \n",
       "249      185.30  115.30     1354.20     531.85     2971.35      160.50   \n",
       "250      190.95  117.45     1341.05     540.90     2922.85      160.50   \n",
       "251      186.20  117.15     1332.50     541.55     2931.85      162.85   \n",
       "\n",
       "       DHFL  HDFCBANK  HEROMOTOCO  HINDUNILVR  ...  RAYMOND  RBLBANK  RCOM  \\\n",
       "247  116.60   2322.35     2527.35     1697.50  ...   808.95   665.95   2.1   \n",
       "248  116.30   2307.25     2499.70     1688.70  ...   807.10   652.80   2.2   \n",
       "249  116.00   2290.90     2537.75     1703.75  ...   805.30   661.85   2.3   \n",
       "250  116.40   2296.50     2507.30     1687.45  ...   804.40   675.00   2.4   \n",
       "251  110.95   2287.20     2510.75     1702.00  ...   779.35   659.50   2.3   \n",
       "\n",
       "     RELIANCE  SONATSOFTW   SUNTV  TATAPOWER      TCS  VENKEYS  VOLTAS  \n",
       "247   1343.50      340.50  551.10      64.35  2151.95  2000.45  601.45  \n",
       "248   1299.45      338.10  528.90      64.50  2152.85  1956.70  576.65  \n",
       "249   1256.45      332.95  540.70      64.40  2172.55  1930.10  574.10  \n",
       "250   1251.15      332.85  541.15      63.80  2135.80  1820.65  580.05  \n",
       "251   1232.05      339.80  535.65      62.60  2128.75  1706.75  572.20  \n",
       "\n",
       "[5 rows x 30 columns]"
      ]
     },
     "execution_count": 3,
     "metadata": {},
     "output_type": "execute_result"
    }
   ],
   "source": [
    "one_yr_clse_prc = close_price_30.tail(252).reset_index(drop=True)\n",
    "one_yr_clse_prc.tail()"
   ]
  },
  {
   "cell_type": "code",
   "execution_count": 4,
   "metadata": {},
   "outputs": [],
   "source": [
    "daily_perc_return = one_yr_clse_prc.pct_change(fill_method='ffill').dropna()*100"
   ]
  },
  {
   "cell_type": "markdown",
   "metadata": {},
   "source": [
    "#### 6.2.1 Average Annual Percentage Return"
   ]
  },
  {
   "cell_type": "code",
   "execution_count": 5,
   "metadata": {},
   "outputs": [
    {
     "data": {
      "text/plain": [
       "APOLLOTYRE   -0.152627\n",
       "ASHOKA       -0.291083\n",
       "ASIANPAINT    0.055553\n",
       "BAJAJELEC    -0.037507\n",
       "BAJFINANCE    0.206037\n",
       "dtype: float64"
      ]
     },
     "execution_count": 5,
     "metadata": {},
     "output_type": "execute_result"
    }
   ],
   "source": [
    "annual_perc_return = daily_perc_return.mean()\n",
    "annual_perc_return.head()"
   ]
  },
  {
   "cell_type": "markdown",
   "metadata": {},
   "source": [
    "#### 6.2.2 Annual Percentage Volatility"
   ]
  },
  {
   "cell_type": "code",
   "execution_count": 6,
   "metadata": {},
   "outputs": [
    {
     "data": {
      "text/plain": [
       "APOLLOTYRE    1.946514\n",
       "ASHOKA        3.242312\n",
       "ASIANPAINT    1.463245\n",
       "BAJAJELEC     2.367102\n",
       "BAJFINANCE    2.206760\n",
       "dtype: float64"
      ]
     },
     "execution_count": 6,
     "metadata": {},
     "output_type": "execute_result"
    }
   ],
   "source": [
    "annual_volatility = daily_perc_return.std()\n",
    "annual_volatility.head()"
   ]
  },
  {
   "cell_type": "markdown",
   "metadata": {},
   "source": [
    "## <a id=\"id3\">Query 6.3</a>\n",
    "Cluster the 30 stocks according to their mean annual Volatilities and Returns using K-means clustering. Identify the optimum number of clusters using the Elbow curve method"
   ]
  },
  {
   "cell_type": "code",
   "execution_count": 7,
   "metadata": {},
   "outputs": [],
   "source": [
    "# Dataframe with column annual returns and annual volatilities\n",
    "clustering_data = pd.DataFrame({'Returns':annual_perc_return, 'Volatilities':annual_volatility})"
   ]
  },
  {
   "cell_type": "markdown",
   "metadata": {},
   "source": [
    "#### 6.3.1 Elbow Curve Method Procedure"
   ]
  },
  {
   "cell_type": "code",
   "execution_count": 8,
   "metadata": {},
   "outputs": [],
   "source": [
    "from sklearn.cluster import KMeans\n",
    "\n",
    "# define how many cluster we want to test\n",
    "cluster_num = 8\n",
    "\n",
    "# define the dataframe that will contains all our relevant information for each cluster size.\n",
    "diff_cluster_result = pd.DataFrame(index=pd.np.arange(2,cluster_num+1), \n",
    "                                   columns=['loss', 'score','center_returns', 'center_volatility', 'cluster_label', 'model'])\n",
    "\n",
    "for k in range(2, cluster_num+1):\n",
    "    # create an instance of the model, and fit the training data to it.\n",
    "    kmeans = KMeans(n_clusters=k, random_state=0).fit(clustering_data)\n",
    "    \n",
    "    # Inertia/Loss/Distortion: Sum of distances of samples to their closest cluster center.\n",
    "    diff_cluster_result['loss'][k] = kmeans.inertia_\n",
    "    diff_cluster_result['center_returns'][k] = kmeans.cluster_centers_[:,0]\n",
    "    diff_cluster_result['center_volatility'][k] = kmeans.cluster_centers_[:,1]\n",
    "    diff_cluster_result['cluster_label'][k] = kmeans.labels_.astype(float)\n",
    "    diff_cluster_result['score'][k] = kmeans.score\n",
    "    diff_cluster_result['model'][k] = kmeans "
   ]
  },
  {
   "cell_type": "markdown",
   "metadata": {},
   "source": [
    "### 6.3.2 Elbow Curve Graph"
   ]
  },
  {
   "cell_type": "code",
   "execution_count": 9,
   "metadata": {
    "scrolled": true
   },
   "outputs": [
    {
     "data": {
      "image/png": "[encoded data removed]",
      "text/plain": [
       "<Figure size 432x288 with 1 Axes>"
      ]
     },
     "metadata": {},
     "output_type": "display_data"
    }
   ],
   "source": [
    "import matplotlib.pyplot as plt\n",
    "%matplotlib inline\n",
    "with plt.style.context('fivethirtyeight'):\n",
    "    plt.plot(diff_cluster_result.index.values, diff_cluster_result.loss, 'bo-', linewidth=1)\n",
    "    plt.xlabel(\"Number of Clusters\")\n",
    "    plt.ylabel(\"Distortion\")\n",
    "    plt.title('The Elbow Method showing the optimal k', fontweight='bold')\n",
    "    plt.show()"
   ]
  },
  {
   "cell_type": "markdown",
   "metadata": {},
   "source": [
    "#### 6.3.3 Decide The Number of clusters\n",
    "- **From above graph, it looks like 3 or 4 would be better number of cluster.**<br>\n",
    "- **Let's, plot scatter plot for 3 and 4 cluster. And decide**"
   ]
  },
  {
   "cell_type": "code",
   "execution_count": 10,
   "metadata": {
    "scrolled": false
   },
   "outputs": [
    {
     "data": {
      "image/png": "[encoded data removed]",
      "text/plain": [
       "<Figure size 1440x720 with 2 Axes>"
      ]
     },
     "metadata": {
      "needs_background": "light"
     },
     "output_type": "display_data"
    }
   ],
   "source": [
    "plt.figure(figsize=(20,10))\n",
    "for cluster in [4,3]:\n",
    "    plt.subplot(1,2,cluster%2+1)\n",
    "    plt.scatter(clustering_data.Returns, clustering_data.Volatilities, c=diff_cluster_result.cluster_label[cluster], cmap='viridis')\n",
    "    plt.scatter(diff_cluster_result.center_returns[cluster], diff_cluster_result.center_volatility[cluster], marker='*', c='r', s=150, linewidth=3)\n",
    "    plt.ylabel('Annual Volatilities', fontsize=15)\n",
    "    plt.xlabel('Annual Returns', fontsize=15)\n",
    "    plt.title('Visualization of clustered data with {} clusters'.format(cluster), fontweight='bold', fontsize=15)\n",
    "plt.show()"
   ]
  },
  {
   "cell_type": "markdown",
   "metadata": {},
   "source": [
    "**So from above comparsion, 4 clustered scatter plot look much better than 3 clustered.**"
   ]
  },
  {
   "cell_type": "markdown",
   "metadata": {},
   "source": [
    "### Optimum Number of clusters =  4"
   ]
  },
  {
   "cell_type": "code",
   "execution_count": 11,
   "metadata": {},
   "outputs": [],
   "source": [
    "k_optimized = 4\n",
    "kmeans_optimized = diff_cluster_result.loc[k_optimized]"
   ]
  },
  {
   "cell_type": "code",
   "execution_count": 12,
   "metadata": {},
   "outputs": [
    {
     "data": {
      "image/png": "[encoded data removed]",
      "text/plain": [
       "<Figure size 864x576 with 1 Axes>"
      ]
     },
     "metadata": {
      "needs_background": "light"
     },
     "output_type": "display_data"
    }
   ],
   "source": [
    "clustering_data.plot(kind='scatter', x='Returns', y='Volatilities', \n",
    "                     c=kmeans_optimized.cluster_label, s=50, \n",
    "                     cmap='viridis', colorbar=False, figsize=(12,8), \n",
    "                     title='Visualization of clustered data with {} clusters'.format(k_optimized))\n",
    "plt.scatter(kmeans_optimized.center_returns, kmeans_optimized.center_volatility, marker='*', c='r', s=150, linewidths=3)\n",
    "plt.show()"
   ]
  },
  {
   "cell_type": "markdown",
   "metadata": {},
   "source": [
    "## <a id=\"id4\">Query 6.4</a>\n",
    "Prepare a separate Data frame to show which stocks belong to the same cluster\n",
    "<img src=\"../images/16.png\" alt=\"Drawing\" style=\"width: 700px;\" align=\"left\"/>"
   ]
  },
  {
   "cell_type": "markdown",
   "metadata": {},
   "source": [
    "#### 6.4.1 Label of Stocks in Clusters"
   ]
  },
  {
   "cell_type": "code",
   "execution_count": 13,
   "metadata": {},
   "outputs": [
    {
     "name": "stdout",
     "output_type": "stream",
     "text": [
      "STOCKS IN\n",
      "--------------------------------------------------\n",
      "Cluster 1 : DHFL, JETAIRWAYS, RCOM\n",
      "\n",
      "Cluster 2 : APOLLOTYRE, BAJAJELEC, BAJFINANCE, CENTURYPLY, IDBI, LUXIND, MINDTREE, NBCC, PNB, PVR, RAYMOND, SONATSOFTW, SUNTV, TATAPOWER\n",
      "\n",
      "Cluster 3 : ASHOKA, INFY, TCS, VENKEYS\n",
      "\n",
      "Cluster 4 : ASIANPAINT, HDFCBANK, HEROMOTOCO, HINDUNILVR, LT, MARUTI, RBLBANK, RELIANCE, VOLTAS\n",
      "\n"
     ]
    }
   ],
   "source": [
    "# Add Cluster number label in Clustering_data dataframe\n",
    "clustering_data['label'] = diff_cluster_result.cluster_label[k_optimized].astype(int)+1\n",
    "\n",
    "#  separate Data frame to show which stocks belong to the same cluster \n",
    "all_clusters = [i[1] for i in clustering_data.groupby('label')]\n",
    "cluster1, cluster2, cluster3, cluster4 = all_clusters\n",
    "\n",
    "# Display which stocks belongs to which cluster\n",
    "print(\"STOCKS IN\", \"-\"*50,sep='\\n')\n",
    "for cluster in all_clusters:\n",
    "    print(f\"Cluster {cluster.label[0]} : \",end=\"\"); print(*cluster.index.values, sep=\", \",end='\\n\\n')"
   ]
  },
  {
   "cell_type": "markdown",
   "metadata": {},
   "source": [
    "#### 6.4.2 Plot Clustering of Stocks"
   ]
  },
  {
   "cell_type": "code",
   "execution_count": 14,
   "metadata": {
    "scrolled": false
   },
   "outputs": [
    {
     "data": {
      "image/png": "[encoded data removed]",
      "text/plain": [
       "<Figure size 864x576 with 1 Axes>"
      ]
     },
     "metadata": {
      "needs_background": "light"
     },
     "output_type": "display_data"
    }
   ],
   "source": [
    "plt.figure(figsize=(12,8))\n",
    "\n",
    "# Plot all clusters\n",
    "for i in range(len(all_clusters)):\n",
    "    plt.scatter(all_clusters[i].Returns, all_clusters[i].Volatilities, s=50, label=f\"Cluster {i+1}\", c=list('gcbr')[i], alpha=0.8)\n",
    "\n",
    "# Annotate stock name to each data point\n",
    "for i in range(len(clustering_data)):\n",
    "    plt.annotate(clustering_data.index[i], (clustering_data.Returns[i], clustering_data.Volatilities[i]))\n",
    "    \n",
    "# Plot Centriod of each cluster\n",
    "plt.scatter(kmeans_optimized.center_returns, kmeans_optimized.center_volatility, marker='*', c='yellow', s=150, linewidth=3, label=\"Cluster's Centroid\")\n",
    "\n",
    "plt.title(\"Visualization of clustered data with 4 clusters\", fontweight='bold', fontsize=15)\n",
    "plt.xlabel(\"Annual Returns\", fontsize=15)\n",
    "plt.ylabel(\"Annual Volatilities\", fontsize=15)\n",
    "plt.legend()\n",
    "plt.show()"
   ]
  },
  {
   "cell_type": "markdown",
   "metadata": {},
   "source": [
    "#### 6.4.3 Separate Data frame of Each Cluster"
   ]
  },
  {
   "cell_type": "code",
   "execution_count": 15,
   "metadata": {
    "scrolled": false
   },
   "outputs": [
    {
     "data": {
      "text/html": [
       "<div>\n",
       "<style scoped>\n",
       "    .dataframe tbody tr th:only-of-type {\n",
       "        vertical-align: middle;\n",
       "    }\n",
       "\n",
       "    .dataframe tbody tr th {\n",
       "        vertical-align: top;\n",
       "    }\n",
       "\n",
       "    .dataframe thead th {\n",
       "        text-align: right;\n",
       "    }\n",
       "</style>\n",
       "<table border=\"1\" class=\"dataframe\">\n",
       "  <thead>\n",
       "    <tr style=\"text-align: right;\">\n",
       "      <th></th>\n",
       "      <th>Returns</th>\n",
       "      <th>Volatilities</th>\n",
       "      <th>label</th>\n",
       "    </tr>\n",
       "  </thead>\n",
       "  <tbody>\n",
       "    <tr>\n",
       "      <th>DHFL</th>\n",
       "      <td>-0.526120</td>\n",
       "      <td>5.368415</td>\n",
       "      <td>1</td>\n",
       "    </tr>\n",
       "    <tr>\n",
       "      <th>JETAIRWAYS</th>\n",
       "      <td>-0.402479</td>\n",
       "      <td>4.754339</td>\n",
       "      <td>1</td>\n",
       "    </tr>\n",
       "    <tr>\n",
       "      <th>RCOM</th>\n",
       "      <td>-0.551513</td>\n",
       "      <td>6.478758</td>\n",
       "      <td>1</td>\n",
       "    </tr>\n",
       "  </tbody>\n",
       "</table>\n",
       "</div>"
      ],
      "text/plain": [
       "             Returns  Volatilities  label\n",
       "DHFL       -0.526120      5.368415      1\n",
       "JETAIRWAYS -0.402479      4.754339      1\n",
       "RCOM       -0.551513      6.478758      1"
      ]
     },
     "execution_count": 15,
     "metadata": {},
     "output_type": "execute_result"
    }
   ],
   "source": [
    "cluster1"
   ]
  },
  {
   "cell_type": "code",
   "execution_count": 16,
   "metadata": {},
   "outputs": [
    {
     "data": {
      "text/html": [
       "<div>\n",
       "<style scoped>\n",
       "    .dataframe tbody tr th:only-of-type {\n",
       "        vertical-align: middle;\n",
       "    }\n",
       "\n",
       "    .dataframe tbody tr th {\n",
       "        vertical-align: top;\n",
       "    }\n",
       "\n",
       "    .dataframe thead th {\n",
       "        text-align: right;\n",
       "    }\n",
       "</style>\n",
       "<table border=\"1\" class=\"dataframe\">\n",
       "  <thead>\n",
       "    <tr style=\"text-align: right;\">\n",
       "      <th></th>\n",
       "      <th>Returns</th>\n",
       "      <th>Volatilities</th>\n",
       "      <th>label</th>\n",
       "    </tr>\n",
       "  </thead>\n",
       "  <tbody>\n",
       "    <tr>\n",
       "      <th>APOLLOTYRE</th>\n",
       "      <td>-0.152627</td>\n",
       "      <td>1.946514</td>\n",
       "      <td>2</td>\n",
       "    </tr>\n",
       "    <tr>\n",
       "      <th>BAJAJELEC</th>\n",
       "      <td>-0.037507</td>\n",
       "      <td>2.367102</td>\n",
       "      <td>2</td>\n",
       "    </tr>\n",
       "    <tr>\n",
       "      <th>BAJFINANCE</th>\n",
       "      <td>0.206037</td>\n",
       "      <td>2.206760</td>\n",
       "      <td>2</td>\n",
       "    </tr>\n",
       "    <tr>\n",
       "      <th>CENTURYPLY</th>\n",
       "      <td>-0.221293</td>\n",
       "      <td>2.505610</td>\n",
       "      <td>2</td>\n",
       "    </tr>\n",
       "    <tr>\n",
       "      <th>IDBI</th>\n",
       "      <td>-0.217885</td>\n",
       "      <td>2.604046</td>\n",
       "      <td>2</td>\n",
       "    </tr>\n",
       "    <tr>\n",
       "      <th>LUXIND</th>\n",
       "      <td>-0.185099</td>\n",
       "      <td>2.164111</td>\n",
       "      <td>2</td>\n",
       "    </tr>\n",
       "    <tr>\n",
       "      <th>MINDTREE</th>\n",
       "      <td>0.009951</td>\n",
       "      <td>2.086993</td>\n",
       "      <td>2</td>\n",
       "    </tr>\n",
       "    <tr>\n",
       "      <th>NBCC</th>\n",
       "      <td>-0.234637</td>\n",
       "      <td>2.673751</td>\n",
       "      <td>2</td>\n",
       "    </tr>\n",
       "    <tr>\n",
       "      <th>PNB</th>\n",
       "      <td>-0.016995</td>\n",
       "      <td>2.739882</td>\n",
       "      <td>2</td>\n",
       "    </tr>\n",
       "    <tr>\n",
       "      <th>PVR</th>\n",
       "      <td>0.097040</td>\n",
       "      <td>2.052217</td>\n",
       "      <td>2</td>\n",
       "    </tr>\n",
       "    <tr>\n",
       "      <th>RAYMOND</th>\n",
       "      <td>-0.114845</td>\n",
       "      <td>2.276097</td>\n",
       "      <td>2</td>\n",
       "    </tr>\n",
       "    <tr>\n",
       "      <th>SONATSOFTW</th>\n",
       "      <td>0.035575</td>\n",
       "      <td>2.544301</td>\n",
       "      <td>2</td>\n",
       "    </tr>\n",
       "    <tr>\n",
       "      <th>SUNTV</th>\n",
       "      <td>-0.160940</td>\n",
       "      <td>2.422537</td>\n",
       "      <td>2</td>\n",
       "    </tr>\n",
       "    <tr>\n",
       "      <th>TATAPOWER</th>\n",
       "      <td>-0.098589</td>\n",
       "      <td>2.272462</td>\n",
       "      <td>2</td>\n",
       "    </tr>\n",
       "  </tbody>\n",
       "</table>\n",
       "</div>"
      ],
      "text/plain": [
       "             Returns  Volatilities  label\n",
       "APOLLOTYRE -0.152627      1.946514      2\n",
       "BAJAJELEC  -0.037507      2.367102      2\n",
       "BAJFINANCE  0.206037      2.206760      2\n",
       "CENTURYPLY -0.221293      2.505610      2\n",
       "IDBI       -0.217885      2.604046      2\n",
       "LUXIND     -0.185099      2.164111      2\n",
       "MINDTREE    0.009951      2.086993      2\n",
       "NBCC       -0.234637      2.673751      2\n",
       "PNB        -0.016995      2.739882      2\n",
       "PVR         0.097040      2.052217      2\n",
       "RAYMOND    -0.114845      2.276097      2\n",
       "SONATSOFTW  0.035575      2.544301      2\n",
       "SUNTV      -0.160940      2.422537      2\n",
       "TATAPOWER  -0.098589      2.272462      2"
      ]
     },
     "execution_count": 16,
     "metadata": {},
     "output_type": "execute_result"
    }
   ],
   "source": [
    "cluster2"
   ]
  },
  {
   "cell_type": "code",
   "execution_count": 17,
   "metadata": {},
   "outputs": [
    {
     "data": {
      "text/html": [
       "<div>\n",
       "<style scoped>\n",
       "    .dataframe tbody tr th:only-of-type {\n",
       "        vertical-align: middle;\n",
       "    }\n",
       "\n",
       "    .dataframe tbody tr th {\n",
       "        vertical-align: top;\n",
       "    }\n",
       "\n",
       "    .dataframe thead th {\n",
       "        text-align: right;\n",
       "    }\n",
       "</style>\n",
       "<table border=\"1\" class=\"dataframe\">\n",
       "  <thead>\n",
       "    <tr style=\"text-align: right;\">\n",
       "      <th></th>\n",
       "      <th>Returns</th>\n",
       "      <th>Volatilities</th>\n",
       "      <th>label</th>\n",
       "    </tr>\n",
       "  </thead>\n",
       "  <tbody>\n",
       "    <tr>\n",
       "      <th>ASHOKA</th>\n",
       "      <td>-0.291083</td>\n",
       "      <td>3.242312</td>\n",
       "      <td>3</td>\n",
       "    </tr>\n",
       "    <tr>\n",
       "      <th>INFY</th>\n",
       "      <td>-0.112286</td>\n",
       "      <td>3.407303</td>\n",
       "      <td>3</td>\n",
       "    </tr>\n",
       "    <tr>\n",
       "      <th>TCS</th>\n",
       "      <td>-0.105631</td>\n",
       "      <td>3.533329</td>\n",
       "      <td>3</td>\n",
       "    </tr>\n",
       "    <tr>\n",
       "      <th>VENKEYS</th>\n",
       "      <td>-0.241175</td>\n",
       "      <td>3.771359</td>\n",
       "      <td>3</td>\n",
       "    </tr>\n",
       "  </tbody>\n",
       "</table>\n",
       "</div>"
      ],
      "text/plain": [
       "          Returns  Volatilities  label\n",
       "ASHOKA  -0.291083      3.242312      3\n",
       "INFY    -0.112286      3.407303      3\n",
       "TCS     -0.105631      3.533329      3\n",
       "VENKEYS -0.241175      3.771359      3"
      ]
     },
     "execution_count": 17,
     "metadata": {},
     "output_type": "execute_result"
    }
   ],
   "source": [
    "cluster3"
   ]
  },
  {
   "cell_type": "code",
   "execution_count": 18,
   "metadata": {
    "scrolled": false
   },
   "outputs": [
    {
     "data": {
      "text/html": [
       "<div>\n",
       "<style scoped>\n",
       "    .dataframe tbody tr th:only-of-type {\n",
       "        vertical-align: middle;\n",
       "    }\n",
       "\n",
       "    .dataframe tbody tr th {\n",
       "        vertical-align: top;\n",
       "    }\n",
       "\n",
       "    .dataframe thead th {\n",
       "        text-align: right;\n",
       "    }\n",
       "</style>\n",
       "<table border=\"1\" class=\"dataframe\">\n",
       "  <thead>\n",
       "    <tr style=\"text-align: right;\">\n",
       "      <th></th>\n",
       "      <th>Returns</th>\n",
       "      <th>Volatilities</th>\n",
       "      <th>label</th>\n",
       "    </tr>\n",
       "  </thead>\n",
       "  <tbody>\n",
       "    <tr>\n",
       "      <th>ASIANPAINT</th>\n",
       "      <td>0.055553</td>\n",
       "      <td>1.463245</td>\n",
       "      <td>4</td>\n",
       "    </tr>\n",
       "    <tr>\n",
       "      <th>HDFCBANK</th>\n",
       "      <td>0.060881</td>\n",
       "      <td>1.013472</td>\n",
       "      <td>4</td>\n",
       "    </tr>\n",
       "    <tr>\n",
       "      <th>HEROMOTOCO</th>\n",
       "      <td>-0.134744</td>\n",
       "      <td>1.754052</td>\n",
       "      <td>4</td>\n",
       "    </tr>\n",
       "    <tr>\n",
       "      <th>HINDUNILVR</th>\n",
       "      <td>0.068739</td>\n",
       "      <td>1.327639</td>\n",
       "      <td>4</td>\n",
       "    </tr>\n",
       "    <tr>\n",
       "      <th>LT</th>\n",
       "      <td>-0.006306</td>\n",
       "      <td>1.336219</td>\n",
       "      <td>4</td>\n",
       "    </tr>\n",
       "    <tr>\n",
       "      <th>MARUTI</th>\n",
       "      <td>-0.098799</td>\n",
       "      <td>1.651774</td>\n",
       "      <td>4</td>\n",
       "    </tr>\n",
       "    <tr>\n",
       "      <th>RBLBANK</th>\n",
       "      <td>0.108374</td>\n",
       "      <td>1.810614</td>\n",
       "      <td>4</td>\n",
       "    </tr>\n",
       "    <tr>\n",
       "      <th>RELIANCE</th>\n",
       "      <td>0.117284</td>\n",
       "      <td>1.751214</td>\n",
       "      <td>4</td>\n",
       "    </tr>\n",
       "    <tr>\n",
       "      <th>VOLTAS</th>\n",
       "      <td>-0.010604</td>\n",
       "      <td>1.897297</td>\n",
       "      <td>4</td>\n",
       "    </tr>\n",
       "  </tbody>\n",
       "</table>\n",
       "</div>"
      ],
      "text/plain": [
       "             Returns  Volatilities  label\n",
       "ASIANPAINT  0.055553      1.463245      4\n",
       "HDFCBANK    0.060881      1.013472      4\n",
       "HEROMOTOCO -0.134744      1.754052      4\n",
       "HINDUNILVR  0.068739      1.327639      4\n",
       "LT         -0.006306      1.336219      4\n",
       "MARUTI     -0.098799      1.651774      4\n",
       "RBLBANK     0.108374      1.810614      4\n",
       "RELIANCE    0.117284      1.751214      4\n",
       "VOLTAS     -0.010604      1.897297      4"
      ]
     },
     "execution_count": 18,
     "metadata": {},
     "output_type": "execute_result"
    }
   ],
   "source": [
    "cluster4"
   ]
  },
  {
   "cell_type": "markdown",
   "metadata": {},
   "source": [
    "# Thank You!\n",
    "**Saurabh Zinjad**<br>\n",
    "[LinkedIn](https://www.linkedin.com/in/saurabhzinjad) |\n",
    "[Github](https://github.com/SBZed) |\n",
    "[Kaggle](https://www.kaggle.com/ztrimus) |\n",
    "[Instagram](https://www.instagram.com/sbzed_sage/) |\n",
    "[Telegram](https://t.me/Saurus_Ztrimus) |\n",
    "[Twitter](https://twitter.com/ztrimus) |"
   ]
  }
 ],
 "metadata": {
  "kernelspec": {
   "display_name": "Python 3",
   "language": "python",
   "name": "python3"
  },
  "language_info": {
   "codemirror_mode": {
    "name": "ipython",
    "version": 3
   },
   "file_extension": ".py",
   "mimetype": "text/x-python",
   "name": "python",
   "nbconvert_exporter": "python",
   "pygments_lexer": "ipython3",
   "version": "3.7.3"
  }
 },
 "nbformat": 4,
 "nbformat_minor": 2
}
