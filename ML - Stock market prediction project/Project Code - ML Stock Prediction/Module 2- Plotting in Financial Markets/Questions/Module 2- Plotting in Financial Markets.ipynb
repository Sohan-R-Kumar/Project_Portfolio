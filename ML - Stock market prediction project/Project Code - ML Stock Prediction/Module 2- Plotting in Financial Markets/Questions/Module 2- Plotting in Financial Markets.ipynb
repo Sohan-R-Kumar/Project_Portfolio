{
 "cells": [
  {
   "cell_type": "markdown",
   "metadata": {},
   "source": [
    "# Module 2- Plotting in Financial Markets"
   ]
  },
  {
   "cell_type": "markdown",
   "metadata": {},
   "source": [
    "## Data visualization and Technical Analysis\n",
    "'A picture speaks a thousand words' has never been truer in financial markets. Absolutely no one goes through the millions of rows of numbers, we always prefer the data in a plotted form to draw better inferences. This module would cover the plotting, basic technical indicators and our own customisation, and making our own trade calls!\n",
    "You should target to finish module 2, including the prerequisites, in 1-2 weeks.\n",
    "\n",
    "## Resources\n",
    "1. [Matplotlib Tutorials](https://www.youtube.com/playlist?list=PL-osiE80TeTvipOqomVEeZ1HRrcEvtZB_)\n",
    "2. [Seaborn Tutorials](https://www.youtube.com/playlist?list=PL998lXKj66MpNd0_XkEXwzTGPxY2jYM2d)"
   ]
  },
  {
   "cell_type": "markdown",
   "metadata": {},
   "source": [
    "## Problem Statements\n",
    "1. [Query 2.1](#id1)\n",
    "2. [Query 2.2](#id2)\n",
    "3. [Query 2.3](#id3)\n",
    "4. [Query 2.4](#id4)\n",
    "5. [Query 2.5](#id5)\n",
    "6. [Query 2.6](#id6)\n",
    "7. [Query 2.7](#id7)\n",
    "8. [Query 2.8](#id8)\n",
    "9. [Query 2.9](#id9)\n",
    "10. [Query 2.10](#id10)"
   ]
  },
  {
   "cell_type": "markdown",
   "metadata": {},
   "source": [
    "## <a id=id1>Query 2.1</a>\n",
    "Load the week2.csv file into a dataframe. What is the type of the Date column? Make sure it is of type datetime64. Convert the Date column to the index of the dataframe.\n",
    "Plot the closing price of each of the days for the entire time frame to get an idea of what the general outlook of the stock is.\n",
    "\n",
    "- Look out for drastic changes in this stock, you have the exact date when these took place, try to fetch the news for this day of this stock\n",
    "- This would be helpful if we are to train our model to take NLP inputs.\n",
    "\n",
    "<img src=\"../images/1.png\" alt=\"Drawing\" style=\"width: 400px;\" align=\"left\"/>"
   ]
  },
  {
   "cell_type": "code",
   "execution_count": null,
   "metadata": {},
   "outputs": [],
   "source": []
  },
  {
   "cell_type": "code",
   "execution_count": null,
   "metadata": {},
   "outputs": [],
   "source": []
  },
  {
   "cell_type": "markdown",
   "metadata": {},
   "source": [
    "## <a id=id2>Query 2.2</a>\n",
    "A stem plot is a discrete series plot, ideal for plotting daywise data. It can be plotted using the `plt.stem()` function.\n",
    "\n",
    "Display a stem plot of the daily change in of the stock price in percentage. This column was calculated in module 1 and should be already available in `week2.csv`. Observe whenever there's a large change"
   ]
  },
  {
   "cell_type": "code",
   "execution_count": null,
   "metadata": {},
   "outputs": [],
   "source": []
  },
  {
   "cell_type": "code",
   "execution_count": null,
   "metadata": {},
   "outputs": [],
   "source": []
  },
  {
   "cell_type": "markdown",
   "metadata": {},
   "source": [
    "## <a id=id3>Query 2.3 </a>\n",
    "Plot the daily volumes as well and compare the percentage stem plot to it. Document your analysis of the relationship between volume and daily percentage change. \n",
    "\n",
    "\n",
    "<img src=\"../images/2.png\" alt=\"Drawing\" style=\"width: 400px;\" align=\"left\"/>\n",
    "<img src=\"../images/3.png\" alt=\"Drawing\" style=\"width: 400px;\"/>"
   ]
  },
  {
   "cell_type": "code",
   "execution_count": null,
   "metadata": {},
   "outputs": [],
   "source": []
  },
  {
   "cell_type": "code",
   "execution_count": null,
   "metadata": {},
   "outputs": [],
   "source": []
  },
  {
   "cell_type": "markdown",
   "metadata": {},
   "source": [
    "## <a id=id4>Query 2.4 </a>\n",
    "We had created a Trend column in module 1. We want to see how often each Trend type occurs. This can be seen as a pie chart, with each sector representing the percentage of days each trend occurs. Plot a pie chart for all the 'Trend' to know about relative frequency of each trend. You can use the groupby function with the trend column to group all days with the same trend into a single group before plotting the pie chart. From the grouped data, create a BAR plot of average & median values of the 'Total Traded Quantity' by Trend type. \n",
    "\n",
    "<img src=\"../images/4.png\" alt=\"Drawing\" style=\"width: 400px;\" align=\"left\"/>\n",
    "<img src=\"../images/5.png\" alt=\"Drawing\" style=\"width: 400px;\"/>"
   ]
  },
  {
   "cell_type": "code",
   "execution_count": null,
   "metadata": {},
   "outputs": [],
   "source": []
  },
  {
   "cell_type": "code",
   "execution_count": null,
   "metadata": {},
   "outputs": [],
   "source": []
  },
  {
   "cell_type": "markdown",
   "metadata": {},
   "source": [
    "## <a id=id5>Query 2.5 </a>\n",
    "Plot the daily return (percentage) distribution as a histogram.<br>\n",
    "Histogram analysis is one of the most fundamental methods of exploratory data analysis. In this case, it'd return a frequency plot of various values of percentage changes ."
   ]
  },
  {
   "cell_type": "code",
   "execution_count": null,
   "metadata": {},
   "outputs": [],
   "source": []
  },
  {
   "cell_type": "code",
   "execution_count": null,
   "metadata": {},
   "outputs": [],
   "source": []
  },
  {
   "cell_type": "markdown",
   "metadata": {},
   "source": [
    "## <a id=id6>Query 2.6 </a>\n",
    "We next want to analyse how the behaviour of different stocks are correlated. The correlation is performed on the percentage change of the stock price instead of the stock price. \n",
    "\n",
    "Load any 5 stocks of your choice into 5 dataframes. Retain only rows for which ‘Series’ column has value ‘EQ’. Create a single dataframe which contains the ‘Closing Price’ of each stock. This dataframe should hence have five columns. Rename each column to the name of the stock that is contained in the column. Create a new dataframe which is a percentage change of the values in the previous dataframe. Drop Nan’s from this dataframe.\n",
    "Using seaborn, analyse the correlation between the percentage changes in the five stocks. This is extremely useful for a fund manager to design a diversified portfolio. To know more, check out these resources on [correlation](https://www.investopedia.com/terms/c/correlation.asp) and [diversification](https://www.investopedia.com/terms/d/diversification.asp). \n",
    "\n",
    "<img src=\"../images/7.png\" alt=\"Drawing\" style=\"width: 500px;\" align=\"left\"/>"
   ]
  },
  {
   "cell_type": "code",
   "execution_count": null,
   "metadata": {},
   "outputs": [],
   "source": []
  },
  {
   "cell_type": "code",
   "execution_count": null,
   "metadata": {},
   "outputs": [],
   "source": []
  },
  {
   "cell_type": "markdown",
   "metadata": {},
   "source": [
    "## <a id=id7>Query 2.7 </a>\n",
    "Volatility is the change in variance in the returns of a stock over a specific period of time.Do give the following documentation on [volatility](https://www.investopedia.com/terms/v/volatility.asp) a read.<br>\n",
    "You have already calculated the percentage changes in several stock prices. Calculate the 7 day rolling average of the percentage change of any of the stock prices, then compute the standard deviation (which is the square root of the variance) and plot the values.<br>\n",
    "Note: pandas provides a rolling() function for dataframes and a std() function also which you can use. "
   ]
  },
  {
   "cell_type": "code",
   "execution_count": null,
   "metadata": {},
   "outputs": [],
   "source": []
  },
  {
   "cell_type": "code",
   "execution_count": null,
   "metadata": {},
   "outputs": [],
   "source": []
  },
  {
   "cell_type": "markdown",
   "metadata": {},
   "source": [
    "## <a id=id8>Query 2.8 </a>\n",
    "Calculate the volatility for the Nifty index and compare the 2. This leads us to a useful indicator known as 'Beta' ( We'll be covering this in length in Module 3) \n",
    "\n",
    "<img src=\"../images/8.png\" alt=\"Drawing\" style=\"width: 500px;\" align=\"left\"/>"
   ]
  },
  {
   "cell_type": "code",
   "execution_count": null,
   "metadata": {},
   "outputs": [],
   "source": []
  },
  {
   "cell_type": "code",
   "execution_count": null,
   "metadata": {},
   "outputs": [],
   "source": []
  },
  {
   "cell_type": "markdown",
   "metadata": {},
   "source": [
    "## <a id=id9>Query 2.9 </a>\n",
    " Trade Calls - Using Simple Moving Averages. Study about moving averages [here](https://www.investopedia.com/terms/s/sma.asp). \n",
    " \n",
    " <img src=\"../images/9.png\" alt=\"Drawing\" style=\"width: 500px;\" align=\"center\"/>\n",
    "\n",
    "Plot the 21 day and 34 day Moving average with the average price and decide a Call !\n",
    "Call should be buy whenever the smaller moving average (21) crosses over longer moving average (34) AND the call should be sell whenever smaller moving average crosses under longer moving average.\n",
    "One of the most widely used technical indicators."
   ]
  },
  {
   "cell_type": "code",
   "execution_count": null,
   "metadata": {},
   "outputs": [],
   "source": []
  },
  {
   "cell_type": "code",
   "execution_count": null,
   "metadata": {},
   "outputs": [],
   "source": []
  },
  {
   "cell_type": "markdown",
   "metadata": {},
   "source": [
    "## <a id=id10>Query 2.10 </a>\n",
    "\n",
    "Trade Calls - [Using Bollinger Bands](https://www.investopedia.com/terms/b/bollingerbands.asp)<br>\n",
    "Plot the bollinger bands for this stock - the duration of 14 days and 2 standard deviations away from the average<br>\n",
    "The bollinger bands comprise the following data points-\n",
    "- The 14 day rolling mean of the closing price (we call it the average) \n",
    "- Upper band which is the rolling mean + 2 standard deviations away from the average. \n",
    "- Lower band which is the rolling mean - 2 standard deviations away from the average. \n",
    "- Average Daily stock price.\n",
    "\n",
    "Bollinger bands are extremely reliable , with a 95% accuracy at 2 standard deviations , and especially useful in sideways moving market.<br>\n",
    "Observe the bands yourself , and analyse the accuracy of all the trade signals provided by the bollinger bands.\n",
    "Save to a new csv file. \n",
    "<img src=\"../images/10.png\" alt=\"Drawing\" style=\"width: 500px;\" align=\"left\"/>"
   ]
  },
  {
   "cell_type": "markdown",
   "metadata": {},
   "source": [
    "## Save the dataframe"
   ]
  },
  {
   "cell_type": "code",
   "execution_count": null,
   "metadata": {},
   "outputs": [],
   "source": []
  }
 ],
 "metadata": {
  "kernelspec": {
   "display_name": "Python 3",
   "language": "python",
   "name": "python3"
  },
  "language_info": {
   "codemirror_mode": {
    "name": "ipython",
    "version": 3
   },
   "file_extension": ".py",
   "mimetype": "text/x-python",
   "name": "python",
   "nbconvert_exporter": "python",
   "pygments_lexer": "ipython3",
   "version": "3.7.3"
  }
 },
 "nbformat": 4,
 "nbformat_minor": 2
}
