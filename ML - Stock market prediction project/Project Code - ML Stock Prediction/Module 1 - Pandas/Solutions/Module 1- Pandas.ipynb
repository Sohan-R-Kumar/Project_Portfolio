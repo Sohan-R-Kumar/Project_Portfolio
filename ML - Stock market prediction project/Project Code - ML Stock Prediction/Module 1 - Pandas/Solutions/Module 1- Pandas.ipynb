{
 "cells": [
  {
   "cell_type": "markdown",
   "metadata": {},
   "source": [
    "# Module 1 - Pandas"
   ]
  },
  {
   "cell_type": "markdown",
   "metadata": {},
   "source": [
    "### First Read `Readme.md` file which covers Prerequisites and Setup for Data Analysis"
   ]
  },
  {
   "cell_type": "markdown",
   "metadata": {},
   "source": [
    "## Introduction to the problem\n",
    "In Module 1, you are going to get familiar with pandas, the python module which is used to process and analyse data. Processing could include removing unknown values from the data or replacing unknown values with values which make sense, maybe 0. Analysing the data could include finding out the trend of a stock price, e.g. how the stock price changes with respect to the Nifty 50 basket of stocks.\n",
    "\n",
    "Please go through the Prerequisite/ reference material suggested for module 1 before attempting the tasks in module 1.\n",
    "## Resources \n",
    "\n",
    "1. [Pandas Udemy](https://rakeshgopal.teachable.com/blog/17849/pandas_python_lecture_notes)\n",
    "2. [Did you know pandas can do so much?](https://medium.com/fintechexplained/did-you-know-pandas-can-do-so-much-f65dc7db3051)\n",
    "3. [Pandas | Kaggle](https://www.kaggle.com/learn/pandas)\n",
    "4. [Pandas | Shane Lynn](https://www.shanelynn.ie/python-pandas-read_csv-load-data-from-csv-files/)\n",
    "5. [Top 8 resources for learning data analysis with pandas](https://www.dataschool.io/best-python-pandas-resources/)\n",
    "6. [Video - Complete Python Pandas Data Science Tutorial!](https://www.youtube.com/watch?v=vmEHCJofslg)"
   ]
  },
  {
   "cell_type": "markdown",
   "metadata": {},
   "source": [
    "## Problem Statements\n",
    "1. [Query 1.1](#id1)\n",
    "2. [Query 1.2](#id2)\n",
    "3. [Query 1.3](#id3)\n",
    "4. [Query 1.4](#id4)\n",
    "5. [Query 1.5](#id5)\n",
    "6. [Query 1.6](#id6)\n",
    "7. [Query 1.7](#id7)\n",
    "8. [Query 1.8](#id8)\n",
    "9. [Query 1.9](#id9)"
   ]
  },
  {
   "cell_type": "markdown",
   "metadata": {},
   "source": [
    "## Necessary Point to remember\n",
    "[Basics of Financial Markets](http://www.aspiration.ai/machine-learning/internship/Basics%20of%20Financial%20Markets.pdf)\n",
    "##### 1. Share:\n",
    "a share is a ‘part’ of a company which you can buy or sell, IF the company is publicly listed i.e. on a stock exchange.\n",
    "##### 2. Market Capitalization (Market Cap): \n",
    "the total number of shares of a company multiplied by the price of a share.\n",
    "##### 3. Stocks: \n",
    "refer to any arbitrary company. e.g. Akash owns **Stocks**\n",
    "##### 4. Shares: \n",
    "referring to a specific company. e.g Saurabh owns **shares** of Coca-Cola Company\n",
    "##### 5. Portfolio:\n",
    "If I have invested in more stocks than 1, let’s say 10 different stocks, then this collection of investment is known as a Portfolio.\n",
    "##### 6. Market Index:\n",
    "- identify a few companies to represent the broader markets. \n",
    "- So every time someone asks you how the markets are doing, you would just check the general trend of these selected stocks and then give an answer. \n",
    "- These companies that you have identified collectively make upthe stock market index.\n",
    "\n",
    "##### 7. Nifty: \n",
    "Nifty is the market index which represents the top 50 companies listed on the NSE(National Stock Exchange)\n",
    "##### 8. Sensex:\n",
    "Sensex is the market index which represents the top 30 companies listed on the BSE(Bombay Stock Exchange)\n",
    "##### 9. Market capitalization:\n",
    "Market capitalization is the product of total number of shares outstanding in the market, and the price of the stock.\n",
    "##### 10. Trend:\n",
    "A term ‘trend’ usually refers to the general market direction, and its associated strength. For example, if the market is declining fast, the trend is said to be bearish. If the market is trading flat with no movement then the trend is said to be sideways.\n",
    "##### 11. Volume (Total Traded Quantity):\n",
    "Volumes and its impact on the stock prices is an important concept . Volumes represent the total transactions (both buy and sell put together) for a particular stock on a particular day. For example, on 17thJune 2019, the volume on ACC was 5,33,819 shares.\n",
    "##### 12. Deliverable Quantity:\n",
    "All the shares which were not squared off on an intraday basis.\n",
    "##### 13. Turnover \n",
    "Product of total volume traded to the average price of a stock for the day\n",
    "##### 14. Previous close: \n",
    "Previous close is a security's closing price on the preceding day of trading. Previous close can refer to the prior day's value of a stock, bond, commodity, futures or option contract, market index, or any other security."
   ]
  },
  {
   "cell_type": "markdown",
   "metadata": {},
   "source": [
    "## <a id='id1'>Query 1.1</a> \n",
    "Import the csv file of the stock of your choosing using 'pd.read_csv()' function into a dataframe.\n",
    "Shares of a company can be offered in more than one category. The category of a stock is indicated in the ‘Series’ column. If the csv file has data on more than one category, the ‘Date’ column will have repeating values. To avoid repetitions in the date, remove all the rows where 'Series' column is NOT 'EQ'.\n",
    "Analyze and understand each column properly.\n",
    "You'd find the head(), tail() and describe() functions to be immensely useful for exploration. You're free to carry out any other exploration of your own."
   ]
  },
  {
   "cell_type": "code",
   "execution_count": 1,
   "metadata": {},
   "outputs": [],
   "source": [
    "# Importing necessary packages\n",
    "import numpy as np \n",
    "import pandas as pd\n",
    "\n",
    "import warnings\n",
    "warnings.filterwarnings('ignore')"
   ]
  },
  {
   "cell_type": "markdown",
   "metadata": {},
   "source": [
    "#### 1.1.1 importing CSV file using `pd.read_csv()`"
   ]
  },
  {
   "cell_type": "code",
   "execution_count": 2,
   "metadata": {
    "scrolled": true
   },
   "outputs": [
    {
     "data": {
      "text/html": [
       "<div>\n",
       "<style scoped>\n",
       "    .dataframe tbody tr th:only-of-type {\n",
       "        vertical-align: middle;\n",
       "    }\n",
       "\n",
       "    .dataframe tbody tr th {\n",
       "        vertical-align: top;\n",
       "    }\n",
       "\n",
       "    .dataframe thead th {\n",
       "        text-align: right;\n",
       "    }\n",
       "</style>\n",
       "<table border=\"1\" class=\"dataframe\">\n",
       "  <thead>\n",
       "    <tr style=\"text-align: right;\">\n",
       "      <th></th>\n",
       "      <th>Symbol</th>\n",
       "      <th>Series</th>\n",
       "      <th>Date</th>\n",
       "      <th>Prev Close</th>\n",
       "      <th>Open Price</th>\n",
       "      <th>High Price</th>\n",
       "      <th>Low Price</th>\n",
       "      <th>Last Price</th>\n",
       "      <th>Close Price</th>\n",
       "      <th>Average Price</th>\n",
       "      <th>Total Traded Quantity</th>\n",
       "      <th>Turnover</th>\n",
       "      <th>No. of Trades</th>\n",
       "      <th>Deliverable Qty</th>\n",
       "      <th>% Dly Qt to Traded Qty</th>\n",
       "    </tr>\n",
       "  </thead>\n",
       "  <tbody>\n",
       "    <tr>\n",
       "      <th>0</th>\n",
       "      <td>INFY</td>\n",
       "      <td>EQ</td>\n",
       "      <td>15-May-2017</td>\n",
       "      <td>964.25</td>\n",
       "      <td>963.5</td>\n",
       "      <td>963.50</td>\n",
       "      <td>949.10</td>\n",
       "      <td>953.25</td>\n",
       "      <td>951.55</td>\n",
       "      <td>951.49</td>\n",
       "      <td>3648582</td>\n",
       "      <td>3.471580e+09</td>\n",
       "      <td>75335</td>\n",
       "      <td>3052819</td>\n",
       "      <td>83.67</td>\n",
       "    </tr>\n",
       "    <tr>\n",
       "      <th>1</th>\n",
       "      <td>INFY</td>\n",
       "      <td>EQ</td>\n",
       "      <td>16-May-2017</td>\n",
       "      <td>951.55</td>\n",
       "      <td>953.1</td>\n",
       "      <td>960.15</td>\n",
       "      <td>946.95</td>\n",
       "      <td>956.00</td>\n",
       "      <td>955.00</td>\n",
       "      <td>952.92</td>\n",
       "      <td>3065084</td>\n",
       "      <td>2.920775e+09</td>\n",
       "      <td>71808</td>\n",
       "      <td>1858063</td>\n",
       "      <td>60.62</td>\n",
       "    </tr>\n",
       "    <tr>\n",
       "      <th>2</th>\n",
       "      <td>INFY</td>\n",
       "      <td>EQ</td>\n",
       "      <td>17-May-2017</td>\n",
       "      <td>955.00</td>\n",
       "      <td>951.6</td>\n",
       "      <td>958.45</td>\n",
       "      <td>943.85</td>\n",
       "      <td>952.90</td>\n",
       "      <td>952.80</td>\n",
       "      <td>949.48</td>\n",
       "      <td>1457754</td>\n",
       "      <td>1.384110e+09</td>\n",
       "      <td>75429</td>\n",
       "      <td>792251</td>\n",
       "      <td>54.35</td>\n",
       "    </tr>\n",
       "    <tr>\n",
       "      <th>3</th>\n",
       "      <td>INFY</td>\n",
       "      <td>EQ</td>\n",
       "      <td>18-May-2017</td>\n",
       "      <td>952.80</td>\n",
       "      <td>943.0</td>\n",
       "      <td>973.90</td>\n",
       "      <td>942.85</td>\n",
       "      <td>960.25</td>\n",
       "      <td>961.75</td>\n",
       "      <td>962.61</td>\n",
       "      <td>4028924</td>\n",
       "      <td>3.878282e+09</td>\n",
       "      <td>120990</td>\n",
       "      <td>2309450</td>\n",
       "      <td>57.32</td>\n",
       "    </tr>\n",
       "  </tbody>\n",
       "</table>\n",
       "</div>"
      ],
      "text/plain": [
       "  Symbol Series         Date  Prev Close  Open Price  High Price  Low Price  \\\n",
       "0   INFY     EQ  15-May-2017      964.25       963.5      963.50     949.10   \n",
       "1   INFY     EQ  16-May-2017      951.55       953.1      960.15     946.95   \n",
       "2   INFY     EQ  17-May-2017      955.00       951.6      958.45     943.85   \n",
       "3   INFY     EQ  18-May-2017      952.80       943.0      973.90     942.85   \n",
       "\n",
       "   Last Price  Close Price  Average Price  Total Traded Quantity  \\\n",
       "0      953.25       951.55         951.49                3648582   \n",
       "1      956.00       955.00         952.92                3065084   \n",
       "2      952.90       952.80         949.48                1457754   \n",
       "3      960.25       961.75         962.61                4028924   \n",
       "\n",
       "       Turnover  No. of Trades  Deliverable Qty  % Dly Qt to Traded Qty  \n",
       "0  3.471580e+09          75335          3052819                   83.67  \n",
       "1  2.920775e+09          71808          1858063                   60.62  \n",
       "2  1.384110e+09          75429           792251                   54.35  \n",
       "3  3.878282e+09         120990          2309450                   57.32  "
      ]
     },
     "execution_count": 2,
     "metadata": {},
     "output_type": "execute_result"
    }
   ],
   "source": [
    "stock_data = pd.read_csv('./INFY.csv')\n",
    "stock_data.head(4)"
   ]
  },
  {
   "cell_type": "markdown",
   "metadata": {},
   "source": [
    "#### 1.1.2 Check whether csv file has data on more than one category.\n",
    "\n",
    "- checking for the ‘Date’ column will have repeating values."
   ]
  },
  {
   "cell_type": "code",
   "execution_count": 3,
   "metadata": {},
   "outputs": [
    {
     "data": {
      "text/plain": [
       "array(['EQ', 'BL'], dtype=object)"
      ]
     },
     "execution_count": 3,
     "metadata": {},
     "output_type": "execute_result"
    }
   ],
   "source": [
    "# Categories in Series column\n",
    "stock_data.Series.unique()"
   ]
  },
  {
   "cell_type": "code",
   "execution_count": 4,
   "metadata": {},
   "outputs": [
    {
     "data": {
      "text/html": [
       "<div>\n",
       "<style scoped>\n",
       "    .dataframe tbody tr th:only-of-type {\n",
       "        vertical-align: middle;\n",
       "    }\n",
       "\n",
       "    .dataframe tbody tr th {\n",
       "        vertical-align: top;\n",
       "    }\n",
       "\n",
       "    .dataframe thead th {\n",
       "        text-align: right;\n",
       "    }\n",
       "</style>\n",
       "<table border=\"1\" class=\"dataframe\">\n",
       "  <thead>\n",
       "    <tr style=\"text-align: right;\">\n",
       "      <th></th>\n",
       "      <th>Symbol</th>\n",
       "      <th>Series</th>\n",
       "      <th>Date</th>\n",
       "      <th>Prev Close</th>\n",
       "      <th>Open Price</th>\n",
       "      <th>High Price</th>\n",
       "      <th>Low Price</th>\n",
       "      <th>Last Price</th>\n",
       "      <th>Close Price</th>\n",
       "      <th>Average Price</th>\n",
       "      <th>Total Traded Quantity</th>\n",
       "      <th>Turnover</th>\n",
       "      <th>No. of Trades</th>\n",
       "      <th>Deliverable Qty</th>\n",
       "      <th>% Dly Qt to Traded Qty</th>\n",
       "    </tr>\n",
       "  </thead>\n",
       "  <tbody>\n",
       "    <tr>\n",
       "      <th>444</th>\n",
       "      <td>INFY</td>\n",
       "      <td>BL</td>\n",
       "      <td>25-Feb-2019</td>\n",
       "      <td>1220.15</td>\n",
       "      <td>734.95</td>\n",
       "      <td>734.95</td>\n",
       "      <td>734.95</td>\n",
       "      <td>734.95</td>\n",
       "      <td>734.95</td>\n",
       "      <td>734.95</td>\n",
       "      <td>1263230</td>\n",
       "      <td>9.284109e+08</td>\n",
       "      <td>1</td>\n",
       "      <td>0</td>\n",
       "      <td>0.0</td>\n",
       "    </tr>\n",
       "    <tr>\n",
       "      <th>462</th>\n",
       "      <td>INFY</td>\n",
       "      <td>BL</td>\n",
       "      <td>22-Mar-2019</td>\n",
       "      <td>734.95</td>\n",
       "      <td>738.95</td>\n",
       "      <td>738.95</td>\n",
       "      <td>738.95</td>\n",
       "      <td>738.95</td>\n",
       "      <td>738.95</td>\n",
       "      <td>738.95</td>\n",
       "      <td>1727935</td>\n",
       "      <td>1.276858e+09</td>\n",
       "      <td>1</td>\n",
       "      <td>1727935</td>\n",
       "      <td>100.0</td>\n",
       "    </tr>\n",
       "  </tbody>\n",
       "</table>\n",
       "</div>"
      ],
      "text/plain": [
       "    Symbol Series         Date  Prev Close  Open Price  High Price  Low Price  \\\n",
       "444   INFY     BL  25-Feb-2019     1220.15      734.95      734.95     734.95   \n",
       "462   INFY     BL  22-Mar-2019      734.95      738.95      738.95     738.95   \n",
       "\n",
       "     Last Price  Close Price  Average Price  Total Traded Quantity  \\\n",
       "444      734.95       734.95         734.95                1263230   \n",
       "462      738.95       738.95         738.95                1727935   \n",
       "\n",
       "         Turnover  No. of Trades  Deliverable Qty  % Dly Qt to Traded Qty  \n",
       "444  9.284109e+08              1                0                     0.0  \n",
       "462  1.276858e+09              1          1727935                   100.0  "
      ]
     },
     "execution_count": 4,
     "metadata": {},
     "output_type": "execute_result"
    }
   ],
   "source": [
    "# All rows where Series have 'BL' category\n",
    "stock_data[stock_data.Series == 'BL']"
   ]
  },
  {
   "cell_type": "markdown",
   "metadata": {},
   "source": [
    "**Means `Series` column have data on more than one category.**<br>\n",
    "**Let's remove all the rows where `'Series'` column is NOT 'EQ', To avoid repetitions in the `date`.**"
   ]
  },
  {
   "cell_type": "markdown",
   "metadata": {},
   "source": [
    "#### 1.1.3 Remove all the rows where 'Series' column is NOT 'EQ'."
   ]
  },
  {
   "cell_type": "code",
   "execution_count": 5,
   "metadata": {},
   "outputs": [
    {
     "data": {
      "text/plain": [
       "array(['EQ'], dtype=object)"
      ]
     },
     "execution_count": 5,
     "metadata": {},
     "output_type": "execute_result"
    }
   ],
   "source": [
    "# Taking all rows which have 'EQ' in Series columns\n",
    "stock_data = stock_data[stock_data.Series == 'EQ']\n",
    "\n",
    "# To ensure only category in Series Columns\n",
    "stock_data.Series.unique()"
   ]
  },
  {
   "cell_type": "markdown",
   "metadata": {},
   "source": [
    "#### 1.1.4 Analyze and understand `stock_data` DataFrame properly."
   ]
  },
  {
   "cell_type": "code",
   "execution_count": 6,
   "metadata": {},
   "outputs": [
    {
     "data": {
      "text/html": [
       "<div>\n",
       "<style scoped>\n",
       "    .dataframe tbody tr th:only-of-type {\n",
       "        vertical-align: middle;\n",
       "    }\n",
       "\n",
       "    .dataframe tbody tr th {\n",
       "        vertical-align: top;\n",
       "    }\n",
       "\n",
       "    .dataframe thead th {\n",
       "        text-align: right;\n",
       "    }\n",
       "</style>\n",
       "<table border=\"1\" class=\"dataframe\">\n",
       "  <thead>\n",
       "    <tr style=\"text-align: right;\">\n",
       "      <th></th>\n",
       "      <th>Symbol</th>\n",
       "      <th>Series</th>\n",
       "      <th>Date</th>\n",
       "      <th>Prev Close</th>\n",
       "      <th>Open Price</th>\n",
       "      <th>High Price</th>\n",
       "      <th>Low Price</th>\n",
       "      <th>Last Price</th>\n",
       "      <th>Close Price</th>\n",
       "      <th>Average Price</th>\n",
       "      <th>Total Traded Quantity</th>\n",
       "      <th>Turnover</th>\n",
       "      <th>No. of Trades</th>\n",
       "      <th>Deliverable Qty</th>\n",
       "      <th>% Dly Qt to Traded Qty</th>\n",
       "    </tr>\n",
       "  </thead>\n",
       "  <tbody>\n",
       "    <tr>\n",
       "      <th>492</th>\n",
       "      <td>INFY</td>\n",
       "      <td>EQ</td>\n",
       "      <td>08-May-2019</td>\n",
       "      <td>724.55</td>\n",
       "      <td>721.00</td>\n",
       "      <td>726.00</td>\n",
       "      <td>716.5</td>\n",
       "      <td>718.95</td>\n",
       "      <td>719.35</td>\n",
       "      <td>721.65</td>\n",
       "      <td>6247642</td>\n",
       "      <td>4.508603e+09</td>\n",
       "      <td>162077</td>\n",
       "      <td>3950857</td>\n",
       "      <td>63.24</td>\n",
       "    </tr>\n",
       "    <tr>\n",
       "      <th>493</th>\n",
       "      <td>INFY</td>\n",
       "      <td>EQ</td>\n",
       "      <td>09-May-2019</td>\n",
       "      <td>719.35</td>\n",
       "      <td>719.15</td>\n",
       "      <td>730.30</td>\n",
       "      <td>715.8</td>\n",
       "      <td>722.00</td>\n",
       "      <td>721.05</td>\n",
       "      <td>724.48</td>\n",
       "      <td>7396525</td>\n",
       "      <td>5.358635e+09</td>\n",
       "      <td>242225</td>\n",
       "      <td>4808832</td>\n",
       "      <td>65.01</td>\n",
       "    </tr>\n",
       "    <tr>\n",
       "      <th>494</th>\n",
       "      <td>INFY</td>\n",
       "      <td>EQ</td>\n",
       "      <td>10-May-2019</td>\n",
       "      <td>721.05</td>\n",
       "      <td>720.80</td>\n",
       "      <td>726.00</td>\n",
       "      <td>715.0</td>\n",
       "      <td>716.50</td>\n",
       "      <td>716.85</td>\n",
       "      <td>717.88</td>\n",
       "      <td>8352335</td>\n",
       "      <td>5.995942e+09</td>\n",
       "      <td>181229</td>\n",
       "      <td>5545377</td>\n",
       "      <td>66.39</td>\n",
       "    </tr>\n",
       "    <tr>\n",
       "      <th>495</th>\n",
       "      <td>INFY</td>\n",
       "      <td>EQ</td>\n",
       "      <td>13-May-2019</td>\n",
       "      <td>716.85</td>\n",
       "      <td>716.55</td>\n",
       "      <td>726.45</td>\n",
       "      <td>712.1</td>\n",
       "      <td>718.00</td>\n",
       "      <td>719.70</td>\n",
       "      <td>720.09</td>\n",
       "      <td>6808993</td>\n",
       "      <td>4.903098e+09</td>\n",
       "      <td>201194</td>\n",
       "      <td>4745909</td>\n",
       "      <td>69.70</td>\n",
       "    </tr>\n",
       "  </tbody>\n",
       "</table>\n",
       "</div>"
      ],
      "text/plain": [
       "    Symbol Series         Date  Prev Close  Open Price  High Price  Low Price  \\\n",
       "492   INFY     EQ  08-May-2019      724.55      721.00      726.00      716.5   \n",
       "493   INFY     EQ  09-May-2019      719.35      719.15      730.30      715.8   \n",
       "494   INFY     EQ  10-May-2019      721.05      720.80      726.00      715.0   \n",
       "495   INFY     EQ  13-May-2019      716.85      716.55      726.45      712.1   \n",
       "\n",
       "     Last Price  Close Price  Average Price  Total Traded Quantity  \\\n",
       "492      718.95       719.35         721.65                6247642   \n",
       "493      722.00       721.05         724.48                7396525   \n",
       "494      716.50       716.85         717.88                8352335   \n",
       "495      718.00       719.70         720.09                6808993   \n",
       "\n",
       "         Turnover  No. of Trades  Deliverable Qty  % Dly Qt to Traded Qty  \n",
       "492  4.508603e+09         162077          3950857                   63.24  \n",
       "493  5.358635e+09         242225          4808832                   65.01  \n",
       "494  5.995942e+09         181229          5545377                   66.39  \n",
       "495  4.903098e+09         201194          4745909                   69.70  "
      ]
     },
     "execution_count": 6,
     "metadata": {},
     "output_type": "execute_result"
    }
   ],
   "source": [
    "# Checking Last 4 Rows\n",
    "stock_data.tail(4)"
   ]
  },
  {
   "cell_type": "code",
   "execution_count": 7,
   "metadata": {},
   "outputs": [
    {
     "data": {
      "text/html": [
       "<div>\n",
       "<style scoped>\n",
       "    .dataframe tbody tr th:only-of-type {\n",
       "        vertical-align: middle;\n",
       "    }\n",
       "\n",
       "    .dataframe tbody tr th {\n",
       "        vertical-align: top;\n",
       "    }\n",
       "\n",
       "    .dataframe thead th {\n",
       "        text-align: right;\n",
       "    }\n",
       "</style>\n",
       "<table border=\"1\" class=\"dataframe\">\n",
       "  <thead>\n",
       "    <tr style=\"text-align: right;\">\n",
       "      <th></th>\n",
       "      <th>Symbol</th>\n",
       "      <th>Series</th>\n",
       "      <th>Date</th>\n",
       "      <th>Prev Close</th>\n",
       "      <th>Open Price</th>\n",
       "      <th>High Price</th>\n",
       "      <th>Low Price</th>\n",
       "      <th>Last Price</th>\n",
       "      <th>Close Price</th>\n",
       "      <th>Average Price</th>\n",
       "      <th>Total Traded Quantity</th>\n",
       "      <th>Turnover</th>\n",
       "      <th>No. of Trades</th>\n",
       "      <th>Deliverable Qty</th>\n",
       "      <th>% Dly Qt to Traded Qty</th>\n",
       "    </tr>\n",
       "  </thead>\n",
       "  <tbody>\n",
       "    <tr>\n",
       "      <th>0</th>\n",
       "      <td>INFY</td>\n",
       "      <td>EQ</td>\n",
       "      <td>15-May-2017</td>\n",
       "      <td>964.25</td>\n",
       "      <td>963.5</td>\n",
       "      <td>963.50</td>\n",
       "      <td>949.10</td>\n",
       "      <td>953.25</td>\n",
       "      <td>951.55</td>\n",
       "      <td>951.49</td>\n",
       "      <td>3648582</td>\n",
       "      <td>3.471580e+09</td>\n",
       "      <td>75335</td>\n",
       "      <td>3052819</td>\n",
       "      <td>83.67</td>\n",
       "    </tr>\n",
       "    <tr>\n",
       "      <th>1</th>\n",
       "      <td>INFY</td>\n",
       "      <td>EQ</td>\n",
       "      <td>16-May-2017</td>\n",
       "      <td>951.55</td>\n",
       "      <td>953.1</td>\n",
       "      <td>960.15</td>\n",
       "      <td>946.95</td>\n",
       "      <td>956.00</td>\n",
       "      <td>955.00</td>\n",
       "      <td>952.92</td>\n",
       "      <td>3065084</td>\n",
       "      <td>2.920775e+09</td>\n",
       "      <td>71808</td>\n",
       "      <td>1858063</td>\n",
       "      <td>60.62</td>\n",
       "    </tr>\n",
       "    <tr>\n",
       "      <th>2</th>\n",
       "      <td>INFY</td>\n",
       "      <td>EQ</td>\n",
       "      <td>17-May-2017</td>\n",
       "      <td>955.00</td>\n",
       "      <td>951.6</td>\n",
       "      <td>958.45</td>\n",
       "      <td>943.85</td>\n",
       "      <td>952.90</td>\n",
       "      <td>952.80</td>\n",
       "      <td>949.48</td>\n",
       "      <td>1457754</td>\n",
       "      <td>1.384110e+09</td>\n",
       "      <td>75429</td>\n",
       "      <td>792251</td>\n",
       "      <td>54.35</td>\n",
       "    </tr>\n",
       "    <tr>\n",
       "      <th>3</th>\n",
       "      <td>INFY</td>\n",
       "      <td>EQ</td>\n",
       "      <td>18-May-2017</td>\n",
       "      <td>952.80</td>\n",
       "      <td>943.0</td>\n",
       "      <td>973.90</td>\n",
       "      <td>942.85</td>\n",
       "      <td>960.25</td>\n",
       "      <td>961.75</td>\n",
       "      <td>962.61</td>\n",
       "      <td>4028924</td>\n",
       "      <td>3.878282e+09</td>\n",
       "      <td>120990</td>\n",
       "      <td>2309450</td>\n",
       "      <td>57.32</td>\n",
       "    </tr>\n",
       "    <tr>\n",
       "      <th>4</th>\n",
       "      <td>INFY</td>\n",
       "      <td>EQ</td>\n",
       "      <td>19-May-2017</td>\n",
       "      <td>961.75</td>\n",
       "      <td>961.5</td>\n",
       "      <td>962.70</td>\n",
       "      <td>947.85</td>\n",
       "      <td>957.40</td>\n",
       "      <td>957.95</td>\n",
       "      <td>954.18</td>\n",
       "      <td>2128698</td>\n",
       "      <td>2.031155e+09</td>\n",
       "      <td>88897</td>\n",
       "      <td>1457747</td>\n",
       "      <td>68.48</td>\n",
       "    </tr>\n",
       "  </tbody>\n",
       "</table>\n",
       "</div>"
      ],
      "text/plain": [
       "  Symbol Series         Date  Prev Close  Open Price  High Price  Low Price  \\\n",
       "0   INFY     EQ  15-May-2017      964.25       963.5      963.50     949.10   \n",
       "1   INFY     EQ  16-May-2017      951.55       953.1      960.15     946.95   \n",
       "2   INFY     EQ  17-May-2017      955.00       951.6      958.45     943.85   \n",
       "3   INFY     EQ  18-May-2017      952.80       943.0      973.90     942.85   \n",
       "4   INFY     EQ  19-May-2017      961.75       961.5      962.70     947.85   \n",
       "\n",
       "   Last Price  Close Price  Average Price  Total Traded Quantity  \\\n",
       "0      953.25       951.55         951.49                3648582   \n",
       "1      956.00       955.00         952.92                3065084   \n",
       "2      952.90       952.80         949.48                1457754   \n",
       "3      960.25       961.75         962.61                4028924   \n",
       "4      957.40       957.95         954.18                2128698   \n",
       "\n",
       "       Turnover  No. of Trades  Deliverable Qty  % Dly Qt to Traded Qty  \n",
       "0  3.471580e+09          75335          3052819                   83.67  \n",
       "1  2.920775e+09          71808          1858063                   60.62  \n",
       "2  1.384110e+09          75429           792251                   54.35  \n",
       "3  3.878282e+09         120990          2309450                   57.32  \n",
       "4  2.031155e+09          88897          1457747                   68.48  "
      ]
     },
     "execution_count": 7,
     "metadata": {},
     "output_type": "execute_result"
    }
   ],
   "source": [
    "# Checking First 5 Rows\n",
    "stock_data.head()"
   ]
  },
  {
   "cell_type": "code",
   "execution_count": 8,
   "metadata": {},
   "outputs": [
    {
     "data": {
      "text/html": [
       "<div>\n",
       "<style scoped>\n",
       "    .dataframe tbody tr th:only-of-type {\n",
       "        vertical-align: middle;\n",
       "    }\n",
       "\n",
       "    .dataframe tbody tr th {\n",
       "        vertical-align: top;\n",
       "    }\n",
       "\n",
       "    .dataframe thead th {\n",
       "        text-align: right;\n",
       "    }\n",
       "</style>\n",
       "<table border=\"1\" class=\"dataframe\">\n",
       "  <thead>\n",
       "    <tr style=\"text-align: right;\">\n",
       "      <th></th>\n",
       "      <th>Prev Close</th>\n",
       "      <th>Open Price</th>\n",
       "      <th>High Price</th>\n",
       "      <th>Low Price</th>\n",
       "      <th>Last Price</th>\n",
       "      <th>Close Price</th>\n",
       "      <th>Average Price</th>\n",
       "      <th>Total Traded Quantity</th>\n",
       "      <th>Turnover</th>\n",
       "      <th>No. of Trades</th>\n",
       "      <th>Deliverable Qty</th>\n",
       "      <th>% Dly Qt to Traded Qty</th>\n",
       "    </tr>\n",
       "  </thead>\n",
       "  <tbody>\n",
       "    <tr>\n",
       "      <th>count</th>\n",
       "      <td>494.000000</td>\n",
       "      <td>494.000000</td>\n",
       "      <td>494.000000</td>\n",
       "      <td>494.000000</td>\n",
       "      <td>494.000000</td>\n",
       "      <td>494.000000</td>\n",
       "      <td>494.000000</td>\n",
       "      <td>4.940000e+02</td>\n",
       "      <td>4.940000e+02</td>\n",
       "      <td>4.940000e+02</td>\n",
       "      <td>4.940000e+02</td>\n",
       "      <td>494.000000</td>\n",
       "    </tr>\n",
       "    <tr>\n",
       "      <th>mean</th>\n",
       "      <td>961.440789</td>\n",
       "      <td>961.070040</td>\n",
       "      <td>971.092713</td>\n",
       "      <td>951.052733</td>\n",
       "      <td>960.845648</td>\n",
       "      <td>960.945749</td>\n",
       "      <td>961.166498</td>\n",
       "      <td>6.056365e+06</td>\n",
       "      <td>5.469840e+09</td>\n",
       "      <td>1.361482e+05</td>\n",
       "      <td>3.605878e+06</td>\n",
       "      <td>61.759008</td>\n",
       "    </tr>\n",
       "    <tr>\n",
       "      <th>std</th>\n",
       "      <td>220.761549</td>\n",
       "      <td>220.091227</td>\n",
       "      <td>222.968974</td>\n",
       "      <td>218.714372</td>\n",
       "      <td>220.968590</td>\n",
       "      <td>221.029267</td>\n",
       "      <td>221.102384</td>\n",
       "      <td>5.451445e+06</td>\n",
       "      <td>4.770342e+09</td>\n",
       "      <td>8.557589e+04</td>\n",
       "      <td>2.840733e+06</td>\n",
       "      <td>9.924135</td>\n",
       "    </tr>\n",
       "    <tr>\n",
       "      <th>min</th>\n",
       "      <td>619.100000</td>\n",
       "      <td>621.000000</td>\n",
       "      <td>628.000000</td>\n",
       "      <td>599.850000</td>\n",
       "      <td>619.500000</td>\n",
       "      <td>619.100000</td>\n",
       "      <td>613.780000</td>\n",
       "      <td>5.457170e+05</td>\n",
       "      <td>5.060941e+08</td>\n",
       "      <td>1.388600e+04</td>\n",
       "      <td>3.077410e+05</td>\n",
       "      <td>26.380000</td>\n",
       "    </tr>\n",
       "    <tr>\n",
       "      <th>25%</th>\n",
       "      <td>735.025000</td>\n",
       "      <td>736.187500</td>\n",
       "      <td>742.700000</td>\n",
       "      <td>729.012500</td>\n",
       "      <td>734.125000</td>\n",
       "      <td>734.462500</td>\n",
       "      <td>735.720000</td>\n",
       "      <td>3.148044e+06</td>\n",
       "      <td>3.350973e+09</td>\n",
       "      <td>9.246300e+04</td>\n",
       "      <td>2.064895e+06</td>\n",
       "      <td>55.142500</td>\n",
       "    </tr>\n",
       "    <tr>\n",
       "      <th>50%</th>\n",
       "      <td>956.750000</td>\n",
       "      <td>957.525000</td>\n",
       "      <td>964.775000</td>\n",
       "      <td>948.000000</td>\n",
       "      <td>956.025000</td>\n",
       "      <td>955.975000</td>\n",
       "      <td>955.060000</td>\n",
       "      <td>4.905804e+06</td>\n",
       "      <td>4.601808e+09</td>\n",
       "      <td>1.197605e+05</td>\n",
       "      <td>3.053880e+06</td>\n",
       "      <td>62.270000</td>\n",
       "    </tr>\n",
       "    <tr>\n",
       "      <th>75%</th>\n",
       "      <td>1150.150000</td>\n",
       "      <td>1145.412500</td>\n",
       "      <td>1161.675000</td>\n",
       "      <td>1135.962500</td>\n",
       "      <td>1147.950000</td>\n",
       "      <td>1150.150000</td>\n",
       "      <td>1148.280000</td>\n",
       "      <td>7.303918e+06</td>\n",
       "      <td>6.042062e+09</td>\n",
       "      <td>1.551745e+05</td>\n",
       "      <td>4.332777e+06</td>\n",
       "      <td>68.767500</td>\n",
       "    </tr>\n",
       "    <tr>\n",
       "      <th>max</th>\n",
       "      <td>1441.100000</td>\n",
       "      <td>1449.000000</td>\n",
       "      <td>1467.900000</td>\n",
       "      <td>1430.000000</td>\n",
       "      <td>1440.000000</td>\n",
       "      <td>1441.100000</td>\n",
       "      <td>1451.300000</td>\n",
       "      <td>8.220248e+07</td>\n",
       "      <td>7.662502e+10</td>\n",
       "      <td>1.192900e+06</td>\n",
       "      <td>4.202849e+07</td>\n",
       "      <td>88.700000</td>\n",
       "    </tr>\n",
       "  </tbody>\n",
       "</table>\n",
       "</div>"
      ],
      "text/plain": [
       "        Prev Close   Open Price   High Price    Low Price   Last Price  \\\n",
       "count   494.000000   494.000000   494.000000   494.000000   494.000000   \n",
       "mean    961.440789   961.070040   971.092713   951.052733   960.845648   \n",
       "std     220.761549   220.091227   222.968974   218.714372   220.968590   \n",
       "min     619.100000   621.000000   628.000000   599.850000   619.500000   \n",
       "25%     735.025000   736.187500   742.700000   729.012500   734.125000   \n",
       "50%     956.750000   957.525000   964.775000   948.000000   956.025000   \n",
       "75%    1150.150000  1145.412500  1161.675000  1135.962500  1147.950000   \n",
       "max    1441.100000  1449.000000  1467.900000  1430.000000  1440.000000   \n",
       "\n",
       "       Close Price  Average Price  Total Traded Quantity      Turnover  \\\n",
       "count   494.000000     494.000000           4.940000e+02  4.940000e+02   \n",
       "mean    960.945749     961.166498           6.056365e+06  5.469840e+09   \n",
       "std     221.029267     221.102384           5.451445e+06  4.770342e+09   \n",
       "min     619.100000     613.780000           5.457170e+05  5.060941e+08   \n",
       "25%     734.462500     735.720000           3.148044e+06  3.350973e+09   \n",
       "50%     955.975000     955.060000           4.905804e+06  4.601808e+09   \n",
       "75%    1150.150000    1148.280000           7.303918e+06  6.042062e+09   \n",
       "max    1441.100000    1451.300000           8.220248e+07  7.662502e+10   \n",
       "\n",
       "       No. of Trades  Deliverable Qty  % Dly Qt to Traded Qty  \n",
       "count   4.940000e+02     4.940000e+02              494.000000  \n",
       "mean    1.361482e+05     3.605878e+06               61.759008  \n",
       "std     8.557589e+04     2.840733e+06                9.924135  \n",
       "min     1.388600e+04     3.077410e+05               26.380000  \n",
       "25%     9.246300e+04     2.064895e+06               55.142500  \n",
       "50%     1.197605e+05     3.053880e+06               62.270000  \n",
       "75%     1.551745e+05     4.332777e+06               68.767500  \n",
       "max     1.192900e+06     4.202849e+07               88.700000  "
      ]
     },
     "execution_count": 8,
     "metadata": {},
     "output_type": "execute_result"
    }
   ],
   "source": [
    "# Generates descriptive statistics of stock_data\n",
    "stock_data.describe()"
   ]
  },
  {
   "cell_type": "markdown",
   "metadata": {},
   "source": [
    "## <a id='id2'>Query 1.2</a> \n",
    "Calculate the maximum, minimum and mean price for the last 90 days. (price=Closing Price unless stated otherwise)"
   ]
  },
  {
   "cell_type": "code",
   "execution_count": 9,
   "metadata": {
    "scrolled": true
   },
   "outputs": [
    {
     "data": {
      "text/plain": [
       "max     767.250000\n",
       "min     658.950000\n",
       "mean    728.602778\n",
       "Name: Close Price, dtype: float64"
      ]
     },
     "execution_count": 9,
     "metadata": {},
     "output_type": "execute_result"
    }
   ],
   "source": [
    "last_90_days = stock_data.tail(90)\n",
    "price = last_90_days['Close Price']\n",
    "max_min_mean = price.apply(['max', 'min', 'mean'])\n",
    "max_min_mean"
   ]
  },
  {
   "cell_type": "markdown",
   "metadata": {},
   "source": [
    " - **`tail(90)` - Gives last 90 rows which equivalent to last 90 days**.\n",
    " - **`['Close Price']` - For selecting Cloumn \"Closing Price\"**.\n",
    " - **`.apply()` - Use to apply different function on Column \"Close Price\"**."
   ]
  },
  {
   "cell_type": "code",
   "execution_count": 10,
   "metadata": {},
   "outputs": [
    {
     "data": {
      "text/plain": [
       "max     767.250000\n",
       "min     658.950000\n",
       "mean    728.602778\n",
       "Name: Close Price, dtype: float64"
      ]
     },
     "execution_count": 10,
     "metadata": {},
     "output_type": "execute_result"
    }
   ],
   "source": [
    "# Optimized way\n",
    "stock_data.tail(90)['Close Price'].apply(['max', 'min', 'mean'])"
   ]
  },
  {
   "cell_type": "markdown",
   "metadata": {},
   "source": [
    "## <a id='id3'>Query 1.3</a> \n",
    "Analyse the data types for each column of the dataframe. Pandas knows how to deal with dates in an intelligent manner. But to make use of Pandas functionality for dates, you need to ensure that the column is of type 'datetime64(ns)'. Change the date column from 'object' type to 'datetime64(ns)' for future convenience. See what happens if you subtract the minimum value of the date column from the maximum value."
   ]
  },
  {
   "cell_type": "markdown",
   "metadata": {},
   "source": [
    "#### 1.3.1 Analyse the data types for each column of the \"stock_data\""
   ]
  },
  {
   "cell_type": "code",
   "execution_count": 11,
   "metadata": {
    "scrolled": true
   },
   "outputs": [
    {
     "data": {
      "text/plain": [
       "Symbol                     object\n",
       "Series                     object\n",
       "Date                       object\n",
       "Prev Close                float64\n",
       "Open Price                float64\n",
       "High Price                float64\n",
       "Low Price                 float64\n",
       "Last Price                float64\n",
       "Close Price               float64\n",
       "Average Price             float64\n",
       "Total Traded Quantity       int64\n",
       "Turnover                  float64\n",
       "No. of Trades               int64\n",
       "Deliverable Qty             int64\n",
       "% Dly Qt to Traded Qty    float64\n",
       "dtype: object"
      ]
     },
     "execution_count": 11,
     "metadata": {},
     "output_type": "execute_result"
    }
   ],
   "source": [
    "#### 1.3.1 Analyse the data types for each column of the \"stock_data\"\n",
    "stock_data.dtypes"
   ]
  },
  {
   "cell_type": "markdown",
   "metadata": {},
   "source": [
    "#### 1.3.2 Changing the `date` column from 'object' type to 'datetime64(ns)'"
   ]
  },
  {
   "cell_type": "code",
   "execution_count": 12,
   "metadata": {
    "scrolled": true
   },
   "outputs": [
    {
     "data": {
      "text/plain": [
       "dtype('O')"
      ]
     },
     "execution_count": 12,
     "metadata": {},
     "output_type": "execute_result"
    }
   ],
   "source": [
    "# Date type of \"Date\" column in stock_data\n",
    "stock_data.Date.dtypes"
   ]
  },
  {
   "cell_type": "code",
   "execution_count": 13,
   "metadata": {},
   "outputs": [
    {
     "data": {
      "text/plain": [
       "True"
      ]
     },
     "execution_count": 13,
     "metadata": {},
     "output_type": "execute_result"
    }
   ],
   "source": [
    "# Showing dtype('O') is Object type\n",
    "pd.np.dtype('O') == pd.np.dtype('object')"
   ]
  },
  {
   "cell_type": "code",
   "execution_count": 14,
   "metadata": {},
   "outputs": [],
   "source": [
    "# Changing the `date` column from 'object' type to 'datetime64(ns)' \n",
    "stock_data.Date  = pd.to_datetime(stock_data.Date)"
   ]
  },
  {
   "cell_type": "code",
   "execution_count": 15,
   "metadata": {},
   "outputs": [
    {
     "data": {
      "text/plain": [
       "dtype('<M8[ns]')"
      ]
     },
     "execution_count": 15,
     "metadata": {},
     "output_type": "execute_result"
    }
   ],
   "source": [
    "# Check datatype of Date column\n",
    "stock_data.Date.dtype"
   ]
  },
  {
   "cell_type": "code",
   "execution_count": 16,
   "metadata": {},
   "outputs": [
    {
     "data": {
      "text/plain": [
       "True"
      ]
     },
     "execution_count": 16,
     "metadata": {},
     "output_type": "execute_result"
    }
   ],
   "source": [
    "# Showing dtype('<M8[ns]') is datetime64[ns] type\n",
    "pd.np.dtype('<M8[ns]') == pd.np.dtype('datetime64[ns]')"
   ]
  },
  {
   "cell_type": "code",
   "execution_count": 17,
   "metadata": {},
   "outputs": [
    {
     "data": {
      "text/plain": [
       "Symbol                            object\n",
       "Series                            object\n",
       "Date                      datetime64[ns]\n",
       "Prev Close                       float64\n",
       "Open Price                       float64\n",
       "High Price                       float64\n",
       "Low Price                        float64\n",
       "Last Price                       float64\n",
       "Close Price                      float64\n",
       "Average Price                    float64\n",
       "Total Traded Quantity              int64\n",
       "Turnover                         float64\n",
       "No. of Trades                      int64\n",
       "Deliverable Qty                    int64\n",
       "% Dly Qt to Traded Qty           float64\n",
       "dtype: object"
      ]
     },
     "execution_count": 17,
     "metadata": {},
     "output_type": "execute_result"
    }
   ],
   "source": [
    "# Checking Changed Datatypes\n",
    "stock_data.dtypes"
   ]
  },
  {
   "cell_type": "code",
   "execution_count": 18,
   "metadata": {
    "scrolled": true
   },
   "outputs": [
    {
     "data": {
      "text/html": [
       "<div>\n",
       "<style scoped>\n",
       "    .dataframe tbody tr th:only-of-type {\n",
       "        vertical-align: middle;\n",
       "    }\n",
       "\n",
       "    .dataframe tbody tr th {\n",
       "        vertical-align: top;\n",
       "    }\n",
       "\n",
       "    .dataframe thead th {\n",
       "        text-align: right;\n",
       "    }\n",
       "</style>\n",
       "<table border=\"1\" class=\"dataframe\">\n",
       "  <thead>\n",
       "    <tr style=\"text-align: right;\">\n",
       "      <th></th>\n",
       "      <th>Symbol</th>\n",
       "      <th>Series</th>\n",
       "      <th>Date</th>\n",
       "      <th>Prev Close</th>\n",
       "      <th>Open Price</th>\n",
       "      <th>High Price</th>\n",
       "      <th>Low Price</th>\n",
       "      <th>Last Price</th>\n",
       "      <th>Close Price</th>\n",
       "      <th>Average Price</th>\n",
       "      <th>Total Traded Quantity</th>\n",
       "      <th>Turnover</th>\n",
       "      <th>No. of Trades</th>\n",
       "      <th>Deliverable Qty</th>\n",
       "      <th>% Dly Qt to Traded Qty</th>\n",
       "    </tr>\n",
       "  </thead>\n",
       "  <tbody>\n",
       "    <tr>\n",
       "      <th>0</th>\n",
       "      <td>INFY</td>\n",
       "      <td>EQ</td>\n",
       "      <td>2017-05-15</td>\n",
       "      <td>964.25</td>\n",
       "      <td>963.5</td>\n",
       "      <td>963.50</td>\n",
       "      <td>949.10</td>\n",
       "      <td>953.25</td>\n",
       "      <td>951.55</td>\n",
       "      <td>951.49</td>\n",
       "      <td>3648582</td>\n",
       "      <td>3.471580e+09</td>\n",
       "      <td>75335</td>\n",
       "      <td>3052819</td>\n",
       "      <td>83.67</td>\n",
       "    </tr>\n",
       "    <tr>\n",
       "      <th>1</th>\n",
       "      <td>INFY</td>\n",
       "      <td>EQ</td>\n",
       "      <td>2017-05-16</td>\n",
       "      <td>951.55</td>\n",
       "      <td>953.1</td>\n",
       "      <td>960.15</td>\n",
       "      <td>946.95</td>\n",
       "      <td>956.00</td>\n",
       "      <td>955.00</td>\n",
       "      <td>952.92</td>\n",
       "      <td>3065084</td>\n",
       "      <td>2.920775e+09</td>\n",
       "      <td>71808</td>\n",
       "      <td>1858063</td>\n",
       "      <td>60.62</td>\n",
       "    </tr>\n",
       "    <tr>\n",
       "      <th>2</th>\n",
       "      <td>INFY</td>\n",
       "      <td>EQ</td>\n",
       "      <td>2017-05-17</td>\n",
       "      <td>955.00</td>\n",
       "      <td>951.6</td>\n",
       "      <td>958.45</td>\n",
       "      <td>943.85</td>\n",
       "      <td>952.90</td>\n",
       "      <td>952.80</td>\n",
       "      <td>949.48</td>\n",
       "      <td>1457754</td>\n",
       "      <td>1.384110e+09</td>\n",
       "      <td>75429</td>\n",
       "      <td>792251</td>\n",
       "      <td>54.35</td>\n",
       "    </tr>\n",
       "  </tbody>\n",
       "</table>\n",
       "</div>"
      ],
      "text/plain": [
       "  Symbol Series       Date  Prev Close  Open Price  High Price  Low Price  \\\n",
       "0   INFY     EQ 2017-05-15      964.25       963.5      963.50     949.10   \n",
       "1   INFY     EQ 2017-05-16      951.55       953.1      960.15     946.95   \n",
       "2   INFY     EQ 2017-05-17      955.00       951.6      958.45     943.85   \n",
       "\n",
       "   Last Price  Close Price  Average Price  Total Traded Quantity  \\\n",
       "0      953.25       951.55         951.49                3648582   \n",
       "1      956.00       955.00         952.92                3065084   \n",
       "2      952.90       952.80         949.48                1457754   \n",
       "\n",
       "       Turnover  No. of Trades  Deliverable Qty  % Dly Qt to Traded Qty  \n",
       "0  3.471580e+09          75335          3052819                   83.67  \n",
       "1  2.920775e+09          71808          1858063                   60.62  \n",
       "2  1.384110e+09          75429           792251                   54.35  "
      ]
     },
     "execution_count": 18,
     "metadata": {},
     "output_type": "execute_result"
    }
   ],
   "source": [
    "stock_data.head(3)"
   ]
  },
  {
   "cell_type": "markdown",
   "metadata": {},
   "source": [
    "#### 1.3.3 subtract the minimum value of the date column from the maximum value.\n",
    "\n",
    "- It will show total days between maximum and minimum of `Date` column."
   ]
  },
  {
   "cell_type": "code",
   "execution_count": 19,
   "metadata": {},
   "outputs": [
    {
     "data": {
      "text/plain": [
       "Timedelta('728 days 00:00:00')"
      ]
     },
     "execution_count": 19,
     "metadata": {},
     "output_type": "execute_result"
    }
   ],
   "source": [
    "stock_data.Date.max() - stock_data.Date.min()"
   ]
  },
  {
   "cell_type": "markdown",
   "metadata": {},
   "source": [
    "## <a id='id4'>Query 1.4</a> \n",
    "In a separate array , calculate the monthwise VWAP (Volume Weighted Average Price ) of the stock.<br>\n",
    "( VWAP = sum(price*volume)/sum(volume) )<br>\n",
    "To know more about VWAP , visit - [VWAP definition](https://www.investopedia.com/terms/v/vwap.asp)<br>\n",
    "{Hint : Create a new dataframe column ‘Month’. The values for this column can be derived from the ‘Date” column by using appropriate pandas functions. Similarly, create a column ‘Year’ and initialize it. Then use the 'groupby()' function by month and year. Finally, calculate the vwap value for each month (i.e. for each group created). "
   ]
  },
  {
   "cell_type": "code",
   "execution_count": 20,
   "metadata": {},
   "outputs": [],
   "source": [
    "# Create a new column ‘Year' in stock_data Dataframe\n",
    "stock_data['Year'] = pd.DatetimeIndex(stock_data.Date).year"
   ]
  },
  {
   "cell_type": "code",
   "execution_count": 21,
   "metadata": {},
   "outputs": [],
   "source": [
    "# Create a new column ‘Month' in stock_data Dataframe\n",
    "stock_data['Month'] = pd.DatetimeIndex(stock_data.Date).month"
   ]
  },
  {
   "cell_type": "markdown",
   "metadata": {},
   "source": [
    "#### Here\n",
    "- ####  \"`Total Traded Quantity`\" => Volume\n",
    "- #### \"`Average Price`\" => Price\n",
    "- #### \"`Turnover`\" => Price * Volume\n",
    "\n",
    "    - Product of total volume traded to the average price of a stock for the day.\n"
   ]
  },
  {
   "cell_type": "code",
   "execution_count": 22,
   "metadata": {
    "scrolled": true
   },
   "outputs": [
    {
     "data": {
      "text/html": [
       "<div>\n",
       "<style scoped>\n",
       "    .dataframe tbody tr th:only-of-type {\n",
       "        vertical-align: middle;\n",
       "    }\n",
       "\n",
       "    .dataframe tbody tr th {\n",
       "        vertical-align: top;\n",
       "    }\n",
       "\n",
       "    .dataframe thead th {\n",
       "        text-align: right;\n",
       "    }\n",
       "</style>\n",
       "<table border=\"1\" class=\"dataframe\">\n",
       "  <thead>\n",
       "    <tr style=\"text-align: right;\">\n",
       "      <th></th>\n",
       "      <th>Symbol</th>\n",
       "      <th>Series</th>\n",
       "      <th>Date</th>\n",
       "      <th>Prev Close</th>\n",
       "      <th>Open Price</th>\n",
       "      <th>High Price</th>\n",
       "      <th>Low Price</th>\n",
       "      <th>Last Price</th>\n",
       "      <th>Close Price</th>\n",
       "      <th>Average Price</th>\n",
       "      <th>Total Traded Quantity</th>\n",
       "      <th>Turnover</th>\n",
       "      <th>No. of Trades</th>\n",
       "      <th>Deliverable Qty</th>\n",
       "      <th>% Dly Qt to Traded Qty</th>\n",
       "      <th>Year</th>\n",
       "      <th>Month</th>\n",
       "    </tr>\n",
       "  </thead>\n",
       "  <tbody>\n",
       "    <tr>\n",
       "      <th>0</th>\n",
       "      <td>INFY</td>\n",
       "      <td>EQ</td>\n",
       "      <td>2017-05-15</td>\n",
       "      <td>964.25</td>\n",
       "      <td>963.5</td>\n",
       "      <td>963.50</td>\n",
       "      <td>949.10</td>\n",
       "      <td>953.25</td>\n",
       "      <td>951.55</td>\n",
       "      <td>951.49</td>\n",
       "      <td>3648582</td>\n",
       "      <td>3.471580e+09</td>\n",
       "      <td>75335</td>\n",
       "      <td>3052819</td>\n",
       "      <td>83.67</td>\n",
       "      <td>2017</td>\n",
       "      <td>5</td>\n",
       "    </tr>\n",
       "    <tr>\n",
       "      <th>1</th>\n",
       "      <td>INFY</td>\n",
       "      <td>EQ</td>\n",
       "      <td>2017-05-16</td>\n",
       "      <td>951.55</td>\n",
       "      <td>953.1</td>\n",
       "      <td>960.15</td>\n",
       "      <td>946.95</td>\n",
       "      <td>956.00</td>\n",
       "      <td>955.00</td>\n",
       "      <td>952.92</td>\n",
       "      <td>3065084</td>\n",
       "      <td>2.920775e+09</td>\n",
       "      <td>71808</td>\n",
       "      <td>1858063</td>\n",
       "      <td>60.62</td>\n",
       "      <td>2017</td>\n",
       "      <td>5</td>\n",
       "    </tr>\n",
       "    <tr>\n",
       "      <th>2</th>\n",
       "      <td>INFY</td>\n",
       "      <td>EQ</td>\n",
       "      <td>2017-05-17</td>\n",
       "      <td>955.00</td>\n",
       "      <td>951.6</td>\n",
       "      <td>958.45</td>\n",
       "      <td>943.85</td>\n",
       "      <td>952.90</td>\n",
       "      <td>952.80</td>\n",
       "      <td>949.48</td>\n",
       "      <td>1457754</td>\n",
       "      <td>1.384110e+09</td>\n",
       "      <td>75429</td>\n",
       "      <td>792251</td>\n",
       "      <td>54.35</td>\n",
       "      <td>2017</td>\n",
       "      <td>5</td>\n",
       "    </tr>\n",
       "    <tr>\n",
       "      <th>3</th>\n",
       "      <td>INFY</td>\n",
       "      <td>EQ</td>\n",
       "      <td>2017-05-18</td>\n",
       "      <td>952.80</td>\n",
       "      <td>943.0</td>\n",
       "      <td>973.90</td>\n",
       "      <td>942.85</td>\n",
       "      <td>960.25</td>\n",
       "      <td>961.75</td>\n",
       "      <td>962.61</td>\n",
       "      <td>4028924</td>\n",
       "      <td>3.878282e+09</td>\n",
       "      <td>120990</td>\n",
       "      <td>2309450</td>\n",
       "      <td>57.32</td>\n",
       "      <td>2017</td>\n",
       "      <td>5</td>\n",
       "    </tr>\n",
       "    <tr>\n",
       "      <th>4</th>\n",
       "      <td>INFY</td>\n",
       "      <td>EQ</td>\n",
       "      <td>2017-05-19</td>\n",
       "      <td>961.75</td>\n",
       "      <td>961.5</td>\n",
       "      <td>962.70</td>\n",
       "      <td>947.85</td>\n",
       "      <td>957.40</td>\n",
       "      <td>957.95</td>\n",
       "      <td>954.18</td>\n",
       "      <td>2128698</td>\n",
       "      <td>2.031155e+09</td>\n",
       "      <td>88897</td>\n",
       "      <td>1457747</td>\n",
       "      <td>68.48</td>\n",
       "      <td>2017</td>\n",
       "      <td>5</td>\n",
       "    </tr>\n",
       "  </tbody>\n",
       "</table>\n",
       "</div>"
      ],
      "text/plain": [
       "  Symbol Series       Date  Prev Close  Open Price  High Price  Low Price  \\\n",
       "0   INFY     EQ 2017-05-15      964.25       963.5      963.50     949.10   \n",
       "1   INFY     EQ 2017-05-16      951.55       953.1      960.15     946.95   \n",
       "2   INFY     EQ 2017-05-17      955.00       951.6      958.45     943.85   \n",
       "3   INFY     EQ 2017-05-18      952.80       943.0      973.90     942.85   \n",
       "4   INFY     EQ 2017-05-19      961.75       961.5      962.70     947.85   \n",
       "\n",
       "   Last Price  Close Price  Average Price  Total Traded Quantity  \\\n",
       "0      953.25       951.55         951.49                3648582   \n",
       "1      956.00       955.00         952.92                3065084   \n",
       "2      952.90       952.80         949.48                1457754   \n",
       "3      960.25       961.75         962.61                4028924   \n",
       "4      957.40       957.95         954.18                2128698   \n",
       "\n",
       "       Turnover  No. of Trades  Deliverable Qty  % Dly Qt to Traded Qty  Year  \\\n",
       "0  3.471580e+09          75335          3052819                   83.67  2017   \n",
       "1  2.920775e+09          71808          1858063                   60.62  2017   \n",
       "2  1.384110e+09          75429           792251                   54.35  2017   \n",
       "3  3.878282e+09         120990          2309450                   57.32  2017   \n",
       "4  2.031155e+09          88897          1457747                   68.48  2017   \n",
       "\n",
       "   Month  \n",
       "0      5  \n",
       "1      5  \n",
       "2      5  \n",
       "3      5  \n",
       "4      5  "
      ]
     },
     "execution_count": 22,
     "metadata": {},
     "output_type": "execute_result"
    }
   ],
   "source": [
    "stock_data.head()"
   ]
  },
  {
   "cell_type": "markdown",
   "metadata": {},
   "source": [
    "<h4 align=center>Let implement VWAP formula</h4>\n",
    "\n",
    "$$VWAP= \\frac{\\sum_{}price*volume}{\\sum_{}volume}$$\n",
    "\n",
    "$$VWAP= \\frac{\\sum_{}Turnover}{\\sum_{}Total Traded Quantity}$$"
   ]
  },
  {
   "cell_type": "code",
   "execution_count": 23,
   "metadata": {
    "scrolled": true
   },
   "outputs": [],
   "source": [
    "VWAP_numerator = stock_data.groupby(by=['Year', 'Month']).Turnover.sum()\n",
    "# VWAP_numerator"
   ]
  },
  {
   "cell_type": "code",
   "execution_count": 24,
   "metadata": {},
   "outputs": [],
   "source": [
    "VWAP_denominator = stock_data.groupby(by=['Year', 'Month'])[\"Total Traded Quantity\"].sum()\n",
    "# VWAP_denominator"
   ]
  },
  {
   "cell_type": "code",
   "execution_count": 25,
   "metadata": {},
   "outputs": [
    {
     "data": {
      "text/plain": [
       "Year  Month\n",
       "2017  5         968.537111\n",
       "      6         948.418827\n",
       "      7         981.300039\n",
       "      8         924.295777\n",
       "      9         897.289101\n",
       "      10        932.379024\n",
       "      11        968.930588\n",
       "      12       1011.191587\n",
       "2018  1        1113.080087\n",
       "      2        1138.761763\n",
       "      3        1163.889891\n",
       "      4        1151.846847\n",
       "      5        1199.100435\n",
       "      6        1262.187976\n",
       "      7        1331.158849\n",
       "      8        1395.890650\n",
       "      9         754.870986\n",
       "      10        689.418858\n",
       "      11        650.069640\n",
       "      12        670.268692\n",
       "2019  1         706.374185\n",
       "      2         745.845937\n",
       "      3         724.472135\n",
       "      4         738.362671\n",
       "      5         723.280201\n",
       "dtype: float64"
      ]
     },
     "execution_count": 25,
     "metadata": {},
     "output_type": "execute_result"
    }
   ],
   "source": [
    "VWAP_monthwise = VWAP_numerator / VWAP_denominator\n",
    "VWAP_monthwise"
   ]
  },
  {
   "cell_type": "markdown",
   "metadata": {},
   "source": [
    "## <a id='id5'>Query 1.5</a> \n",
    "Write a function to calculate the average price over the last N days of the stock price data where N is a user defined parameter. Write a second function to calculate the profit/loss percentage over the last N days.<br>\n",
    "Calculate the average price AND the profit/loss percentages over the course of last -<br>\n",
    "1 week, 2 weeks, 1 month, 3 months, 6 months and 1 year.<br>\n",
    "{Note : Profit/Loss percentage between N days is the percentage change between the closing prices of the 2 days }"
   ]
  },
  {
   "cell_type": "markdown",
   "metadata": {},
   "source": [
    "#### 1.5.1 Writing a function to calculate the average price over the last N days of the stock price data"
   ]
  },
  {
   "cell_type": "code",
   "execution_count": 26,
   "metadata": {},
   "outputs": [],
   "source": [
    "def last_N_days_avg_price(dataframe, N):\n",
    "    \"\"\"Help on method last_N_days_avg_price:\n",
    "    \n",
    "    last_N_days_avg_price(dataframe=None, N=None)\n",
    "    This function returns the average price over the last N days of the stock price data.\n",
    "    \n",
    "    Parameters\n",
    "    ----------\n",
    "    dataframe : Dataset or Dataframe of type pd.DataFrame.\n",
    "    N : Number of days (last N days).\n",
    "    \n",
    "    Returns\n",
    "    -------\n",
    "    float64 object\n",
    "    \n",
    "    Examples\n",
    "    --------\n",
    "    >>> last_N_days_avg_price(stock_dataframe, 23)\n",
    "    734.2352173913043    \n",
    "    \"\"\"\n",
    "    return dataframe.tail(N)[\"Average Price\"].mean()"
   ]
  },
  {
   "cell_type": "code",
   "execution_count": 27,
   "metadata": {},
   "outputs": [
    {
     "data": {
      "text/plain": [
       "732.259111111111"
      ]
     },
     "execution_count": 27,
     "metadata": {},
     "output_type": "execute_result"
    }
   ],
   "source": [
    "last_N_days_avg_price(stock_data, 45)"
   ]
  },
  {
   "cell_type": "markdown",
   "metadata": {},
   "source": [
    "#### 1.5.2 Write a second function to calculate the profit/loss percentage over the last N days."
   ]
  },
  {
   "cell_type": "markdown",
   "metadata": {},
   "source": [
    "$$Profit / Loss Percentage= \\frac{Close Price - Prev Close}{Prev Close}*100$$\n",
    "<br>\n",
    "<center># Positive Value shows Profit Percentage</center>\n",
    "<center># Negative Value shows Loss Percentage</center>"
   ]
  },
  {
   "cell_type": "code",
   "execution_count": 28,
   "metadata": {},
   "outputs": [],
   "source": [
    "def last_N_days_profit_loss_percentage(dataframe, N):\n",
    "    \"\"\"Help on method last_N_days_profit_loss_percentage:\n",
    "    \n",
    "    last_N_days_profit_loss_percentage(dataframe=None, N=None)\n",
    "    This function returns  the profit/loss percentage over the last N days of the stock price data.\n",
    "    If return is positive value, that is ``Profit Percentage``.\n",
    "    If return is Negative value, that is ``Loss Percentage``.\n",
    "    \n",
    "    Parameters\n",
    "    ----------\n",
    "    dataframe : Dataset or Dataframe of type pd.DataFrame.\n",
    "    N : Number of days (last N days).\n",
    "    \n",
    "    Returns\n",
    "    -------\n",
    "    Positive Value shows Profit Percentage.\n",
    "    Negative Value shows Loss Percentage.\n",
    "    float64 object\n",
    "    \n",
    "    Examples\n",
    "    --------\n",
    "    >>> last_N_days_profit_loss_percentage(stock_data,N=5)\n",
    "    -0.6693809951003947\n",
    "    \"\"\"\n",
    "    return ((dataframe[\"Close Price\"].iloc[-1] - dataframe[\"Close Price\"].iloc[-N])/dataframe[\"Close Price\"].iloc[-N])*100"
   ]
  },
  {
   "cell_type": "code",
   "execution_count": 29,
   "metadata": {},
   "outputs": [
    {
     "data": {
      "text/plain": [
       "-0.18722696068232567"
      ]
     },
     "execution_count": 29,
     "metadata": {},
     "output_type": "execute_result"
    }
   ],
   "source": [
    "# profit/loss percentage over the last N days.\n",
    "last_N_days_profit_loss_percentage(stock_data,N=3)"
   ]
  },
  {
   "cell_type": "markdown",
   "metadata": {},
   "source": [
    "#### 1.5.3 Calculate the Average Price over the course of last :\n",
    "- 1 week, \n",
    "- 2 weeks, \n",
    "- 1 month, \n",
    "- 3 months, \n",
    "- 6 months,\n",
    "- 1 year."
   ]
  },
  {
   "cell_type": "code",
   "execution_count": 30,
   "metadata": {},
   "outputs": [],
   "source": [
    "def avg_price(dataframe, days=None, weeks=None, months=None, years=None):\n",
    "    \"\"\"Help on method avg_price:\n",
    "    \n",
    "    avg_price(dataframe, days=None, weeks=None, months=None, years=None)\n",
    "    This function returns the average price over the last N days, weeks, months and years of the stock price data.\n",
    "    \n",
    "    Parameters\n",
    "    ----------\n",
    "    dataframe : Dataset or Dataframe of type pd.DataFrame.\n",
    "    days : Number of days (last N days).\n",
    "    weeks : Number of weeks (last N weeks).\n",
    "    months : Number of months (last N months).\n",
    "    years : Number of years (last N years).\n",
    "    \n",
    "    Returns\n",
    "    -------\n",
    "    float64 object\n",
    "    \n",
    "    Examples\n",
    "    --------\n",
    "    >>> last_N_days_avg_price(stock_dataframe, days=23)\n",
    "    Average Price For 23 days. \n",
    "    ----------\n",
    "    734.2352173913043 \n",
    "    \n",
    "    >>> avg_price(stock_data, weeks=1)\n",
    "    Average Price For 1 week. \n",
    "    ----------\n",
    "    721.722\n",
    "    \"\"\"\n",
    "    if days:\n",
    "        print(\"Average Price For\",days,\"day.\" if days==1 else \"days.\",\"\\n\",'-'*10)\n",
    "        return last_N_days_avg_price(dataframe, days)\n",
    "    \n",
    "    elif weeks:\n",
    "        print(\"Average Price For\",weeks,\"week.\" if weeks==1 else \"weeks.\",\"\\n\",'-'*10)\n",
    "        day = weeks * 5\n",
    "        return last_N_days_avg_price(dataframe, day)\n",
    "    \n",
    "    elif months:\n",
    "        print(\"Average Price For\",months,\"month.\" if months==1 else \"months.\",\"\\n\",'-'*10)\n",
    "        day = months * 21\n",
    "        return last_N_days_avg_price(dataframe, day)\n",
    "        \n",
    "    elif years:\n",
    "        print(\"Average Price For\",years,\"year.\" if years==1 else \"years.\",\"\\n\",'-'*10)\n",
    "        day = years * 252\n",
    "        return last_N_days_avg_price(dataframe, day)"
   ]
  },
  {
   "cell_type": "code",
   "execution_count": 31,
   "metadata": {},
   "outputs": [
    {
     "name": "stdout",
     "output_type": "stream",
     "text": [
      "Average Price For 1 week. \n",
      " ----------\n"
     ]
    },
    {
     "data": {
      "text/plain": [
       "721.722"
      ]
     },
     "execution_count": 31,
     "metadata": {},
     "output_type": "execute_result"
    }
   ],
   "source": [
    "# 1 week\n",
    "avg_price(stock_data, weeks=1)"
   ]
  },
  {
   "cell_type": "code",
   "execution_count": 32,
   "metadata": {},
   "outputs": [
    {
     "name": "stdout",
     "output_type": "stream",
     "text": [
      "Average Price For 2 weeks. \n",
      " ----------\n"
     ]
    },
    {
     "data": {
      "text/plain": [
       "727.4849999999999"
      ]
     },
     "execution_count": 32,
     "metadata": {},
     "output_type": "execute_result"
    }
   ],
   "source": [
    "# 2 week\n",
    "avg_price(stock_data, weeks=2)"
   ]
  },
  {
   "cell_type": "code",
   "execution_count": 33,
   "metadata": {},
   "outputs": [
    {
     "name": "stdout",
     "output_type": "stream",
     "text": [
      "Average Price For 1 month. \n",
      " ----------\n"
     ]
    },
    {
     "data": {
      "text/plain": [
       "731.7104761904762"
      ]
     },
     "execution_count": 33,
     "metadata": {},
     "output_type": "execute_result"
    }
   ],
   "source": [
    "# 1 month\n",
    "avg_price(stock_data, months=1)"
   ]
  },
  {
   "cell_type": "code",
   "execution_count": 34,
   "metadata": {
    "scrolled": true
   },
   "outputs": [
    {
     "name": "stdout",
     "output_type": "stream",
     "text": [
      "Average Price For 3 months. \n",
      " ----------\n"
     ]
    },
    {
     "data": {
      "text/plain": [
       "736.0587301587304"
      ]
     },
     "execution_count": 34,
     "metadata": {},
     "output_type": "execute_result"
    }
   ],
   "source": [
    "# 3 months\n",
    "avg_price(stock_data, months=3)"
   ]
  },
  {
   "cell_type": "code",
   "execution_count": 35,
   "metadata": {},
   "outputs": [
    {
     "name": "stdout",
     "output_type": "stream",
     "text": [
      "Average Price For 6 months. \n",
      " ----------\n"
     ]
    },
    {
     "data": {
      "text/plain": [
       "709.4751587301586"
      ]
     },
     "execution_count": 35,
     "metadata": {},
     "output_type": "execute_result"
    }
   ],
   "source": [
    "# 6 months\n",
    "avg_price(stock_data, months=6)"
   ]
  },
  {
   "cell_type": "code",
   "execution_count": 36,
   "metadata": {
    "scrolled": true
   },
   "outputs": [
    {
     "name": "stdout",
     "output_type": "stream",
     "text": [
      "Average Price For 1 year. \n",
      " ----------\n"
     ]
    },
    {
     "data": {
      "text/plain": [
       "907.0046031746027"
      ]
     },
     "execution_count": 36,
     "metadata": {},
     "output_type": "execute_result"
    }
   ],
   "source": [
    "# 1 year\n",
    "avg_price(stock_data, years=1)"
   ]
  },
  {
   "cell_type": "markdown",
   "metadata": {},
   "source": [
    "#### 1.5.4 Calculate the Profit/Loss Percentages over the course of last :\n",
    "- 1 week, \n",
    "- 2 weeks, \n",
    "- 1 month, \n",
    "- 3 months, \n",
    "- 6 months,\n",
    "- 1 year."
   ]
  },
  {
   "cell_type": "code",
   "execution_count": 37,
   "metadata": {},
   "outputs": [],
   "source": [
    "def profit_loss_percentage(dataframe, days=None, weeks=None, months=None, years=None):\n",
    "    \"\"\"Help on method profit_loss_percentage:\n",
    "    \n",
    "    profit_loss_percentage(dataframe, days=None, weeks=None, months=None, years=None)\n",
    "    This function returns  the profit/loss percentage over the last N days, weeks, months and years of the stock price data.\n",
    "    If return is positive value, that is ``Profit Percentage``.\n",
    "    If return is Negative value, that is ``Loss Percentage``.\n",
    "    \n",
    "    Parameters\n",
    "    ----------\n",
    "    dataframe : Dataset or Dataframe of type pd.DataFrame.\n",
    "    days : Number of days (last N days).\n",
    "    weeks : Number of weeks (last N weeks).\n",
    "    months : Number of months (last N months).\n",
    "    years : Number of years (last N years).\n",
    "    \n",
    "    Returns\n",
    "    -------\n",
    "    Positive Value shows Profit Percentage.\n",
    "    Negative Value shows Loss Percentage.\n",
    "    float64 object\n",
    "    \n",
    "    Examples\n",
    "    --------\n",
    "    >>> profit_loss_percentage(stock_data,days=3)\n",
    "    -0.18722696068232567\n",
    "\n",
    "    >>> profit_loss_percentage(stock_data,weeks=1)\n",
    "    -0.6693809951003947\n",
    "    \"\"\"\n",
    "    if days:\n",
    "        print(\"Profit/Loss Percentage For\",days,\"day.\" if days==1 else \"days.\",\"\\n\",'-'*10)\n",
    "        return last_N_days_profit_loss_percentage(dataframe, days)\n",
    "    \n",
    "    elif weeks:\n",
    "        print(\"Profit/Loss Percentage For\",weeks,\"week.\" if weeks==1 else \"weeks.\",\"\\n\",'-'*10)\n",
    "        day = weeks * 5\n",
    "        return last_N_days_profit_loss_percentage(dataframe, day)\n",
    "    \n",
    "    elif months:\n",
    "        print(\"Profit/Loss Percentage For\",months,\"month.\" if months==1 else \"months.\",\"\\n\",'-'*10)\n",
    "        day = months * 21\n",
    "        return last_N_days_profit_loss_percentage(dataframe, day)\n",
    "        \n",
    "    elif years:\n",
    "        print(\"Profit/Loss Percentage For\",years,\"year.\" if years==1 else \"years.\",\"\\n\",'-'*10)\n",
    "        day = years * 252\n",
    "        return last_N_days_profit_loss_percentage(dataframe, day)"
   ]
  },
  {
   "cell_type": "code",
   "execution_count": 38,
   "metadata": {},
   "outputs": [
    {
     "name": "stdout",
     "output_type": "stream",
     "text": [
      "Profit/Loss Percentage For 1 week. \n",
      " ----------\n"
     ]
    },
    {
     "data": {
      "text/plain": [
       "-0.6693809951003947"
      ]
     },
     "execution_count": 38,
     "metadata": {},
     "output_type": "execute_result"
    }
   ],
   "source": [
    "# 1 week\n",
    "profit_loss_percentage(stock_data, weeks=1)"
   ]
  },
  {
   "cell_type": "code",
   "execution_count": 39,
   "metadata": {},
   "outputs": [
    {
     "name": "stdout",
     "output_type": "stream",
     "text": [
      "Profit/Loss Percentage For 2 weeks. \n",
      " ----------\n"
     ]
    },
    {
     "data": {
      "text/plain": [
       "-2.4796747967479615"
      ]
     },
     "execution_count": 39,
     "metadata": {},
     "output_type": "execute_result"
    }
   ],
   "source": [
    "# 2 weeks\n",
    "profit_loss_percentage(stock_data, weeks=2)"
   ]
  },
  {
   "cell_type": "code",
   "execution_count": 40,
   "metadata": {
    "scrolled": true
   },
   "outputs": [
    {
     "name": "stdout",
     "output_type": "stream",
     "text": [
      "Profit/Loss Percentage For 1 month. \n",
      " ----------\n"
     ]
    },
    {
     "data": {
      "text/plain": [
       "-5.377333683933734"
      ]
     },
     "execution_count": 40,
     "metadata": {},
     "output_type": "execute_result"
    }
   ],
   "source": [
    "# 1 month\n",
    "profit_loss_percentage(stock_data, months=1)"
   ]
  },
  {
   "cell_type": "code",
   "execution_count": 41,
   "metadata": {},
   "outputs": [
    {
     "name": "stdout",
     "output_type": "stream",
     "text": [
      "Profit/Loss Percentage For 3 months. \n",
      " ----------\n"
     ]
    },
    {
     "data": {
      "text/plain": [
       "-5.712039827066673"
      ]
     },
     "execution_count": 41,
     "metadata": {},
     "output_type": "execute_result"
    }
   ],
   "source": [
    "# 3 months\n",
    "profit_loss_percentage(stock_data, months=3)"
   ]
  },
  {
   "cell_type": "code",
   "execution_count": 42,
   "metadata": {},
   "outputs": [
    {
     "name": "stdout",
     "output_type": "stream",
     "text": [
      "Profit/Loss Percentage For 6 months. \n",
      " ----------\n"
     ]
    },
    {
     "data": {
      "text/plain": [
       "7.990096781453972"
      ]
     },
     "execution_count": 42,
     "metadata": {},
     "output_type": "execute_result"
    }
   ],
   "source": [
    "# 6 months\n",
    "profit_loss_percentage(stock_data, months=6)"
   ]
  },
  {
   "cell_type": "code",
   "execution_count": 43,
   "metadata": {
    "scrolled": true
   },
   "outputs": [
    {
     "name": "stdout",
     "output_type": "stream",
     "text": [
      "Profit/Loss Percentage For 1 year. \n",
      " ----------\n"
     ]
    },
    {
     "data": {
      "text/plain": [
       "-38.649731480692175"
      ]
     },
     "execution_count": 43,
     "metadata": {},
     "output_type": "execute_result"
    }
   ],
   "source": [
    "# 1 year\n",
    "profit_loss_percentage(stock_data, years=1)"
   ]
  },
  {
   "cell_type": "markdown",
   "metadata": {},
   "source": [
    "## <a id='id6'>Query 1.6</a> \n",
    "Add a column 'Day_Perc_Change' where the values are the daily change in percentages i.e. the percentage change between 2 consecutive day's closing prices. Instead of using the basic mathematical formula for computing the same, use 'pct_change()' function provided by Pandas for dataframes. You will note that the first entry of the column will have a ‘Nan’ value. Why does this happen? Either remove the first row, or set the entry to 0 before proceeding."
   ]
  },
  {
   "cell_type": "code",
   "execution_count": 44,
   "metadata": {},
   "outputs": [
    {
     "data": {
      "text/html": [
       "<div>\n",
       "<style scoped>\n",
       "    .dataframe tbody tr th:only-of-type {\n",
       "        vertical-align: middle;\n",
       "    }\n",
       "\n",
       "    .dataframe tbody tr th {\n",
       "        vertical-align: top;\n",
       "    }\n",
       "\n",
       "    .dataframe thead th {\n",
       "        text-align: right;\n",
       "    }\n",
       "</style>\n",
       "<table border=\"1\" class=\"dataframe\">\n",
       "  <thead>\n",
       "    <tr style=\"text-align: right;\">\n",
       "      <th></th>\n",
       "      <th>Symbol</th>\n",
       "      <th>Series</th>\n",
       "      <th>Date</th>\n",
       "      <th>Prev Close</th>\n",
       "      <th>Open Price</th>\n",
       "      <th>High Price</th>\n",
       "      <th>Low Price</th>\n",
       "      <th>Last Price</th>\n",
       "      <th>Close Price</th>\n",
       "      <th>Average Price</th>\n",
       "      <th>Total Traded Quantity</th>\n",
       "      <th>Turnover</th>\n",
       "      <th>No. of Trades</th>\n",
       "      <th>Deliverable Qty</th>\n",
       "      <th>% Dly Qt to Traded Qty</th>\n",
       "      <th>Year</th>\n",
       "      <th>Month</th>\n",
       "      <th>Day_Perc_Change</th>\n",
       "    </tr>\n",
       "  </thead>\n",
       "  <tbody>\n",
       "    <tr>\n",
       "      <th>0</th>\n",
       "      <td>INFY</td>\n",
       "      <td>EQ</td>\n",
       "      <td>2017-05-15</td>\n",
       "      <td>964.25</td>\n",
       "      <td>963.50</td>\n",
       "      <td>963.50</td>\n",
       "      <td>949.10</td>\n",
       "      <td>953.25</td>\n",
       "      <td>951.55</td>\n",
       "      <td>951.49</td>\n",
       "      <td>3648582</td>\n",
       "      <td>3.471580e+09</td>\n",
       "      <td>75335</td>\n",
       "      <td>3052819</td>\n",
       "      <td>83.67</td>\n",
       "      <td>2017</td>\n",
       "      <td>5</td>\n",
       "      <td>0.000000</td>\n",
       "    </tr>\n",
       "    <tr>\n",
       "      <th>1</th>\n",
       "      <td>INFY</td>\n",
       "      <td>EQ</td>\n",
       "      <td>2017-05-16</td>\n",
       "      <td>951.55</td>\n",
       "      <td>953.10</td>\n",
       "      <td>960.15</td>\n",
       "      <td>946.95</td>\n",
       "      <td>956.00</td>\n",
       "      <td>955.00</td>\n",
       "      <td>952.92</td>\n",
       "      <td>3065084</td>\n",
       "      <td>2.920775e+09</td>\n",
       "      <td>71808</td>\n",
       "      <td>1858063</td>\n",
       "      <td>60.62</td>\n",
       "      <td>2017</td>\n",
       "      <td>5</td>\n",
       "      <td>0.362566</td>\n",
       "    </tr>\n",
       "    <tr>\n",
       "      <th>2</th>\n",
       "      <td>INFY</td>\n",
       "      <td>EQ</td>\n",
       "      <td>2017-05-17</td>\n",
       "      <td>955.00</td>\n",
       "      <td>951.60</td>\n",
       "      <td>958.45</td>\n",
       "      <td>943.85</td>\n",
       "      <td>952.90</td>\n",
       "      <td>952.80</td>\n",
       "      <td>949.48</td>\n",
       "      <td>1457754</td>\n",
       "      <td>1.384110e+09</td>\n",
       "      <td>75429</td>\n",
       "      <td>792251</td>\n",
       "      <td>54.35</td>\n",
       "      <td>2017</td>\n",
       "      <td>5</td>\n",
       "      <td>-0.230366</td>\n",
       "    </tr>\n",
       "    <tr>\n",
       "      <th>3</th>\n",
       "      <td>INFY</td>\n",
       "      <td>EQ</td>\n",
       "      <td>2017-05-18</td>\n",
       "      <td>952.80</td>\n",
       "      <td>943.00</td>\n",
       "      <td>973.90</td>\n",
       "      <td>942.85</td>\n",
       "      <td>960.25</td>\n",
       "      <td>961.75</td>\n",
       "      <td>962.61</td>\n",
       "      <td>4028924</td>\n",
       "      <td>3.878282e+09</td>\n",
       "      <td>120990</td>\n",
       "      <td>2309450</td>\n",
       "      <td>57.32</td>\n",
       "      <td>2017</td>\n",
       "      <td>5</td>\n",
       "      <td>0.939337</td>\n",
       "    </tr>\n",
       "    <tr>\n",
       "      <th>4</th>\n",
       "      <td>INFY</td>\n",
       "      <td>EQ</td>\n",
       "      <td>2017-05-19</td>\n",
       "      <td>961.75</td>\n",
       "      <td>961.50</td>\n",
       "      <td>962.70</td>\n",
       "      <td>947.85</td>\n",
       "      <td>957.40</td>\n",
       "      <td>957.95</td>\n",
       "      <td>954.18</td>\n",
       "      <td>2128698</td>\n",
       "      <td>2.031155e+09</td>\n",
       "      <td>88897</td>\n",
       "      <td>1457747</td>\n",
       "      <td>68.48</td>\n",
       "      <td>2017</td>\n",
       "      <td>5</td>\n",
       "      <td>-0.395113</td>\n",
       "    </tr>\n",
       "    <tr>\n",
       "      <th>5</th>\n",
       "      <td>INFY</td>\n",
       "      <td>EQ</td>\n",
       "      <td>2017-05-22</td>\n",
       "      <td>957.95</td>\n",
       "      <td>958.40</td>\n",
       "      <td>966.90</td>\n",
       "      <td>956.55</td>\n",
       "      <td>960.00</td>\n",
       "      <td>961.45</td>\n",
       "      <td>962.29</td>\n",
       "      <td>2751526</td>\n",
       "      <td>2.647755e+09</td>\n",
       "      <td>99616</td>\n",
       "      <td>2034031</td>\n",
       "      <td>73.92</td>\n",
       "      <td>2017</td>\n",
       "      <td>5</td>\n",
       "      <td>0.365364</td>\n",
       "    </tr>\n",
       "    <tr>\n",
       "      <th>6</th>\n",
       "      <td>INFY</td>\n",
       "      <td>EQ</td>\n",
       "      <td>2017-05-23</td>\n",
       "      <td>961.45</td>\n",
       "      <td>964.65</td>\n",
       "      <td>967.00</td>\n",
       "      <td>954.10</td>\n",
       "      <td>957.50</td>\n",
       "      <td>957.30</td>\n",
       "      <td>960.16</td>\n",
       "      <td>2019991</td>\n",
       "      <td>1.939515e+09</td>\n",
       "      <td>80122</td>\n",
       "      <td>1436389</td>\n",
       "      <td>71.11</td>\n",
       "      <td>2017</td>\n",
       "      <td>5</td>\n",
       "      <td>-0.431640</td>\n",
       "    </tr>\n",
       "    <tr>\n",
       "      <th>7</th>\n",
       "      <td>INFY</td>\n",
       "      <td>EQ</td>\n",
       "      <td>2017-05-24</td>\n",
       "      <td>957.30</td>\n",
       "      <td>960.00</td>\n",
       "      <td>965.50</td>\n",
       "      <td>949.60</td>\n",
       "      <td>957.00</td>\n",
       "      <td>954.80</td>\n",
       "      <td>958.37</td>\n",
       "      <td>2818143</td>\n",
       "      <td>2.700827e+09</td>\n",
       "      <td>56898</td>\n",
       "      <td>1913750</td>\n",
       "      <td>67.91</td>\n",
       "      <td>2017</td>\n",
       "      <td>5</td>\n",
       "      <td>-0.261151</td>\n",
       "    </tr>\n",
       "    <tr>\n",
       "      <th>8</th>\n",
       "      <td>INFY</td>\n",
       "      <td>EQ</td>\n",
       "      <td>2017-05-25</td>\n",
       "      <td>954.80</td>\n",
       "      <td>961.00</td>\n",
       "      <td>986.60</td>\n",
       "      <td>961.00</td>\n",
       "      <td>981.00</td>\n",
       "      <td>983.30</td>\n",
       "      <td>978.16</td>\n",
       "      <td>5219257</td>\n",
       "      <td>5.105250e+09</td>\n",
       "      <td>76160</td>\n",
       "      <td>4108984</td>\n",
       "      <td>78.73</td>\n",
       "      <td>2017</td>\n",
       "      <td>5</td>\n",
       "      <td>2.984918</td>\n",
       "    </tr>\n",
       "    <tr>\n",
       "      <th>9</th>\n",
       "      <td>INFY</td>\n",
       "      <td>EQ</td>\n",
       "      <td>2017-05-26</td>\n",
       "      <td>983.30</td>\n",
       "      <td>987.00</td>\n",
       "      <td>1000.00</td>\n",
       "      <td>980.60</td>\n",
       "      <td>996.05</td>\n",
       "      <td>995.70</td>\n",
       "      <td>994.06</td>\n",
       "      <td>2494002</td>\n",
       "      <td>2.479194e+09</td>\n",
       "      <td>63671</td>\n",
       "      <td>1477643</td>\n",
       "      <td>59.25</td>\n",
       "      <td>2017</td>\n",
       "      <td>5</td>\n",
       "      <td>1.261060</td>\n",
       "    </tr>\n",
       "  </tbody>\n",
       "</table>\n",
       "</div>"
      ],
      "text/plain": [
       "  Symbol Series       Date  Prev Close  Open Price  High Price  Low Price  \\\n",
       "0   INFY     EQ 2017-05-15      964.25      963.50      963.50     949.10   \n",
       "1   INFY     EQ 2017-05-16      951.55      953.10      960.15     946.95   \n",
       "2   INFY     EQ 2017-05-17      955.00      951.60      958.45     943.85   \n",
       "3   INFY     EQ 2017-05-18      952.80      943.00      973.90     942.85   \n",
       "4   INFY     EQ 2017-05-19      961.75      961.50      962.70     947.85   \n",
       "5   INFY     EQ 2017-05-22      957.95      958.40      966.90     956.55   \n",
       "6   INFY     EQ 2017-05-23      961.45      964.65      967.00     954.10   \n",
       "7   INFY     EQ 2017-05-24      957.30      960.00      965.50     949.60   \n",
       "8   INFY     EQ 2017-05-25      954.80      961.00      986.60     961.00   \n",
       "9   INFY     EQ 2017-05-26      983.30      987.00     1000.00     980.60   \n",
       "\n",
       "   Last Price  Close Price  Average Price  Total Traded Quantity  \\\n",
       "0      953.25       951.55         951.49                3648582   \n",
       "1      956.00       955.00         952.92                3065084   \n",
       "2      952.90       952.80         949.48                1457754   \n",
       "3      960.25       961.75         962.61                4028924   \n",
       "4      957.40       957.95         954.18                2128698   \n",
       "5      960.00       961.45         962.29                2751526   \n",
       "6      957.50       957.30         960.16                2019991   \n",
       "7      957.00       954.80         958.37                2818143   \n",
       "8      981.00       983.30         978.16                5219257   \n",
       "9      996.05       995.70         994.06                2494002   \n",
       "\n",
       "       Turnover  No. of Trades  Deliverable Qty  % Dly Qt to Traded Qty  Year  \\\n",
       "0  3.471580e+09          75335          3052819                   83.67  2017   \n",
       "1  2.920775e+09          71808          1858063                   60.62  2017   \n",
       "2  1.384110e+09          75429           792251                   54.35  2017   \n",
       "3  3.878282e+09         120990          2309450                   57.32  2017   \n",
       "4  2.031155e+09          88897          1457747                   68.48  2017   \n",
       "5  2.647755e+09          99616          2034031                   73.92  2017   \n",
       "6  1.939515e+09          80122          1436389                   71.11  2017   \n",
       "7  2.700827e+09          56898          1913750                   67.91  2017   \n",
       "8  5.105250e+09          76160          4108984                   78.73  2017   \n",
       "9  2.479194e+09          63671          1477643                   59.25  2017   \n",
       "\n",
       "   Month  Day_Perc_Change  \n",
       "0      5         0.000000  \n",
       "1      5         0.362566  \n",
       "2      5        -0.230366  \n",
       "3      5         0.939337  \n",
       "4      5        -0.395113  \n",
       "5      5         0.365364  \n",
       "6      5        -0.431640  \n",
       "7      5        -0.261151  \n",
       "8      5         2.984918  \n",
       "9      5         1.261060  "
      ]
     },
     "execution_count": 44,
     "metadata": {},
     "output_type": "execute_result"
    }
   ],
   "source": [
    "# calculate Day Percentage Change and fill NaN with value 0.00\n",
    "stock_data[\"Day_Perc_Change\"] = stock_data[\"Close Price\"].pct_change().fillna(value=0)*100\n",
    "stock_data.head(10)"
   ]
  },
  {
   "cell_type": "markdown",
   "metadata": {},
   "source": [
    "## <a id='id7'>Query 1.7</a> \n",
    "Add another column 'Trend' whose values are:\n",
    "\n",
    "- **'Slight or No change'** for 'Day_Perc_Change' in between -0.5 and 0.5\n",
    "- **'Slight positive'** for 'Day_Perc_Change' in between 0.5 and 1\n",
    "- **'Slight negative'** for 'Day_Perc_Change' in between -0.5 and -1\n",
    "- **'Positive'** for 'Day_Perc_Change' in between 1 and 3\n",
    "- **'Negative'** for 'Day_Perc_Change' in between -1 and -3\n",
    "- **'Among top gainers'** for 'Day_Perc_Change' in between 3 and 7\n",
    "- **'Among top losers'** for 'Day_Perc_Change' in between -3 and -7\n",
    "- **'Bull run'** for 'Day_Perc_Change' >7\n",
    "- **'Bear drop'** for 'Day_Perc_Change' <-7"
   ]
  },
  {
   "cell_type": "code",
   "execution_count": 45,
   "metadata": {},
   "outputs": [
    {
     "data": {
      "text/plain": [
       "[-inf, -7, -3, -1, -0.5, 0.5, 1, 3, 7, inf]"
      ]
     },
     "execution_count": 45,
     "metadata": {},
     "output_type": "execute_result"
    }
   ],
   "source": [
    "Category_bins = [-pd.np.inf, -7, -3, -1, -0.5, 0.5, 1, 3, 7, pd.np.inf]\n",
    "Category_bins"
   ]
  },
  {
   "cell_type": "code",
   "execution_count": 46,
   "metadata": {},
   "outputs": [
    {
     "data": {
      "text/plain": [
       "['Bear drop',\n",
       " 'Among top losers',\n",
       " 'Negative',\n",
       " 'Slight negative',\n",
       " 'Slight or No change',\n",
       " 'Slight positive',\n",
       " 'Positive',\n",
       " 'Among top gainers',\n",
       " 'Bull run']"
      ]
     },
     "execution_count": 46,
     "metadata": {},
     "output_type": "execute_result"
    }
   ],
   "source": [
    "Category_labels = ['Bear drop','Among top losers','Negative','Slight negative','Slight or No change','Slight positive','Positive','Among top gainers','Bull run']\n",
    "Category_labels"
   ]
  },
  {
   "cell_type": "code",
   "execution_count": 47,
   "metadata": {},
   "outputs": [
    {
     "data": {
      "text/html": [
       "<div>\n",
       "<style scoped>\n",
       "    .dataframe tbody tr th:only-of-type {\n",
       "        vertical-align: middle;\n",
       "    }\n",
       "\n",
       "    .dataframe tbody tr th {\n",
       "        vertical-align: top;\n",
       "    }\n",
       "\n",
       "    .dataframe thead th {\n",
       "        text-align: right;\n",
       "    }\n",
       "</style>\n",
       "<table border=\"1\" class=\"dataframe\">\n",
       "  <thead>\n",
       "    <tr style=\"text-align: right;\">\n",
       "      <th></th>\n",
       "      <th>Symbol</th>\n",
       "      <th>Series</th>\n",
       "      <th>Date</th>\n",
       "      <th>Prev Close</th>\n",
       "      <th>Open Price</th>\n",
       "      <th>High Price</th>\n",
       "      <th>Low Price</th>\n",
       "      <th>Last Price</th>\n",
       "      <th>Close Price</th>\n",
       "      <th>Average Price</th>\n",
       "      <th>Total Traded Quantity</th>\n",
       "      <th>Turnover</th>\n",
       "      <th>No. of Trades</th>\n",
       "      <th>Deliverable Qty</th>\n",
       "      <th>% Dly Qt to Traded Qty</th>\n",
       "      <th>Year</th>\n",
       "      <th>Month</th>\n",
       "      <th>Day_Perc_Change</th>\n",
       "      <th>Trend</th>\n",
       "    </tr>\n",
       "  </thead>\n",
       "  <tbody>\n",
       "    <tr>\n",
       "      <th>0</th>\n",
       "      <td>INFY</td>\n",
       "      <td>EQ</td>\n",
       "      <td>2017-05-15</td>\n",
       "      <td>964.25</td>\n",
       "      <td>963.5</td>\n",
       "      <td>963.50</td>\n",
       "      <td>949.10</td>\n",
       "      <td>953.25</td>\n",
       "      <td>951.55</td>\n",
       "      <td>951.49</td>\n",
       "      <td>3648582</td>\n",
       "      <td>3.471580e+09</td>\n",
       "      <td>75335</td>\n",
       "      <td>3052819</td>\n",
       "      <td>83.67</td>\n",
       "      <td>2017</td>\n",
       "      <td>5</td>\n",
       "      <td>0.000000</td>\n",
       "      <td>Slight or No change</td>\n",
       "    </tr>\n",
       "    <tr>\n",
       "      <th>1</th>\n",
       "      <td>INFY</td>\n",
       "      <td>EQ</td>\n",
       "      <td>2017-05-16</td>\n",
       "      <td>951.55</td>\n",
       "      <td>953.1</td>\n",
       "      <td>960.15</td>\n",
       "      <td>946.95</td>\n",
       "      <td>956.00</td>\n",
       "      <td>955.00</td>\n",
       "      <td>952.92</td>\n",
       "      <td>3065084</td>\n",
       "      <td>2.920775e+09</td>\n",
       "      <td>71808</td>\n",
       "      <td>1858063</td>\n",
       "      <td>60.62</td>\n",
       "      <td>2017</td>\n",
       "      <td>5</td>\n",
       "      <td>0.362566</td>\n",
       "      <td>Slight or No change</td>\n",
       "    </tr>\n",
       "    <tr>\n",
       "      <th>2</th>\n",
       "      <td>INFY</td>\n",
       "      <td>EQ</td>\n",
       "      <td>2017-05-17</td>\n",
       "      <td>955.00</td>\n",
       "      <td>951.6</td>\n",
       "      <td>958.45</td>\n",
       "      <td>943.85</td>\n",
       "      <td>952.90</td>\n",
       "      <td>952.80</td>\n",
       "      <td>949.48</td>\n",
       "      <td>1457754</td>\n",
       "      <td>1.384110e+09</td>\n",
       "      <td>75429</td>\n",
       "      <td>792251</td>\n",
       "      <td>54.35</td>\n",
       "      <td>2017</td>\n",
       "      <td>5</td>\n",
       "      <td>-0.230366</td>\n",
       "      <td>Slight or No change</td>\n",
       "    </tr>\n",
       "    <tr>\n",
       "      <th>3</th>\n",
       "      <td>INFY</td>\n",
       "      <td>EQ</td>\n",
       "      <td>2017-05-18</td>\n",
       "      <td>952.80</td>\n",
       "      <td>943.0</td>\n",
       "      <td>973.90</td>\n",
       "      <td>942.85</td>\n",
       "      <td>960.25</td>\n",
       "      <td>961.75</td>\n",
       "      <td>962.61</td>\n",
       "      <td>4028924</td>\n",
       "      <td>3.878282e+09</td>\n",
       "      <td>120990</td>\n",
       "      <td>2309450</td>\n",
       "      <td>57.32</td>\n",
       "      <td>2017</td>\n",
       "      <td>5</td>\n",
       "      <td>0.939337</td>\n",
       "      <td>Slight positive</td>\n",
       "    </tr>\n",
       "    <tr>\n",
       "      <th>4</th>\n",
       "      <td>INFY</td>\n",
       "      <td>EQ</td>\n",
       "      <td>2017-05-19</td>\n",
       "      <td>961.75</td>\n",
       "      <td>961.5</td>\n",
       "      <td>962.70</td>\n",
       "      <td>947.85</td>\n",
       "      <td>957.40</td>\n",
       "      <td>957.95</td>\n",
       "      <td>954.18</td>\n",
       "      <td>2128698</td>\n",
       "      <td>2.031155e+09</td>\n",
       "      <td>88897</td>\n",
       "      <td>1457747</td>\n",
       "      <td>68.48</td>\n",
       "      <td>2017</td>\n",
       "      <td>5</td>\n",
       "      <td>-0.395113</td>\n",
       "      <td>Slight or No change</td>\n",
       "    </tr>\n",
       "  </tbody>\n",
       "</table>\n",
       "</div>"
      ],
      "text/plain": [
       "  Symbol Series       Date  Prev Close  Open Price  High Price  Low Price  \\\n",
       "0   INFY     EQ 2017-05-15      964.25       963.5      963.50     949.10   \n",
       "1   INFY     EQ 2017-05-16      951.55       953.1      960.15     946.95   \n",
       "2   INFY     EQ 2017-05-17      955.00       951.6      958.45     943.85   \n",
       "3   INFY     EQ 2017-05-18      952.80       943.0      973.90     942.85   \n",
       "4   INFY     EQ 2017-05-19      961.75       961.5      962.70     947.85   \n",
       "\n",
       "   Last Price  Close Price  Average Price  Total Traded Quantity  \\\n",
       "0      953.25       951.55         951.49                3648582   \n",
       "1      956.00       955.00         952.92                3065084   \n",
       "2      952.90       952.80         949.48                1457754   \n",
       "3      960.25       961.75         962.61                4028924   \n",
       "4      957.40       957.95         954.18                2128698   \n",
       "\n",
       "       Turnover  No. of Trades  Deliverable Qty  % Dly Qt to Traded Qty  Year  \\\n",
       "0  3.471580e+09          75335          3052819                   83.67  2017   \n",
       "1  2.920775e+09          71808          1858063                   60.62  2017   \n",
       "2  1.384110e+09          75429           792251                   54.35  2017   \n",
       "3  3.878282e+09         120990          2309450                   57.32  2017   \n",
       "4  2.031155e+09          88897          1457747                   68.48  2017   \n",
       "\n",
       "   Month  Day_Perc_Change                Trend  \n",
       "0      5         0.000000  Slight or No change  \n",
       "1      5         0.362566  Slight or No change  \n",
       "2      5        -0.230366  Slight or No change  \n",
       "3      5         0.939337      Slight positive  \n",
       "4      5        -0.395113  Slight or No change  "
      ]
     },
     "execution_count": 47,
     "metadata": {},
     "output_type": "execute_result"
    }
   ],
   "source": [
    "stock_data['Trend'] = pd.cut(stock_data.Day_Perc_Change, bins=Category_bins, labels=Category_labels, include_lowest=True)\n",
    "stock_data.head()"
   ]
  },
  {
   "cell_type": "code",
   "execution_count": 48,
   "metadata": {},
   "outputs": [
    {
     "data": {
      "text/html": [
       "<div>\n",
       "<style scoped>\n",
       "    .dataframe tbody tr th:only-of-type {\n",
       "        vertical-align: middle;\n",
       "    }\n",
       "\n",
       "    .dataframe tbody tr th {\n",
       "        vertical-align: top;\n",
       "    }\n",
       "\n",
       "    .dataframe thead th {\n",
       "        text-align: right;\n",
       "    }\n",
       "</style>\n",
       "<table border=\"1\" class=\"dataframe\">\n",
       "  <thead>\n",
       "    <tr style=\"text-align: right;\">\n",
       "      <th></th>\n",
       "      <th>Day_Perc_Change</th>\n",
       "      <th>Trend</th>\n",
       "    </tr>\n",
       "  </thead>\n",
       "  <tbody>\n",
       "    <tr>\n",
       "      <th>0</th>\n",
       "      <td>0.000000</td>\n",
       "      <td>Slight or No change</td>\n",
       "    </tr>\n",
       "    <tr>\n",
       "      <th>1</th>\n",
       "      <td>0.362566</td>\n",
       "      <td>Slight or No change</td>\n",
       "    </tr>\n",
       "    <tr>\n",
       "      <th>2</th>\n",
       "      <td>-0.230366</td>\n",
       "      <td>Slight or No change</td>\n",
       "    </tr>\n",
       "    <tr>\n",
       "      <th>3</th>\n",
       "      <td>0.939337</td>\n",
       "      <td>Slight positive</td>\n",
       "    </tr>\n",
       "    <tr>\n",
       "      <th>4</th>\n",
       "      <td>-0.395113</td>\n",
       "      <td>Slight or No change</td>\n",
       "    </tr>\n",
       "    <tr>\n",
       "      <th>5</th>\n",
       "      <td>0.365364</td>\n",
       "      <td>Slight or No change</td>\n",
       "    </tr>\n",
       "    <tr>\n",
       "      <th>6</th>\n",
       "      <td>-0.431640</td>\n",
       "      <td>Slight or No change</td>\n",
       "    </tr>\n",
       "    <tr>\n",
       "      <th>7</th>\n",
       "      <td>-0.261151</td>\n",
       "      <td>Slight or No change</td>\n",
       "    </tr>\n",
       "    <tr>\n",
       "      <th>8</th>\n",
       "      <td>2.984918</td>\n",
       "      <td>Positive</td>\n",
       "    </tr>\n",
       "    <tr>\n",
       "      <th>9</th>\n",
       "      <td>1.261060</td>\n",
       "      <td>Positive</td>\n",
       "    </tr>\n",
       "  </tbody>\n",
       "</table>\n",
       "</div>"
      ],
      "text/plain": [
       "   Day_Perc_Change                Trend\n",
       "0         0.000000  Slight or No change\n",
       "1         0.362566  Slight or No change\n",
       "2        -0.230366  Slight or No change\n",
       "3         0.939337      Slight positive\n",
       "4        -0.395113  Slight or No change\n",
       "5         0.365364  Slight or No change\n",
       "6        -0.431640  Slight or No change\n",
       "7        -0.261151  Slight or No change\n",
       "8         2.984918             Positive\n",
       "9         1.261060             Positive"
      ]
     },
     "execution_count": 48,
     "metadata": {},
     "output_type": "execute_result"
    }
   ],
   "source": [
    "# Print the first 10 values with only \"Day_Perc_Change\" and \"Trend\" columns\n",
    "stock_data.iloc[:10, -2:]"
   ]
  },
  {
   "cell_type": "markdown",
   "metadata": {},
   "source": [
    "## <a id='id8'>Query 1.8</a> \n",
    "Find the average and median values of the column 'Total Traded Quantity' for each of the types of 'Trend'.<br>\n",
    "{Hint : use 'groupby()' on the 'Trend' column and then calculate the average and median values of the column 'Total Traded Quantity'} "
   ]
  },
  {
   "cell_type": "code",
   "execution_count": 49,
   "metadata": {},
   "outputs": [
    {
     "data": {
      "text/html": [
       "<div>\n",
       "<style scoped>\n",
       "    .dataframe tbody tr th:only-of-type {\n",
       "        vertical-align: middle;\n",
       "    }\n",
       "\n",
       "    .dataframe tbody tr th {\n",
       "        vertical-align: top;\n",
       "    }\n",
       "\n",
       "    .dataframe thead th {\n",
       "        text-align: right;\n",
       "    }\n",
       "</style>\n",
       "<table border=\"1\" class=\"dataframe\">\n",
       "  <thead>\n",
       "    <tr style=\"text-align: right;\">\n",
       "      <th></th>\n",
       "      <th>average</th>\n",
       "      <th>median</th>\n",
       "    </tr>\n",
       "    <tr>\n",
       "      <th>Trend</th>\n",
       "      <th></th>\n",
       "      <th></th>\n",
       "    </tr>\n",
       "  </thead>\n",
       "  <tbody>\n",
       "    <tr>\n",
       "      <th>Bear drop</th>\n",
       "      <td>4.878630e+07</td>\n",
       "      <td>48786302.0</td>\n",
       "    </tr>\n",
       "    <tr>\n",
       "      <th>Among top losers</th>\n",
       "      <td>1.463854e+07</td>\n",
       "      <td>10985897.0</td>\n",
       "    </tr>\n",
       "    <tr>\n",
       "      <th>Negative</th>\n",
       "      <td>5.634151e+06</td>\n",
       "      <td>5088554.0</td>\n",
       "    </tr>\n",
       "    <tr>\n",
       "      <th>Slight negative</th>\n",
       "      <td>5.454672e+06</td>\n",
       "      <td>4616803.0</td>\n",
       "    </tr>\n",
       "    <tr>\n",
       "      <th>Slight or No change</th>\n",
       "      <td>4.647983e+06</td>\n",
       "      <td>4043539.5</td>\n",
       "    </tr>\n",
       "    <tr>\n",
       "      <th>Slight positive</th>\n",
       "      <td>5.848807e+06</td>\n",
       "      <td>5301784.0</td>\n",
       "    </tr>\n",
       "    <tr>\n",
       "      <th>Positive</th>\n",
       "      <td>6.655530e+06</td>\n",
       "      <td>5523811.5</td>\n",
       "    </tr>\n",
       "    <tr>\n",
       "      <th>Among top gainers</th>\n",
       "      <td>1.259063e+07</td>\n",
       "      <td>12042170.5</td>\n",
       "    </tr>\n",
       "    <tr>\n",
       "      <th>Bull run</th>\n",
       "      <td>NaN</td>\n",
       "      <td>NaN</td>\n",
       "    </tr>\n",
       "  </tbody>\n",
       "</table>\n",
       "</div>"
      ],
      "text/plain": [
       "                          average      median\n",
       "Trend                                        \n",
       "Bear drop            4.878630e+07  48786302.0\n",
       "Among top losers     1.463854e+07  10985897.0\n",
       "Negative             5.634151e+06   5088554.0\n",
       "Slight negative      5.454672e+06   4616803.0\n",
       "Slight or No change  4.647983e+06   4043539.5\n",
       "Slight positive      5.848807e+06   5301784.0\n",
       "Positive             6.655530e+06   5523811.5\n",
       "Among top gainers    1.259063e+07  12042170.5\n",
       "Bull run                      NaN         NaN"
      ]
     },
     "execution_count": 49,
     "metadata": {},
     "output_type": "execute_result"
    }
   ],
   "source": [
    "avg_median_trendwise = stock_data.groupby(by=\"Trend\")[\"Total Traded Quantity\"].agg(['mean','median']).rename(columns={'mean':'average'})\n",
    "avg_median_trendwise"
   ]
  },
  {
   "cell_type": "markdown",
   "metadata": {},
   "source": [
    "## <a id='id9'>Query 1.9</a> \n",
    "SAVE the dataframe with the additional columns computed as a csv file week2.csv. In Module 2, you are going to get familiar with matplotlib, the python module which is used to visualize data. "
   ]
  },
  {
   "cell_type": "code",
   "execution_count": 50,
   "metadata": {},
   "outputs": [],
   "source": [
    "# Save the dataframe as \"week2.csv\" file\n",
    "stock_data.to_csv('./week2.csv')"
   ]
  }
 ],
 "metadata": {
  "kernelspec": {
   "display_name": "Python 3",
   "language": "python",
   "name": "python3"
  },
  "language_info": {
   "codemirror_mode": {
    "name": "ipython",
    "version": 3
   },
   "file_extension": ".py",
   "mimetype": "text/x-python",
   "name": "python",
   "nbconvert_exporter": "python",
   "pygments_lexer": "ipython3",
   "version": "3.7.3"
  }
 },
 "nbformat": 4,
 "nbformat_minor": 2
}
