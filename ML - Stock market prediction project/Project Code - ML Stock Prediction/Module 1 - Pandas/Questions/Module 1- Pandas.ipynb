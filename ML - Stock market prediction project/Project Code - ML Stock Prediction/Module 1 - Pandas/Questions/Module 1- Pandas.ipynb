{
 "cells": [
  {
   "cell_type": "markdown",
   "metadata": {},
   "source": [
    "# Module 1 - Pandas"
   ]
  },
  {
   "cell_type": "markdown",
   "metadata": {},
   "source": [
    "### First Read `Readme.md` file which covers Prerequisites and Setup for Data Analysis"
   ]
  },
  {
   "cell_type": "markdown",
   "metadata": {},
   "source": [
    "## Introduction to the problem\n",
    "In Module 1, you are going to get familiar with pandas, the python module which is used to process and analyse data. Processing could include removing unknown values from the data or replacing unknown values with values which make sense, maybe 0. Analysing the data could include finding out the trend of a stock price, e.g. how the stock price changes with respect to the Nifty 50 basket of stocks.\n",
    "\n",
    "Please go through the Prerequisite/ reference material suggested for module 1 before attempting the tasks in module 1.\n",
    "## Resources \n",
    "\n",
    "1. [Pandas Udemy](https://rakeshgopal.teachable.com/blog/17849/pandas_python_lecture_notes)\n",
    "2. [Did you know pandas can do so much?](https://medium.com/fintechexplained/did-you-know-pandas-can-do-so-much-f65dc7db3051)\n",
    "3. [Pandas | Kaggle](https://www.kaggle.com/learn/pandas)\n",
    "4. [Pandas | Shane Lynn](https://www.shanelynn.ie/python-pandas-read_csv-load-data-from-csv-files/)\n",
    "5. [Top 8 resources for learning data analysis with pandas](https://www.dataschool.io/best-python-pandas-resources/)\n",
    "6. [Video - Complete Python Pandas Data Science Tutorial!](https://www.youtube.com/watch?v=vmEHCJofslg)"
   ]
  },
  {
   "cell_type": "markdown",
   "metadata": {},
   "source": [
    "## Problem Statements\n",
    "1. [Query 1.1](#id1)\n",
    "2. [Query 1.2](#id2)\n",
    "3. [Query 1.3](#id3)\n",
    "4. [Query 1.4](#id4)\n",
    "5. [Query 1.5](#id5)\n",
    "6. [Query 1.6](#id6)\n",
    "7. [Query 1.7](#id7)\n",
    "8. [Query 1.8](#id8)\n",
    "9. [Query 1.9](#id9)"
   ]
  },
  {
   "cell_type": "markdown",
   "metadata": {},
   "source": [
    "## <a id='id1'>Query 1.1</a> \n",
    "Import the csv file of the stock of your choosing using 'pd.read_csv()' function into a dataframe.<br>\n",
    "Shares of a company can be offered in more than one category. The category of a stock is indicated in the ‘Series’ column. If the csv file has data on more than one category, the ‘Date’ column will have repeating values. To avoid repetitions in the date, remove all the rows where 'Series' column is NOT 'EQ'.<br>\n",
    "Analyze and understand each column properly.<br>\n",
    "You'd find the head(), tail() and describe() functions to be immensely useful for exploration. You're free to carry out any other exploration of your own."
   ]
  },
  {
   "cell_type": "code",
   "execution_count": null,
   "metadata": {},
   "outputs": [],
   "source": []
  },
  {
   "cell_type": "code",
   "execution_count": null,
   "metadata": {},
   "outputs": [],
   "source": []
  },
  {
   "cell_type": "markdown",
   "metadata": {},
   "source": [
    "## <a id='id2'>Query 1.2</a> \n",
    "Calculate the maximum, minimum and mean price for the last 90 days. (price=Closing Price unless stated otherwise)"
   ]
  },
  {
   "cell_type": "code",
   "execution_count": null,
   "metadata": {},
   "outputs": [],
   "source": []
  },
  {
   "cell_type": "code",
   "execution_count": null,
   "metadata": {},
   "outputs": [],
   "source": []
  },
  {
   "cell_type": "markdown",
   "metadata": {},
   "source": [
    "## <a id='id3'>Query 1.3</a> \n",
    "Analyse the data types for each column of the dataframe. Pandas knows how to deal with dates in an intelligent manner. But to make use of Pandas functionality for dates, you need to ensure that the column is of type 'datetime64(ns)'. Change the date column from 'object' type to 'datetime64(ns)' for future convenience. See what happens if you subtract the minimum value of the date column from the maximum value."
   ]
  },
  {
   "cell_type": "code",
   "execution_count": null,
   "metadata": {},
   "outputs": [],
   "source": []
  },
  {
   "cell_type": "code",
   "execution_count": null,
   "metadata": {},
   "outputs": [],
   "source": []
  },
  {
   "cell_type": "markdown",
   "metadata": {},
   "source": [
    "## <a id='id4'>Query 1.4</a> \n",
    "In a separate array , calculate the monthwise VWAP (Volume Weighted Average Price ) of the stock.<br>\n",
    "( VWAP = sum(price*volume)/sum(volume) )<br>\n",
    "To know more about VWAP , visit - [VWAP definition](https://www.investopedia.com/terms/v/vwap.asp)<br>\n",
    "{Hint : Create a new dataframe column ‘Month’. The values for this column can be derived from the ‘Date” column by using appropriate pandas functions. Similarly, create a column ‘Year’ and initialize it. Then use the 'groupby()' function by month and year. Finally, calculate the vwap value for each month (i.e. for each group created). "
   ]
  },
  {
   "cell_type": "code",
   "execution_count": null,
   "metadata": {},
   "outputs": [],
   "source": []
  },
  {
   "cell_type": "code",
   "execution_count": null,
   "metadata": {},
   "outputs": [],
   "source": []
  },
  {
   "cell_type": "markdown",
   "metadata": {},
   "source": [
    "## <a id='id5'>Query 1.5</a> \n",
    "Write a function to calculate the average price over the last N days of the stock price data where N is a user defined parameter. Write a second function to calculate the profit/loss percentage over the last N days.<br>\n",
    "Calculate the average price AND the profit/loss percentages over the course of last -<br>\n",
    "1 week, 2 weeks, 1 month, 3 months, 6 months and 1 year.<br>\n",
    "{Note : Profit/Loss percentage between N days is the percentage change between the closing prices of the 2 days }"
   ]
  },
  {
   "cell_type": "code",
   "execution_count": null,
   "metadata": {},
   "outputs": [],
   "source": []
  },
  {
   "cell_type": "code",
   "execution_count": null,
   "metadata": {},
   "outputs": [],
   "source": []
  },
  {
   "cell_type": "markdown",
   "metadata": {},
   "source": [
    "## <a id='id6'>Query 1.6</a> \n",
    "Add a column 'Day_Perc_Change' where the values are the daily change in percentages i.e. the percentage change between 2 consecutive day's closing prices. Instead of using the basic mathematical formula for computing the same, use 'pct_change()' function provided by Pandas for dataframes. You will note that the first entry of the column will have a ‘Nan’ value. Why does this happen? Either remove the first row, or set the entry to 0 before proceeding."
   ]
  },
  {
   "cell_type": "code",
   "execution_count": null,
   "metadata": {},
   "outputs": [],
   "source": []
  },
  {
   "cell_type": "code",
   "execution_count": null,
   "metadata": {},
   "outputs": [],
   "source": []
  },
  {
   "cell_type": "markdown",
   "metadata": {},
   "source": [
    "## <a id='id7'>Query 1.7</a> \n",
    "Add another column 'Trend' whose values are:\n",
    "\n",
    "- **'Slight or No change'** for 'Day_Perc_Change' in between -0.5 and 0.5\n",
    "- **'Slight positive'** for 'Day_Perc_Change' in between 0.5 and 1\n",
    "- **'Slight negative'** for 'Day_Perc_Change' in between -0.5 and -1\n",
    "- **'Positive'** for 'Day_Perc_Change' in between 1 and 3\n",
    "- **'Negative'** for 'Day_Perc_Change' in between -1 and -3\n",
    "- **'Among top gainers'** for 'Day_Perc_Change' in between 3 and 7\n",
    "- **'Among top losers'** for 'Day_Perc_Change' in between -3 and -7\n",
    "- **'Bull run'** for 'Day_Perc_Change' >7\n",
    "- **'Bear drop'** for 'Day_Perc_Change' <-7"
   ]
  },
  {
   "cell_type": "code",
   "execution_count": null,
   "metadata": {},
   "outputs": [],
   "source": []
  },
  {
   "cell_type": "code",
   "execution_count": null,
   "metadata": {},
   "outputs": [],
   "source": []
  },
  {
   "cell_type": "markdown",
   "metadata": {},
   "source": [
    "## <a id='id8'>Query 1.8</a> \n",
    "Find the average and median values of the column 'Total Traded Quantity' for each of the types of 'Trend'.<br>\n",
    "{Hint : use 'groupby()' on the 'Trend' column and then calculate the average and median values of the column 'Total Traded Quantity'} "
   ]
  },
  {
   "cell_type": "code",
   "execution_count": null,
   "metadata": {},
   "outputs": [],
   "source": []
  },
  {
   "cell_type": "code",
   "execution_count": null,
   "metadata": {},
   "outputs": [],
   "source": []
  },
  {
   "cell_type": "markdown",
   "metadata": {},
   "source": [
    "## <a id='id9'>Query 1.9</a> \n",
    "SAVE the dataframe with the additional columns computed as a csv file week2.csv. In Module 2, you are going to get familiar with matplotlib, the python module which is used to visualize data. "
   ]
  }
 ],
 "metadata": {
  "kernelspec": {
   "display_name": "Python 3",
   "language": "python",
   "name": "python3"
  },
  "language_info": {
   "codemirror_mode": {
    "name": "ipython",
    "version": 3
   },
   "file_extension": ".py",
   "mimetype": "text/x-python",
   "name": "python",
   "nbconvert_exporter": "python",
   "pygments_lexer": "ipython3",
   "version": "3.7.3"
  }
 },
 "nbformat": 4,
 "nbformat_minor": 2
}
