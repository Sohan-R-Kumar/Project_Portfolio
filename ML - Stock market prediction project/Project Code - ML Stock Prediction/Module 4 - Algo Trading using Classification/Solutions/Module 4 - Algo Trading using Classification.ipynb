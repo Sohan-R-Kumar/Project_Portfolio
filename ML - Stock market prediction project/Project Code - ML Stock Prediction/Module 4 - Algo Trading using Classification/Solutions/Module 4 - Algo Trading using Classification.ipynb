{
 "cells": [
  {
   "cell_type": "markdown",
   "metadata": {},
   "source": [
    "# Module 4 - Algo Trading using Classification\n"
   ]
  },
  {
   "cell_type": "markdown",
   "metadata": {},
   "source": [
    "## Trade Call Prediction using Classification\n",
    "In this module, we'd be covering the concept of classification and utilize our skills to solve the following queries – (Stock Price = Close Price)"
   ]
  },
  {
   "cell_type": "markdown",
   "metadata": {},
   "source": [
    "### Problem Statements\n",
    "- [Query 4.1](#id1)\n",
    "- [Query 4.2](#id2)"
   ]
  },
  {
   "cell_type": "markdown",
   "metadata": {},
   "source": [
    "## <a id=\"id1\">Query 4.1</a>\n",
    "Import the csv file of the stock which contained the Bollinger columns as well.\n",
    "\n",
    "> Create a new column 'Call' , whose entries are - \n",
    "- 'Buy' if the stock price is below the lower Bollinger band \n",
    "- 'Hold Buy/ Liquidate Short' if the stock price is between the lower and middle Bollinger band \n",
    "- 'Hold Short/ Liquidate Buy' if the stock price is between the middle and upper Bollinger band \n",
    "- 'Short' if the stock price is above the upper Bollinger band \n",
    "\n",
    "> Now train a classification model with the 3 bollinger columns and the stock price as inputs and 'Calls' as output. Check the accuracy on a test set. (There are many classifier models to choose from, try each one out and compare the accuracy for each)\n",
    "\n",
    "> Import another stock data and create the bollinger columns. Using the already defined model, predict the daily calls for this new stock.\n"
   ]
  },
  {
   "cell_type": "code",
   "execution_count": 1,
   "metadata": {},
   "outputs": [],
   "source": [
    "import pandas as pd\n",
    "import matplotlib.pyplot as plt"
   ]
  },
  {
   "cell_type": "markdown",
   "metadata": {},
   "source": [
    "### Query 4.1a Create new column \"Call\"\n",
    "Import the csv file of the stock which contained the Bollinger columns as well.\n",
    "\n",
    "Create a new column 'Call' , whose entries are - \n",
    "- 'Buy' if the stock price is below the lower Bollinger band \n",
    "- 'Hold Buy/ Liquidate Short' if the stock price is between the lower and middle Bollinger band \n",
    "- 'Hold Short/ Liquidate Buy' if the stock price is between the middle and upper Bollinger band \n",
    "- 'Short' if the stock price is above the upper Bollinger band "
   ]
  },
  {
   "cell_type": "code",
   "execution_count": 2,
   "metadata": {},
   "outputs": [
    {
     "data": {
      "text/html": [
       "<div>\n",
       "<style scoped>\n",
       "    .dataframe tbody tr th:only-of-type {\n",
       "        vertical-align: middle;\n",
       "    }\n",
       "\n",
       "    .dataframe tbody tr th {\n",
       "        vertical-align: top;\n",
       "    }\n",
       "\n",
       "    .dataframe thead th {\n",
       "        text-align: right;\n",
       "    }\n",
       "</style>\n",
       "<table border=\"1\" class=\"dataframe\">\n",
       "  <thead>\n",
       "    <tr style=\"text-align: right;\">\n",
       "      <th></th>\n",
       "      <th>Symbol</th>\n",
       "      <th>Series</th>\n",
       "      <th>Prev Close</th>\n",
       "      <th>Open Price</th>\n",
       "      <th>High Price</th>\n",
       "      <th>Low Price</th>\n",
       "      <th>Last Price</th>\n",
       "      <th>Close Price</th>\n",
       "      <th>Average Price</th>\n",
       "      <th>Total Traded Quantity</th>\n",
       "      <th>Turnover</th>\n",
       "      <th>No. of Trades</th>\n",
       "      <th>Deliverable Qty</th>\n",
       "      <th>% Dly Qt to Traded Qty</th>\n",
       "      <th>Year</th>\n",
       "      <th>Month</th>\n",
       "      <th>Day_Perc_Change</th>\n",
       "      <th>Trend</th>\n",
       "    </tr>\n",
       "    <tr>\n",
       "      <th>Date</th>\n",
       "      <th></th>\n",
       "      <th></th>\n",
       "      <th></th>\n",
       "      <th></th>\n",
       "      <th></th>\n",
       "      <th></th>\n",
       "      <th></th>\n",
       "      <th></th>\n",
       "      <th></th>\n",
       "      <th></th>\n",
       "      <th></th>\n",
       "      <th></th>\n",
       "      <th></th>\n",
       "      <th></th>\n",
       "      <th></th>\n",
       "      <th></th>\n",
       "      <th></th>\n",
       "      <th></th>\n",
       "    </tr>\n",
       "  </thead>\n",
       "  <tbody>\n",
       "    <tr>\n",
       "      <th>2017-05-15</th>\n",
       "      <td>INFY</td>\n",
       "      <td>EQ</td>\n",
       "      <td>964.25</td>\n",
       "      <td>963.5</td>\n",
       "      <td>963.50</td>\n",
       "      <td>949.10</td>\n",
       "      <td>953.25</td>\n",
       "      <td>951.55</td>\n",
       "      <td>951.49</td>\n",
       "      <td>3648582</td>\n",
       "      <td>3.471580e+09</td>\n",
       "      <td>75335</td>\n",
       "      <td>3052819</td>\n",
       "      <td>83.67</td>\n",
       "      <td>2017</td>\n",
       "      <td>5</td>\n",
       "      <td>0.000000</td>\n",
       "      <td>Slight or No change</td>\n",
       "    </tr>\n",
       "    <tr>\n",
       "      <th>2017-05-16</th>\n",
       "      <td>INFY</td>\n",
       "      <td>EQ</td>\n",
       "      <td>951.55</td>\n",
       "      <td>953.1</td>\n",
       "      <td>960.15</td>\n",
       "      <td>946.95</td>\n",
       "      <td>956.00</td>\n",
       "      <td>955.00</td>\n",
       "      <td>952.92</td>\n",
       "      <td>3065084</td>\n",
       "      <td>2.920775e+09</td>\n",
       "      <td>71808</td>\n",
       "      <td>1858063</td>\n",
       "      <td>60.62</td>\n",
       "      <td>2017</td>\n",
       "      <td>5</td>\n",
       "      <td>0.362566</td>\n",
       "      <td>Slight or No change</td>\n",
       "    </tr>\n",
       "    <tr>\n",
       "      <th>2017-05-17</th>\n",
       "      <td>INFY</td>\n",
       "      <td>EQ</td>\n",
       "      <td>955.00</td>\n",
       "      <td>951.6</td>\n",
       "      <td>958.45</td>\n",
       "      <td>943.85</td>\n",
       "      <td>952.90</td>\n",
       "      <td>952.80</td>\n",
       "      <td>949.48</td>\n",
       "      <td>1457754</td>\n",
       "      <td>1.384110e+09</td>\n",
       "      <td>75429</td>\n",
       "      <td>792251</td>\n",
       "      <td>54.35</td>\n",
       "      <td>2017</td>\n",
       "      <td>5</td>\n",
       "      <td>-0.230366</td>\n",
       "      <td>Slight or No change</td>\n",
       "    </tr>\n",
       "    <tr>\n",
       "      <th>2017-05-18</th>\n",
       "      <td>INFY</td>\n",
       "      <td>EQ</td>\n",
       "      <td>952.80</td>\n",
       "      <td>943.0</td>\n",
       "      <td>973.90</td>\n",
       "      <td>942.85</td>\n",
       "      <td>960.25</td>\n",
       "      <td>961.75</td>\n",
       "      <td>962.61</td>\n",
       "      <td>4028924</td>\n",
       "      <td>3.878282e+09</td>\n",
       "      <td>120990</td>\n",
       "      <td>2309450</td>\n",
       "      <td>57.32</td>\n",
       "      <td>2017</td>\n",
       "      <td>5</td>\n",
       "      <td>0.939337</td>\n",
       "      <td>Slight positive</td>\n",
       "    </tr>\n",
       "    <tr>\n",
       "      <th>2017-05-19</th>\n",
       "      <td>INFY</td>\n",
       "      <td>EQ</td>\n",
       "      <td>961.75</td>\n",
       "      <td>961.5</td>\n",
       "      <td>962.70</td>\n",
       "      <td>947.85</td>\n",
       "      <td>957.40</td>\n",
       "      <td>957.95</td>\n",
       "      <td>954.18</td>\n",
       "      <td>2128698</td>\n",
       "      <td>2.031155e+09</td>\n",
       "      <td>88897</td>\n",
       "      <td>1457747</td>\n",
       "      <td>68.48</td>\n",
       "      <td>2017</td>\n",
       "      <td>5</td>\n",
       "      <td>-0.395113</td>\n",
       "      <td>Slight or No change</td>\n",
       "    </tr>\n",
       "  </tbody>\n",
       "</table>\n",
       "</div>"
      ],
      "text/plain": [
       "           Symbol Series  Prev Close  Open Price  High Price  Low Price  \\\n",
       "Date                                                                      \n",
       "2017-05-15   INFY     EQ      964.25       963.5      963.50     949.10   \n",
       "2017-05-16   INFY     EQ      951.55       953.1      960.15     946.95   \n",
       "2017-05-17   INFY     EQ      955.00       951.6      958.45     943.85   \n",
       "2017-05-18   INFY     EQ      952.80       943.0      973.90     942.85   \n",
       "2017-05-19   INFY     EQ      961.75       961.5      962.70     947.85   \n",
       "\n",
       "            Last Price  Close Price  Average Price  Total Traded Quantity  \\\n",
       "Date                                                                        \n",
       "2017-05-15      953.25       951.55         951.49                3648582   \n",
       "2017-05-16      956.00       955.00         952.92                3065084   \n",
       "2017-05-17      952.90       952.80         949.48                1457754   \n",
       "2017-05-18      960.25       961.75         962.61                4028924   \n",
       "2017-05-19      957.40       957.95         954.18                2128698   \n",
       "\n",
       "                Turnover  No. of Trades  Deliverable Qty  \\\n",
       "Date                                                       \n",
       "2017-05-15  3.471580e+09          75335          3052819   \n",
       "2017-05-16  2.920775e+09          71808          1858063   \n",
       "2017-05-17  1.384110e+09          75429           792251   \n",
       "2017-05-18  3.878282e+09         120990          2309450   \n",
       "2017-05-19  2.031155e+09          88897          1457747   \n",
       "\n",
       "            % Dly Qt to Traded Qty  Year  Month  Day_Perc_Change  \\\n",
       "Date                                                               \n",
       "2017-05-15                   83.67  2017      5         0.000000   \n",
       "2017-05-16                   60.62  2017      5         0.362566   \n",
       "2017-05-17                   54.35  2017      5        -0.230366   \n",
       "2017-05-18                   57.32  2017      5         0.939337   \n",
       "2017-05-19                   68.48  2017      5        -0.395113   \n",
       "\n",
       "                          Trend  \n",
       "Date                             \n",
       "2017-05-15  Slight or No change  \n",
       "2017-05-16  Slight or No change  \n",
       "2017-05-17  Slight or No change  \n",
       "2017-05-18      Slight positive  \n",
       "2017-05-19  Slight or No change  "
      ]
     },
     "execution_count": 2,
     "metadata": {},
     "output_type": "execute_result"
    }
   ],
   "source": [
    "stock_data = pd.read_csv(\"./week2.csv\",index_col=0)\n",
    "stock_data.Date = pd.to_datetime(stock_data.Date)\n",
    "stock_data = stock_data.set_index('Date')\n",
    "stock_data.head()"
   ]
  },
  {
   "cell_type": "markdown",
   "metadata": {},
   "source": [
    "#### 4.1a.1 Adding Bollinger Bands Columns"
   ]
  },
  {
   "cell_type": "code",
   "execution_count": 3,
   "metadata": {},
   "outputs": [],
   "source": [
    "rolling_avg = stock_data['Close Price'].rolling(window=14).mean()\n",
    "rolling_std = stock_data['Close Price'].rolling(window=14).std()"
   ]
  },
  {
   "cell_type": "code",
   "execution_count": 4,
   "metadata": {
    "scrolled": false
   },
   "outputs": [
    {
     "data": {
      "text/html": [
       "<div>\n",
       "<style scoped>\n",
       "    .dataframe tbody tr th:only-of-type {\n",
       "        vertical-align: middle;\n",
       "    }\n",
       "\n",
       "    .dataframe tbody tr th {\n",
       "        vertical-align: top;\n",
       "    }\n",
       "\n",
       "    .dataframe thead th {\n",
       "        text-align: right;\n",
       "    }\n",
       "</style>\n",
       "<table border=\"1\" class=\"dataframe\">\n",
       "  <thead>\n",
       "    <tr style=\"text-align: right;\">\n",
       "      <th></th>\n",
       "      <th>Symbol</th>\n",
       "      <th>Series</th>\n",
       "      <th>Prev Close</th>\n",
       "      <th>Open Price</th>\n",
       "      <th>High Price</th>\n",
       "      <th>Low Price</th>\n",
       "      <th>Last Price</th>\n",
       "      <th>Close Price</th>\n",
       "      <th>Average Price</th>\n",
       "      <th>Total Traded Quantity</th>\n",
       "      <th>...</th>\n",
       "      <th>No. of Trades</th>\n",
       "      <th>Deliverable Qty</th>\n",
       "      <th>% Dly Qt to Traded Qty</th>\n",
       "      <th>Year</th>\n",
       "      <th>Month</th>\n",
       "      <th>Day_Perc_Change</th>\n",
       "      <th>Trend</th>\n",
       "      <th>lower</th>\n",
       "      <th>avg</th>\n",
       "      <th>upper</th>\n",
       "    </tr>\n",
       "    <tr>\n",
       "      <th>Date</th>\n",
       "      <th></th>\n",
       "      <th></th>\n",
       "      <th></th>\n",
       "      <th></th>\n",
       "      <th></th>\n",
       "      <th></th>\n",
       "      <th></th>\n",
       "      <th></th>\n",
       "      <th></th>\n",
       "      <th></th>\n",
       "      <th></th>\n",
       "      <th></th>\n",
       "      <th></th>\n",
       "      <th></th>\n",
       "      <th></th>\n",
       "      <th></th>\n",
       "      <th></th>\n",
       "      <th></th>\n",
       "      <th></th>\n",
       "      <th></th>\n",
       "      <th></th>\n",
       "    </tr>\n",
       "  </thead>\n",
       "  <tbody>\n",
       "    <tr>\n",
       "      <th>2017-06-01</th>\n",
       "      <td>INFY</td>\n",
       "      <td>EQ</td>\n",
       "      <td>977.05</td>\n",
       "      <td>969.3</td>\n",
       "      <td>979.70</td>\n",
       "      <td>958.55</td>\n",
       "      <td>971.25</td>\n",
       "      <td>971.40</td>\n",
       "      <td>969.49</td>\n",
       "      <td>2754303</td>\n",
       "      <td>...</td>\n",
       "      <td>81421</td>\n",
       "      <td>1822506</td>\n",
       "      <td>66.17</td>\n",
       "      <td>2017</td>\n",
       "      <td>6</td>\n",
       "      <td>-0.578271</td>\n",
       "      <td>Slight negative</td>\n",
       "      <td>936.708789</td>\n",
       "      <td>968.671429</td>\n",
       "      <td>1000.634068</td>\n",
       "    </tr>\n",
       "    <tr>\n",
       "      <th>2017-06-02</th>\n",
       "      <td>INFY</td>\n",
       "      <td>EQ</td>\n",
       "      <td>971.40</td>\n",
       "      <td>973.4</td>\n",
       "      <td>975.45</td>\n",
       "      <td>964.20</td>\n",
       "      <td>966.00</td>\n",
       "      <td>969.45</td>\n",
       "      <td>968.76</td>\n",
       "      <td>1958983</td>\n",
       "      <td>...</td>\n",
       "      <td>48927</td>\n",
       "      <td>1396644</td>\n",
       "      <td>71.29</td>\n",
       "      <td>2017</td>\n",
       "      <td>6</td>\n",
       "      <td>-0.200741</td>\n",
       "      <td>Slight or No change</td>\n",
       "      <td>939.543472</td>\n",
       "      <td>969.950000</td>\n",
       "      <td>1000.356528</td>\n",
       "    </tr>\n",
       "    <tr>\n",
       "      <th>2017-06-05</th>\n",
       "      <td>INFY</td>\n",
       "      <td>EQ</td>\n",
       "      <td>969.45</td>\n",
       "      <td>970.0</td>\n",
       "      <td>972.00</td>\n",
       "      <td>957.05</td>\n",
       "      <td>959.00</td>\n",
       "      <td>958.75</td>\n",
       "      <td>961.71</td>\n",
       "      <td>2731349</td>\n",
       "      <td>...</td>\n",
       "      <td>83794</td>\n",
       "      <td>1941199</td>\n",
       "      <td>71.07</td>\n",
       "      <td>2017</td>\n",
       "      <td>6</td>\n",
       "      <td>-1.103719</td>\n",
       "      <td>Negative</td>\n",
       "      <td>940.316774</td>\n",
       "      <td>970.217857</td>\n",
       "      <td>1000.118940</td>\n",
       "    </tr>\n",
       "    <tr>\n",
       "      <th>2017-06-06</th>\n",
       "      <td>INFY</td>\n",
       "      <td>EQ</td>\n",
       "      <td>958.75</td>\n",
       "      <td>965.0</td>\n",
       "      <td>987.50</td>\n",
       "      <td>964.40</td>\n",
       "      <td>980.00</td>\n",
       "      <td>979.35</td>\n",
       "      <td>980.08</td>\n",
       "      <td>3504343</td>\n",
       "      <td>...</td>\n",
       "      <td>83178</td>\n",
       "      <td>2018029</td>\n",
       "      <td>57.59</td>\n",
       "      <td>2017</td>\n",
       "      <td>6</td>\n",
       "      <td>2.148631</td>\n",
       "      <td>Positive</td>\n",
       "      <td>943.638076</td>\n",
       "      <td>972.114286</td>\n",
       "      <td>1000.590495</td>\n",
       "    </tr>\n",
       "    <tr>\n",
       "      <th>2017-06-07</th>\n",
       "      <td>INFY</td>\n",
       "      <td>EQ</td>\n",
       "      <td>979.35</td>\n",
       "      <td>985.0</td>\n",
       "      <td>988.90</td>\n",
       "      <td>945.00</td>\n",
       "      <td>959.30</td>\n",
       "      <td>961.30</td>\n",
       "      <td>963.75</td>\n",
       "      <td>6227523</td>\n",
       "      <td>...</td>\n",
       "      <td>139990</td>\n",
       "      <td>2519343</td>\n",
       "      <td>40.45</td>\n",
       "      <td>2017</td>\n",
       "      <td>6</td>\n",
       "      <td>-1.843059</td>\n",
       "      <td>Negative</td>\n",
       "      <td>943.554569</td>\n",
       "      <td>972.082143</td>\n",
       "      <td>1000.609717</td>\n",
       "    </tr>\n",
       "  </tbody>\n",
       "</table>\n",
       "<p>5 rows × 21 columns</p>\n",
       "</div>"
      ],
      "text/plain": [
       "           Symbol Series  Prev Close  Open Price  High Price  Low Price  \\\n",
       "Date                                                                      \n",
       "2017-06-01   INFY     EQ      977.05       969.3      979.70     958.55   \n",
       "2017-06-02   INFY     EQ      971.40       973.4      975.45     964.20   \n",
       "2017-06-05   INFY     EQ      969.45       970.0      972.00     957.05   \n",
       "2017-06-06   INFY     EQ      958.75       965.0      987.50     964.40   \n",
       "2017-06-07   INFY     EQ      979.35       985.0      988.90     945.00   \n",
       "\n",
       "            Last Price  Close Price  Average Price  Total Traded Quantity  \\\n",
       "Date                                                                        \n",
       "2017-06-01      971.25       971.40         969.49                2754303   \n",
       "2017-06-02      966.00       969.45         968.76                1958983   \n",
       "2017-06-05      959.00       958.75         961.71                2731349   \n",
       "2017-06-06      980.00       979.35         980.08                3504343   \n",
       "2017-06-07      959.30       961.30         963.75                6227523   \n",
       "\n",
       "            ...  No. of Trades  Deliverable Qty  % Dly Qt to Traded Qty  Year  \\\n",
       "Date        ...                                                                 \n",
       "2017-06-01  ...          81421          1822506                   66.17  2017   \n",
       "2017-06-02  ...          48927          1396644                   71.29  2017   \n",
       "2017-06-05  ...          83794          1941199                   71.07  2017   \n",
       "2017-06-06  ...          83178          2018029                   57.59  2017   \n",
       "2017-06-07  ...         139990          2519343                   40.45  2017   \n",
       "\n",
       "            Month  Day_Perc_Change                Trend       lower  \\\n",
       "Date                                                                  \n",
       "2017-06-01      6        -0.578271      Slight negative  936.708789   \n",
       "2017-06-02      6        -0.200741  Slight or No change  939.543472   \n",
       "2017-06-05      6        -1.103719             Negative  940.316774   \n",
       "2017-06-06      6         2.148631             Positive  943.638076   \n",
       "2017-06-07      6        -1.843059             Negative  943.554569   \n",
       "\n",
       "                   avg        upper  \n",
       "Date                                 \n",
       "2017-06-01  968.671429  1000.634068  \n",
       "2017-06-02  969.950000  1000.356528  \n",
       "2017-06-05  970.217857  1000.118940  \n",
       "2017-06-06  972.114286  1000.590495  \n",
       "2017-06-07  972.082143  1000.609717  \n",
       "\n",
       "[5 rows x 21 columns]"
      ]
     },
     "execution_count": 4,
     "metadata": {},
     "output_type": "execute_result"
    }
   ],
   "source": [
    "stock_data['lower'] = rolling_avg-2*rolling_std\n",
    "stock_data['avg'] = rolling_avg\n",
    "stock_data['upper'] = rolling_avg+2*rolling_std\n",
    "stock_data.dropna(inplace=True)\n",
    "stock_data.head()"
   ]
  },
  {
   "cell_type": "markdown",
   "metadata": {},
   "source": [
    "#### 4.1a.2 Create a new column `Call`\n",
    "\n",
    "whose entries are - \n",
    "\n",
    ">'Buy' if the stock price is below the lower Bollinger band \n",
    "\n",
    ">'Hold Buy/ Liquidate Short' if the stock price is between the lower and middle Bollinger band \n",
    "\n",
    ">'Hold Short/ Liquidate Buy' if the stock price is between the middle and upper Bollinger band \n",
    "\n",
    ">'Short' if the stock price is above the upper Bollinger band\n",
    "\n",
    "\n"
   ]
  },
  {
   "cell_type": "code",
   "execution_count": 5,
   "metadata": {},
   "outputs": [],
   "source": [
    "def classifying_call(close,lower,avg,upper):\n",
    "    if close <= lower:\n",
    "        return 'Buy'\n",
    "    if (close > lower) and (close <= avg):\n",
    "        return 'Hold Buy/Liquidate Short'\n",
    "    elif (close > avg) and (close <= upper):\n",
    "        return 'Hold Short/Liquidate Buy'\n",
    "    elif close > upper:\n",
    "        return 'Short'"
   ]
  },
  {
   "cell_type": "code",
   "execution_count": 6,
   "metadata": {},
   "outputs": [],
   "source": [
    "stock_data[\"Call\"] = stock_data.apply(lambda record : classifying_call(record['Close Price'], record['lower'], record['avg'], record['upper']), axis = 1) "
   ]
  },
  {
   "cell_type": "code",
   "execution_count": 7,
   "metadata": {},
   "outputs": [
    {
     "data": {
      "text/plain": [
       "array(['Hold Short/Liquidate Buy', 'Hold Buy/Liquidate Short', 'Buy',\n",
       "       'Short'], dtype=object)"
      ]
     },
     "execution_count": 7,
     "metadata": {},
     "output_type": "execute_result"
    }
   ],
   "source": [
    "stock_data.Call.unique()"
   ]
  },
  {
   "cell_type": "code",
   "execution_count": 8,
   "metadata": {
    "scrolled": true
   },
   "outputs": [
    {
     "data": {
      "text/plain": [
       "Hold Short/Liquidate Buy    250\n",
       "Hold Buy/Liquidate Short    189\n",
       "Short                        28\n",
       "Buy                          14\n",
       "Name: Call, dtype: int64"
      ]
     },
     "execution_count": 8,
     "metadata": {},
     "output_type": "execute_result"
    }
   ],
   "source": [
    "stock_data.Call.value_counts()"
   ]
  },
  {
   "cell_type": "code",
   "execution_count": 9,
   "metadata": {},
   "outputs": [],
   "source": [
    "stock_data.to_csv('./week4.csv')"
   ]
  },
  {
   "cell_type": "markdown",
   "metadata": {},
   "source": [
    "### Query 4.1b Training Different Classification models\n",
    "\n",
    "Now train a classification model with the 3 bollinger columns and the stock price as inputs and 'Calls' as output. Check the accuracy on a test set. (There are many classifier models to choose from, try each one out and compare the accuracy for each)"
   ]
  },
  {
   "cell_type": "markdown",
   "metadata": {},
   "source": [
    "#### 4.1b.1 Training Testing Split"
   ]
  },
  {
   "cell_type": "code",
   "execution_count": 10,
   "metadata": {},
   "outputs": [
    {
     "data": {
      "text/html": [
       "<div>\n",
       "<style scoped>\n",
       "    .dataframe tbody tr th:only-of-type {\n",
       "        vertical-align: middle;\n",
       "    }\n",
       "\n",
       "    .dataframe tbody tr th {\n",
       "        vertical-align: top;\n",
       "    }\n",
       "\n",
       "    .dataframe thead th {\n",
       "        text-align: right;\n",
       "    }\n",
       "</style>\n",
       "<table border=\"1\" class=\"dataframe\">\n",
       "  <thead>\n",
       "    <tr style=\"text-align: right;\">\n",
       "      <th></th>\n",
       "      <th>lower</th>\n",
       "      <th>avg</th>\n",
       "      <th>upper</th>\n",
       "      <th>Close Price</th>\n",
       "    </tr>\n",
       "    <tr>\n",
       "      <th>Date</th>\n",
       "      <th></th>\n",
       "      <th></th>\n",
       "      <th></th>\n",
       "      <th></th>\n",
       "    </tr>\n",
       "  </thead>\n",
       "  <tbody>\n",
       "    <tr>\n",
       "      <th>2017-06-01</th>\n",
       "      <td>936.708789</td>\n",
       "      <td>968.671429</td>\n",
       "      <td>1000.634068</td>\n",
       "      <td>971.40</td>\n",
       "    </tr>\n",
       "    <tr>\n",
       "      <th>2017-06-02</th>\n",
       "      <td>939.543472</td>\n",
       "      <td>969.950000</td>\n",
       "      <td>1000.356528</td>\n",
       "      <td>969.45</td>\n",
       "    </tr>\n",
       "    <tr>\n",
       "      <th>2017-06-05</th>\n",
       "      <td>940.316774</td>\n",
       "      <td>970.217857</td>\n",
       "      <td>1000.118940</td>\n",
       "      <td>958.75</td>\n",
       "    </tr>\n",
       "    <tr>\n",
       "      <th>2017-06-06</th>\n",
       "      <td>943.638076</td>\n",
       "      <td>972.114286</td>\n",
       "      <td>1000.590495</td>\n",
       "      <td>979.35</td>\n",
       "    </tr>\n",
       "    <tr>\n",
       "      <th>2017-06-07</th>\n",
       "      <td>943.554569</td>\n",
       "      <td>972.082143</td>\n",
       "      <td>1000.609717</td>\n",
       "      <td>961.30</td>\n",
       "    </tr>\n",
       "  </tbody>\n",
       "</table>\n",
       "</div>"
      ],
      "text/plain": [
       "                 lower         avg        upper  Close Price\n",
       "Date                                                        \n",
       "2017-06-01  936.708789  968.671429  1000.634068       971.40\n",
       "2017-06-02  939.543472  969.950000  1000.356528       969.45\n",
       "2017-06-05  940.316774  970.217857  1000.118940       958.75\n",
       "2017-06-06  943.638076  972.114286  1000.590495       979.35\n",
       "2017-06-07  943.554569  972.082143  1000.609717       961.30"
      ]
     },
     "execution_count": 10,
     "metadata": {},
     "output_type": "execute_result"
    }
   ],
   "source": [
    "Input = stock_data[['lower','avg','upper','Close Price']]\n",
    "Input.head()"
   ]
  },
  {
   "cell_type": "code",
   "execution_count": 11,
   "metadata": {},
   "outputs": [
    {
     "data": {
      "text/html": [
       "<div>\n",
       "<style scoped>\n",
       "    .dataframe tbody tr th:only-of-type {\n",
       "        vertical-align: middle;\n",
       "    }\n",
       "\n",
       "    .dataframe tbody tr th {\n",
       "        vertical-align: top;\n",
       "    }\n",
       "\n",
       "    .dataframe thead th {\n",
       "        text-align: right;\n",
       "    }\n",
       "</style>\n",
       "<table border=\"1\" class=\"dataframe\">\n",
       "  <thead>\n",
       "    <tr style=\"text-align: right;\">\n",
       "      <th></th>\n",
       "      <th>0</th>\n",
       "    </tr>\n",
       "  </thead>\n",
       "  <tbody>\n",
       "    <tr>\n",
       "      <th>0</th>\n",
       "      <td>2</td>\n",
       "    </tr>\n",
       "    <tr>\n",
       "      <th>1</th>\n",
       "      <td>1</td>\n",
       "    </tr>\n",
       "    <tr>\n",
       "      <th>2</th>\n",
       "      <td>1</td>\n",
       "    </tr>\n",
       "    <tr>\n",
       "      <th>3</th>\n",
       "      <td>2</td>\n",
       "    </tr>\n",
       "    <tr>\n",
       "      <th>4</th>\n",
       "      <td>1</td>\n",
       "    </tr>\n",
       "  </tbody>\n",
       "</table>\n",
       "</div>"
      ],
      "text/plain": [
       "   0\n",
       "0  2\n",
       "1  1\n",
       "2  1\n",
       "3  2\n",
       "4  1"
      ]
     },
     "execution_count": 11,
     "metadata": {},
     "output_type": "execute_result"
    }
   ],
   "source": [
    "from sklearn import preprocessing\n",
    "label_encoder = preprocessing.LabelEncoder()\n",
    "numbered_label = label_encoder.fit_transform(stock_data.Call.ravel())\n",
    "Output = pd.DataFrame(numbered_label)\n",
    "Output.head()"
   ]
  },
  {
   "cell_type": "code",
   "execution_count": 12,
   "metadata": {},
   "outputs": [],
   "source": [
    "from sklearn.model_selection import train_test_split\n",
    "X_train, X_test,y_train, y_test = train_test_split(Input, Output, test_size=0.2)"
   ]
  },
  {
   "cell_type": "code",
   "execution_count": 13,
   "metadata": {},
   "outputs": [],
   "source": [
    "y_train = y_train.values.reshape(len(y_train))\n",
    "y_test = y_test.values.reshape(len(y_test))"
   ]
  },
  {
   "cell_type": "markdown",
   "metadata": {},
   "source": [
    "#### 4.1b.2 Training Different models\n",
    "#### Different Classification Algorithm\n",
    "1. Naive bayes (Linear Classifier)\n",
    "2. Logistic Regression (Linear Classifier)\n",
    "3. Support Vector Machine\n",
    "4. K-NEAREST NEIGHBOUR (KNN)\n",
    "5. Random Forest"
   ]
  },
  {
   "cell_type": "code",
   "execution_count": 14,
   "metadata": {},
   "outputs": [],
   "source": [
    "classifers_train_test = pd.DataFrame(columns=[\"Classifier\",\"Train_AUC\", \"Test_AUC\"])"
   ]
  },
  {
   "cell_type": "markdown",
   "metadata": {},
   "source": [
    "#### Naive bayes"
   ]
  },
  {
   "cell_type": "code",
   "execution_count": 15,
   "metadata": {},
   "outputs": [
    {
     "data": {
      "text/plain": [
       "GaussianNB(priors=None, var_smoothing=1e-09)"
      ]
     },
     "execution_count": 15,
     "metadata": {},
     "output_type": "execute_result"
    }
   ],
   "source": [
    "from sklearn.naive_bayes import GaussianNB\n",
    "gaussian_classifier = GaussianNB()\n",
    "gaussian_classifier.fit(X_train, y_train)"
   ]
  },
  {
   "cell_type": "code",
   "execution_count": 16,
   "metadata": {},
   "outputs": [
    {
     "data": {
      "text/plain": [
       "0.58"
      ]
     },
     "execution_count": 16,
     "metadata": {},
     "output_type": "execute_result"
    }
   ],
   "source": [
    "training_accuracy = gaussian_classifier.score(X_train, y_train).round(2)\n",
    "training_accuracy"
   ]
  },
  {
   "cell_type": "code",
   "execution_count": 17,
   "metadata": {},
   "outputs": [
    {
     "data": {
      "text/plain": [
       "0.52"
      ]
     },
     "execution_count": 17,
     "metadata": {},
     "output_type": "execute_result"
    }
   ],
   "source": [
    "testing_accuracy = gaussian_classifier.score(X_test, y_test).round(2)\n",
    "testing_accuracy"
   ]
  },
  {
   "cell_type": "code",
   "execution_count": 18,
   "metadata": {},
   "outputs": [],
   "source": [
    "classifers_train_test.loc[0] = [\"Naive Bayes\", training_accuracy, testing_accuracy]"
   ]
  },
  {
   "cell_type": "markdown",
   "metadata": {},
   "source": [
    "#### Logistic Regression"
   ]
  },
  {
   "cell_type": "code",
   "execution_count": 19,
   "metadata": {},
   "outputs": [
    {
     "data": {
      "text/plain": [
       "LogisticRegression(C=1.0, class_weight='balanced', dual=False,\n",
       "                   fit_intercept=True, intercept_scaling=1, l1_ratio=None,\n",
       "                   max_iter=10000, multi_class='ovr', n_jobs=None, penalty='l2',\n",
       "                   random_state=None, solver='liblinear', tol=0.0001, verbose=0,\n",
       "                   warm_start=False)"
      ]
     },
     "execution_count": 19,
     "metadata": {},
     "output_type": "execute_result"
    }
   ],
   "source": [
    "from sklearn.linear_model import LogisticRegression\n",
    "lr = LogisticRegression(max_iter=10000,class_weight='balanced', multi_class=\"ovr\", solver='liblinear')\n",
    "lr.fit(X_train, y_train)"
   ]
  },
  {
   "cell_type": "code",
   "execution_count": 20,
   "metadata": {},
   "outputs": [
    {
     "data": {
      "text/plain": [
       "0.97"
      ]
     },
     "execution_count": 20,
     "metadata": {},
     "output_type": "execute_result"
    }
   ],
   "source": [
    "training_accuracy = lr.score(X_train, y_train).round(2)\n",
    "training_accuracy"
   ]
  },
  {
   "cell_type": "code",
   "execution_count": 21,
   "metadata": {},
   "outputs": [
    {
     "data": {
      "text/plain": [
       "0.98"
      ]
     },
     "execution_count": 21,
     "metadata": {},
     "output_type": "execute_result"
    }
   ],
   "source": [
    "testing_accuracy = lr.score(X_test, y_test).round(2)\n",
    "testing_accuracy"
   ]
  },
  {
   "cell_type": "code",
   "execution_count": 22,
   "metadata": {},
   "outputs": [],
   "source": [
    "classifers_train_test.loc[1] = [\"Logistic Regression\", training_accuracy, testing_accuracy]"
   ]
  },
  {
   "cell_type": "markdown",
   "metadata": {},
   "source": [
    "#### SVM"
   ]
  },
  {
   "cell_type": "code",
   "execution_count": 23,
   "metadata": {},
   "outputs": [
    {
     "name": "stdout",
     "output_type": "stream",
     "text": [
      "[LibSVM]"
     ]
    },
    {
     "data": {
      "text/plain": [
       "SVC(C=1.0, cache_size=200, class_weight='balanced', coef0=0.0,\n",
       "    decision_function_shape='ovr', degree=3, gamma='scale', kernel='rbf',\n",
       "    max_iter=-1, probability=False, random_state=None, shrinking=True,\n",
       "    tol=0.001, verbose=True)"
      ]
     },
     "execution_count": 23,
     "metadata": {},
     "output_type": "execute_result"
    }
   ],
   "source": [
    "from sklearn.svm import SVC\n",
    "svm_classifier = SVC(verbose=True, gamma='scale',class_weight='balanced')\n",
    "svm_classifier.fit(X_train, y_train)"
   ]
  },
  {
   "cell_type": "code",
   "execution_count": 24,
   "metadata": {},
   "outputs": [
    {
     "data": {
      "text/plain": [
       "0.25"
      ]
     },
     "execution_count": 24,
     "metadata": {},
     "output_type": "execute_result"
    }
   ],
   "source": [
    "training_accuracy = svm_classifier.score(X_train, y_train).round(2)\n",
    "training_accuracy"
   ]
  },
  {
   "cell_type": "code",
   "execution_count": 25,
   "metadata": {},
   "outputs": [
    {
     "data": {
      "text/plain": [
       "0.19"
      ]
     },
     "execution_count": 25,
     "metadata": {},
     "output_type": "execute_result"
    }
   ],
   "source": [
    "testing_accuracy = svm_classifier.score(X_test, y_test).round(2)\n",
    "testing_accuracy"
   ]
  },
  {
   "cell_type": "code",
   "execution_count": 26,
   "metadata": {},
   "outputs": [],
   "source": [
    "classifers_train_test.loc[2] = [\"SVM\", training_accuracy, testing_accuracy]"
   ]
  },
  {
   "cell_type": "markdown",
   "metadata": {},
   "source": [
    "#### KNN"
   ]
  },
  {
   "cell_type": "code",
   "execution_count": 27,
   "metadata": {},
   "outputs": [
    {
     "data": {
      "text/plain": [
       "KNeighborsClassifier(algorithm='auto', leaf_size=30, metric='minkowski',\n",
       "                     metric_params=None, n_jobs=None, n_neighbors=3, p=2,\n",
       "                     weights='uniform')"
      ]
     },
     "execution_count": 27,
     "metadata": {},
     "output_type": "execute_result"
    }
   ],
   "source": [
    "from sklearn.neighbors import KNeighborsClassifier\n",
    "knn_classifier = KNeighborsClassifier(n_neighbors=3)\n",
    "knn_classifier.fit(X_train, y_train)"
   ]
  },
  {
   "cell_type": "code",
   "execution_count": 28,
   "metadata": {},
   "outputs": [
    {
     "data": {
      "text/plain": [
       "0.89"
      ]
     },
     "execution_count": 28,
     "metadata": {},
     "output_type": "execute_result"
    }
   ],
   "source": [
    "training_accuracy = knn_classifier.score(X_train, y_train).round(2)\n",
    "training_accuracy"
   ]
  },
  {
   "cell_type": "code",
   "execution_count": 29,
   "metadata": {},
   "outputs": [
    {
     "data": {
      "text/plain": [
       "0.85"
      ]
     },
     "execution_count": 29,
     "metadata": {},
     "output_type": "execute_result"
    }
   ],
   "source": [
    "testing_accuracy = knn_classifier.score(X_test, y_test).round(2)\n",
    "testing_accuracy"
   ]
  },
  {
   "cell_type": "code",
   "execution_count": 30,
   "metadata": {},
   "outputs": [],
   "source": [
    "classifers_train_test.loc[3] = [\"KNN\", training_accuracy, testing_accuracy]"
   ]
  },
  {
   "cell_type": "markdown",
   "metadata": {},
   "source": [
    "#### Random Forest Classifier"
   ]
  },
  {
   "cell_type": "code",
   "execution_count": 31,
   "metadata": {},
   "outputs": [
    {
     "data": {
      "text/plain": [
       "RandomForestClassifier(bootstrap=True, class_weight='balanced',\n",
       "                       criterion='gini', max_depth=3, max_features='auto',\n",
       "                       max_leaf_nodes=None, min_impurity_decrease=0.0,\n",
       "                       min_impurity_split=None, min_samples_leaf=1,\n",
       "                       min_samples_split=2, min_weight_fraction_leaf=0.0,\n",
       "                       n_estimators=10, n_jobs=None, oob_score=False,\n",
       "                       random_state=None, verbose=0, warm_start=False)"
      ]
     },
     "execution_count": 31,
     "metadata": {},
     "output_type": "execute_result"
    }
   ],
   "source": [
    "from sklearn.ensemble import RandomForestClassifier\n",
    "rf_classifier = RandomForestClassifier(max_depth =3, n_estimators = 10,class_weight='balanced')\n",
    "rf_classifier.fit(X_train, y_train)"
   ]
  },
  {
   "cell_type": "code",
   "execution_count": 32,
   "metadata": {},
   "outputs": [
    {
     "data": {
      "text/plain": [
       "0.55"
      ]
     },
     "execution_count": 32,
     "metadata": {},
     "output_type": "execute_result"
    }
   ],
   "source": [
    "training_accuracy = rf_classifier.score(X_train, y_train).round(2)\n",
    "training_accuracy"
   ]
  },
  {
   "cell_type": "code",
   "execution_count": 33,
   "metadata": {},
   "outputs": [
    {
     "data": {
      "text/plain": [
       "0.38"
      ]
     },
     "execution_count": 33,
     "metadata": {},
     "output_type": "execute_result"
    }
   ],
   "source": [
    "testing_accuracy = rf_classifier.score(X_test, y_test).round(2)\n",
    "testing_accuracy"
   ]
  },
  {
   "cell_type": "code",
   "execution_count": 34,
   "metadata": {},
   "outputs": [],
   "source": [
    "classifers_train_test.loc[4] = [\"Random Forest\", training_accuracy, testing_accuracy]"
   ]
  },
  {
   "cell_type": "markdown",
   "metadata": {},
   "source": [
    "#### 4.1b.3 Accuracy of all models"
   ]
  },
  {
   "cell_type": "code",
   "execution_count": 35,
   "metadata": {},
   "outputs": [
    {
     "data": {
      "text/html": [
       "<div>\n",
       "<style scoped>\n",
       "    .dataframe tbody tr th:only-of-type {\n",
       "        vertical-align: middle;\n",
       "    }\n",
       "\n",
       "    .dataframe tbody tr th {\n",
       "        vertical-align: top;\n",
       "    }\n",
       "\n",
       "    .dataframe thead th {\n",
       "        text-align: right;\n",
       "    }\n",
       "</style>\n",
       "<table border=\"1\" class=\"dataframe\">\n",
       "  <thead>\n",
       "    <tr style=\"text-align: right;\">\n",
       "      <th></th>\n",
       "      <th>Classifier</th>\n",
       "      <th>Train_AUC</th>\n",
       "      <th>Test_AUC</th>\n",
       "    </tr>\n",
       "  </thead>\n",
       "  <tbody>\n",
       "    <tr>\n",
       "      <th>0</th>\n",
       "      <td>Naive Bayes</td>\n",
       "      <td>0.58</td>\n",
       "      <td>0.52</td>\n",
       "    </tr>\n",
       "    <tr>\n",
       "      <th>1</th>\n",
       "      <td>Logistic Regression</td>\n",
       "      <td>0.97</td>\n",
       "      <td>0.98</td>\n",
       "    </tr>\n",
       "    <tr>\n",
       "      <th>2</th>\n",
       "      <td>SVM</td>\n",
       "      <td>0.25</td>\n",
       "      <td>0.19</td>\n",
       "    </tr>\n",
       "    <tr>\n",
       "      <th>3</th>\n",
       "      <td>KNN</td>\n",
       "      <td>0.89</td>\n",
       "      <td>0.85</td>\n",
       "    </tr>\n",
       "    <tr>\n",
       "      <th>4</th>\n",
       "      <td>Random Forest</td>\n",
       "      <td>0.55</td>\n",
       "      <td>0.38</td>\n",
       "    </tr>\n",
       "  </tbody>\n",
       "</table>\n",
       "</div>"
      ],
      "text/plain": [
       "            Classifier  Train_AUC  Test_AUC\n",
       "0          Naive Bayes       0.58      0.52\n",
       "1  Logistic Regression       0.97      0.98\n",
       "2                  SVM       0.25      0.19\n",
       "3                  KNN       0.89      0.85\n",
       "4        Random Forest       0.55      0.38"
      ]
     },
     "execution_count": 35,
     "metadata": {},
     "output_type": "execute_result"
    }
   ],
   "source": [
    "classifers_train_test"
   ]
  },
  {
   "cell_type": "markdown",
   "metadata": {},
   "source": [
    "#### Logistic Regression gives the best accuracy and performance among all five models.\n",
    "#### Support Vector Machine Classifier gives worst accuracy and performance."
   ]
  },
  {
   "cell_type": "markdown",
   "metadata": {},
   "source": [
    "### Query 4.1c Predicting Calls on another stock data\n",
    "Import another stock data and create the bollinger columns. Using the already defined model, predict the daily calls for this new stock."
   ]
  },
  {
   "cell_type": "code",
   "execution_count": 36,
   "metadata": {},
   "outputs": [
    {
     "data": {
      "text/html": [
       "<div>\n",
       "<style scoped>\n",
       "    .dataframe tbody tr th:only-of-type {\n",
       "        vertical-align: middle;\n",
       "    }\n",
       "\n",
       "    .dataframe tbody tr th {\n",
       "        vertical-align: top;\n",
       "    }\n",
       "\n",
       "    .dataframe thead th {\n",
       "        text-align: right;\n",
       "    }\n",
       "</style>\n",
       "<table border=\"1\" class=\"dataframe\">\n",
       "  <thead>\n",
       "    <tr style=\"text-align: right;\">\n",
       "      <th></th>\n",
       "      <th>Symbol</th>\n",
       "      <th>Series</th>\n",
       "      <th>Prev Close</th>\n",
       "      <th>Open Price</th>\n",
       "      <th>High Price</th>\n",
       "      <th>Low Price</th>\n",
       "      <th>Last Price</th>\n",
       "      <th>Close Price</th>\n",
       "      <th>Average Price</th>\n",
       "      <th>Total Traded Quantity</th>\n",
       "      <th>Turnover</th>\n",
       "      <th>No. of Trades</th>\n",
       "      <th>Deliverable Qty</th>\n",
       "      <th>% Dly Qt to Traded Qty</th>\n",
       "    </tr>\n",
       "    <tr>\n",
       "      <th>Date</th>\n",
       "      <th></th>\n",
       "      <th></th>\n",
       "      <th></th>\n",
       "      <th></th>\n",
       "      <th></th>\n",
       "      <th></th>\n",
       "      <th></th>\n",
       "      <th></th>\n",
       "      <th></th>\n",
       "      <th></th>\n",
       "      <th></th>\n",
       "      <th></th>\n",
       "      <th></th>\n",
       "      <th></th>\n",
       "    </tr>\n",
       "  </thead>\n",
       "  <tbody>\n",
       "    <tr>\n",
       "      <th>2017-05-15</th>\n",
       "      <td>LT</td>\n",
       "      <td>EQ</td>\n",
       "      <td>1740.60</td>\n",
       "      <td>1748.60</td>\n",
       "      <td>1751.55</td>\n",
       "      <td>1736.50</td>\n",
       "      <td>1742.00</td>\n",
       "      <td>1742.40</td>\n",
       "      <td>1743.15</td>\n",
       "      <td>797134</td>\n",
       "      <td>1.389521e+09</td>\n",
       "      <td>52614</td>\n",
       "      <td>529359</td>\n",
       "      <td>66.41</td>\n",
       "    </tr>\n",
       "    <tr>\n",
       "      <th>2017-05-16</th>\n",
       "      <td>LT</td>\n",
       "      <td>EQ</td>\n",
       "      <td>1742.40</td>\n",
       "      <td>1747.00</td>\n",
       "      <td>1748.25</td>\n",
       "      <td>1727.55</td>\n",
       "      <td>1740.60</td>\n",
       "      <td>1740.70</td>\n",
       "      <td>1736.62</td>\n",
       "      <td>1102926</td>\n",
       "      <td>1.915365e+09</td>\n",
       "      <td>48756</td>\n",
       "      <td>674148</td>\n",
       "      <td>61.12</td>\n",
       "    </tr>\n",
       "    <tr>\n",
       "      <th>2017-05-17</th>\n",
       "      <td>LT</td>\n",
       "      <td>EQ</td>\n",
       "      <td>1740.70</td>\n",
       "      <td>1743.90</td>\n",
       "      <td>1764.00</td>\n",
       "      <td>1730.50</td>\n",
       "      <td>1754.30</td>\n",
       "      <td>1755.45</td>\n",
       "      <td>1749.36</td>\n",
       "      <td>1668586</td>\n",
       "      <td>2.918955e+09</td>\n",
       "      <td>77513</td>\n",
       "      <td>830692</td>\n",
       "      <td>49.78</td>\n",
       "    </tr>\n",
       "    <tr>\n",
       "      <th>2017-05-18</th>\n",
       "      <td>LT</td>\n",
       "      <td>EQ</td>\n",
       "      <td>1755.45</td>\n",
       "      <td>1739.65</td>\n",
       "      <td>1750.10</td>\n",
       "      <td>1716.40</td>\n",
       "      <td>1722.10</td>\n",
       "      <td>1722.60</td>\n",
       "      <td>1725.53</td>\n",
       "      <td>1437220</td>\n",
       "      <td>2.479968e+09</td>\n",
       "      <td>47602</td>\n",
       "      <td>915874</td>\n",
       "      <td>63.73</td>\n",
       "    </tr>\n",
       "    <tr>\n",
       "      <th>2017-05-19</th>\n",
       "      <td>LT</td>\n",
       "      <td>EQ</td>\n",
       "      <td>1722.60</td>\n",
       "      <td>1729.00</td>\n",
       "      <td>1734.00</td>\n",
       "      <td>1697.55</td>\n",
       "      <td>1720.05</td>\n",
       "      <td>1724.55</td>\n",
       "      <td>1718.73</td>\n",
       "      <td>1512094</td>\n",
       "      <td>2.598885e+09</td>\n",
       "      <td>59280</td>\n",
       "      <td>838396</td>\n",
       "      <td>55.45</td>\n",
       "    </tr>\n",
       "  </tbody>\n",
       "</table>\n",
       "</div>"
      ],
      "text/plain": [
       "           Symbol Series  Prev Close  Open Price  High Price  Low Price  \\\n",
       "Date                                                                      \n",
       "2017-05-15     LT     EQ     1740.60     1748.60     1751.55    1736.50   \n",
       "2017-05-16     LT     EQ     1742.40     1747.00     1748.25    1727.55   \n",
       "2017-05-17     LT     EQ     1740.70     1743.90     1764.00    1730.50   \n",
       "2017-05-18     LT     EQ     1755.45     1739.65     1750.10    1716.40   \n",
       "2017-05-19     LT     EQ     1722.60     1729.00     1734.00    1697.55   \n",
       "\n",
       "            Last Price  Close Price  Average Price  Total Traded Quantity  \\\n",
       "Date                                                                        \n",
       "2017-05-15     1742.00      1742.40        1743.15                 797134   \n",
       "2017-05-16     1740.60      1740.70        1736.62                1102926   \n",
       "2017-05-17     1754.30      1755.45        1749.36                1668586   \n",
       "2017-05-18     1722.10      1722.60        1725.53                1437220   \n",
       "2017-05-19     1720.05      1724.55        1718.73                1512094   \n",
       "\n",
       "                Turnover  No. of Trades  Deliverable Qty  \\\n",
       "Date                                                       \n",
       "2017-05-15  1.389521e+09          52614           529359   \n",
       "2017-05-16  1.915365e+09          48756           674148   \n",
       "2017-05-17  2.918955e+09          77513           830692   \n",
       "2017-05-18  2.479968e+09          47602           915874   \n",
       "2017-05-19  2.598885e+09          59280           838396   \n",
       "\n",
       "            % Dly Qt to Traded Qty  \n",
       "Date                                \n",
       "2017-05-15                   66.41  \n",
       "2017-05-16                   61.12  \n",
       "2017-05-17                   49.78  \n",
       "2017-05-18                   63.73  \n",
       "2017-05-19                   55.45  "
      ]
     },
     "execution_count": 36,
     "metadata": {},
     "output_type": "execute_result"
    }
   ],
   "source": [
    "# Importing another stock data \"LT\"\n",
    "another_data = pd.read_csv(\"./LT.csv\")\n",
    "another_data.Date = pd.to_datetime(another_data.Date)\n",
    "another_data.set_index(\"Date\", inplace=True)\n",
    "another_data.head()"
   ]
  },
  {
   "cell_type": "markdown",
   "metadata": {},
   "source": [
    "#### 4.1c.1 Adding Bollinger Bands Columns"
   ]
  },
  {
   "cell_type": "code",
   "execution_count": 37,
   "metadata": {},
   "outputs": [],
   "source": [
    "rolling_avg = another_data['Close Price'].rolling(window=14).mean()\n",
    "rolling_std = another_data['Close Price'].rolling(window=14).std()"
   ]
  },
  {
   "cell_type": "code",
   "execution_count": 38,
   "metadata": {},
   "outputs": [
    {
     "data": {
      "text/html": [
       "<div>\n",
       "<style scoped>\n",
       "    .dataframe tbody tr th:only-of-type {\n",
       "        vertical-align: middle;\n",
       "    }\n",
       "\n",
       "    .dataframe tbody tr th {\n",
       "        vertical-align: top;\n",
       "    }\n",
       "\n",
       "    .dataframe thead th {\n",
       "        text-align: right;\n",
       "    }\n",
       "</style>\n",
       "<table border=\"1\" class=\"dataframe\">\n",
       "  <thead>\n",
       "    <tr style=\"text-align: right;\">\n",
       "      <th></th>\n",
       "      <th>Symbol</th>\n",
       "      <th>Series</th>\n",
       "      <th>Prev Close</th>\n",
       "      <th>Open Price</th>\n",
       "      <th>High Price</th>\n",
       "      <th>Low Price</th>\n",
       "      <th>Last Price</th>\n",
       "      <th>Close Price</th>\n",
       "      <th>Average Price</th>\n",
       "      <th>Total Traded Quantity</th>\n",
       "      <th>Turnover</th>\n",
       "      <th>No. of Trades</th>\n",
       "      <th>Deliverable Qty</th>\n",
       "      <th>% Dly Qt to Traded Qty</th>\n",
       "      <th>lower</th>\n",
       "      <th>avg</th>\n",
       "      <th>upper</th>\n",
       "    </tr>\n",
       "    <tr>\n",
       "      <th>Date</th>\n",
       "      <th></th>\n",
       "      <th></th>\n",
       "      <th></th>\n",
       "      <th></th>\n",
       "      <th></th>\n",
       "      <th></th>\n",
       "      <th></th>\n",
       "      <th></th>\n",
       "      <th></th>\n",
       "      <th></th>\n",
       "      <th></th>\n",
       "      <th></th>\n",
       "      <th></th>\n",
       "      <th></th>\n",
       "      <th></th>\n",
       "      <th></th>\n",
       "      <th></th>\n",
       "    </tr>\n",
       "  </thead>\n",
       "  <tbody>\n",
       "    <tr>\n",
       "      <th>2017-06-01</th>\n",
       "      <td>LT</td>\n",
       "      <td>EQ</td>\n",
       "      <td>1760.70</td>\n",
       "      <td>1760.0</td>\n",
       "      <td>1798.00</td>\n",
       "      <td>1748.00</td>\n",
       "      <td>1792.10</td>\n",
       "      <td>1792.80</td>\n",
       "      <td>1772.42</td>\n",
       "      <td>1932123</td>\n",
       "      <td>3.424526e+09</td>\n",
       "      <td>72013</td>\n",
       "      <td>957738</td>\n",
       "      <td>49.57</td>\n",
       "      <td>1693.461335</td>\n",
       "      <td>1751.625000</td>\n",
       "      <td>1809.788665</td>\n",
       "    </tr>\n",
       "    <tr>\n",
       "      <th>2017-06-02</th>\n",
       "      <td>LT</td>\n",
       "      <td>EQ</td>\n",
       "      <td>1792.80</td>\n",
       "      <td>1800.0</td>\n",
       "      <td>1805.00</td>\n",
       "      <td>1778.10</td>\n",
       "      <td>1784.85</td>\n",
       "      <td>1784.00</td>\n",
       "      <td>1787.39</td>\n",
       "      <td>950214</td>\n",
       "      <td>1.698405e+09</td>\n",
       "      <td>45529</td>\n",
       "      <td>436632</td>\n",
       "      <td>45.95</td>\n",
       "      <td>1694.253263</td>\n",
       "      <td>1754.596429</td>\n",
       "      <td>1814.939594</td>\n",
       "    </tr>\n",
       "    <tr>\n",
       "      <th>2017-06-05</th>\n",
       "      <td>LT</td>\n",
       "      <td>EQ</td>\n",
       "      <td>1784.00</td>\n",
       "      <td>1795.0</td>\n",
       "      <td>1809.40</td>\n",
       "      <td>1783.50</td>\n",
       "      <td>1804.35</td>\n",
       "      <td>1804.90</td>\n",
       "      <td>1802.25</td>\n",
       "      <td>1270946</td>\n",
       "      <td>2.290566e+09</td>\n",
       "      <td>62246</td>\n",
       "      <td>690909</td>\n",
       "      <td>54.36</td>\n",
       "      <td>1693.837723</td>\n",
       "      <td>1759.182143</td>\n",
       "      <td>1824.526563</td>\n",
       "    </tr>\n",
       "    <tr>\n",
       "      <th>2017-06-06</th>\n",
       "      <td>LT</td>\n",
       "      <td>EQ</td>\n",
       "      <td>1804.90</td>\n",
       "      <td>1807.7</td>\n",
       "      <td>1808.05</td>\n",
       "      <td>1772.15</td>\n",
       "      <td>1773.00</td>\n",
       "      <td>1775.15</td>\n",
       "      <td>1783.32</td>\n",
       "      <td>954046</td>\n",
       "      <td>1.701372e+09</td>\n",
       "      <td>50045</td>\n",
       "      <td>494546</td>\n",
       "      <td>51.84</td>\n",
       "      <td>1694.744536</td>\n",
       "      <td>1760.589286</td>\n",
       "      <td>1826.434035</td>\n",
       "    </tr>\n",
       "    <tr>\n",
       "      <th>2017-06-07</th>\n",
       "      <td>LT</td>\n",
       "      <td>EQ</td>\n",
       "      <td>1775.15</td>\n",
       "      <td>1774.0</td>\n",
       "      <td>1794.50</td>\n",
       "      <td>1773.00</td>\n",
       "      <td>1786.30</td>\n",
       "      <td>1788.60</td>\n",
       "      <td>1784.63</td>\n",
       "      <td>885027</td>\n",
       "      <td>1.579445e+09</td>\n",
       "      <td>53026</td>\n",
       "      <td>466130</td>\n",
       "      <td>52.67</td>\n",
       "      <td>1701.764977</td>\n",
       "      <td>1765.303571</td>\n",
       "      <td>1828.842166</td>\n",
       "    </tr>\n",
       "  </tbody>\n",
       "</table>\n",
       "</div>"
      ],
      "text/plain": [
       "           Symbol Series  Prev Close  Open Price  High Price  Low Price  \\\n",
       "Date                                                                      \n",
       "2017-06-01     LT     EQ     1760.70      1760.0     1798.00    1748.00   \n",
       "2017-06-02     LT     EQ     1792.80      1800.0     1805.00    1778.10   \n",
       "2017-06-05     LT     EQ     1784.00      1795.0     1809.40    1783.50   \n",
       "2017-06-06     LT     EQ     1804.90      1807.7     1808.05    1772.15   \n",
       "2017-06-07     LT     EQ     1775.15      1774.0     1794.50    1773.00   \n",
       "\n",
       "            Last Price  Close Price  Average Price  Total Traded Quantity  \\\n",
       "Date                                                                        \n",
       "2017-06-01     1792.10      1792.80        1772.42                1932123   \n",
       "2017-06-02     1784.85      1784.00        1787.39                 950214   \n",
       "2017-06-05     1804.35      1804.90        1802.25                1270946   \n",
       "2017-06-06     1773.00      1775.15        1783.32                 954046   \n",
       "2017-06-07     1786.30      1788.60        1784.63                 885027   \n",
       "\n",
       "                Turnover  No. of Trades  Deliverable Qty  \\\n",
       "Date                                                       \n",
       "2017-06-01  3.424526e+09          72013           957738   \n",
       "2017-06-02  1.698405e+09          45529           436632   \n",
       "2017-06-05  2.290566e+09          62246           690909   \n",
       "2017-06-06  1.701372e+09          50045           494546   \n",
       "2017-06-07  1.579445e+09          53026           466130   \n",
       "\n",
       "            % Dly Qt to Traded Qty        lower          avg        upper  \n",
       "Date                                                                       \n",
       "2017-06-01                   49.57  1693.461335  1751.625000  1809.788665  \n",
       "2017-06-02                   45.95  1694.253263  1754.596429  1814.939594  \n",
       "2017-06-05                   54.36  1693.837723  1759.182143  1824.526563  \n",
       "2017-06-06                   51.84  1694.744536  1760.589286  1826.434035  \n",
       "2017-06-07                   52.67  1701.764977  1765.303571  1828.842166  "
      ]
     },
     "execution_count": 38,
     "metadata": {},
     "output_type": "execute_result"
    }
   ],
   "source": [
    "another_data['lower'] = rolling_avg-2*rolling_std\n",
    "another_data['avg'] = rolling_avg\n",
    "another_data['upper'] = rolling_avg+2*rolling_std\n",
    "another_data.dropna(inplace=True)\n",
    "another_data.head()"
   ]
  },
  {
   "cell_type": "markdown",
   "metadata": {},
   "source": [
    "#### 4.1c.2 Adding Column \"Call\""
   ]
  },
  {
   "cell_type": "code",
   "execution_count": 39,
   "metadata": {},
   "outputs": [],
   "source": [
    "another_data[\"Call\"] = another_data.apply(lambda record : classifying_call(record['Close Price'], record['lower'], record['avg'], record['upper']), axis = 1) "
   ]
  },
  {
   "cell_type": "code",
   "execution_count": 40,
   "metadata": {},
   "outputs": [
    {
     "data": {
      "text/plain": [
       "array(['Hold Short/Liquidate Buy', 'Hold Buy/Liquidate Short', 'Buy',\n",
       "       'Short'], dtype=object)"
      ]
     },
     "execution_count": 40,
     "metadata": {},
     "output_type": "execute_result"
    }
   ],
   "source": [
    "another_data.Call.unique()"
   ]
  },
  {
   "cell_type": "code",
   "execution_count": 41,
   "metadata": {},
   "outputs": [
    {
     "data": {
      "text/plain": [
       "Hold Buy/Liquidate Short    225\n",
       "Hold Short/Liquidate Buy    206\n",
       "Buy                          26\n",
       "Short                        24\n",
       "Name: Call, dtype: int64"
      ]
     },
     "execution_count": 41,
     "metadata": {},
     "output_type": "execute_result"
    }
   ],
   "source": [
    "another_data.Call.value_counts()"
   ]
  },
  {
   "cell_type": "markdown",
   "metadata": {},
   "source": [
    "#### 4.1c.3 Predicting Calls"
   ]
  },
  {
   "cell_type": "code",
   "execution_count": 42,
   "metadata": {},
   "outputs": [
    {
     "data": {
      "text/html": [
       "<div>\n",
       "<style scoped>\n",
       "    .dataframe tbody tr th:only-of-type {\n",
       "        vertical-align: middle;\n",
       "    }\n",
       "\n",
       "    .dataframe tbody tr th {\n",
       "        vertical-align: top;\n",
       "    }\n",
       "\n",
       "    .dataframe thead th {\n",
       "        text-align: right;\n",
       "    }\n",
       "</style>\n",
       "<table border=\"1\" class=\"dataframe\">\n",
       "  <thead>\n",
       "    <tr style=\"text-align: right;\">\n",
       "      <th></th>\n",
       "      <th>lower</th>\n",
       "      <th>avg</th>\n",
       "      <th>upper</th>\n",
       "      <th>Close Price</th>\n",
       "    </tr>\n",
       "    <tr>\n",
       "      <th>Date</th>\n",
       "      <th></th>\n",
       "      <th></th>\n",
       "      <th></th>\n",
       "      <th></th>\n",
       "    </tr>\n",
       "  </thead>\n",
       "  <tbody>\n",
       "    <tr>\n",
       "      <th>2019-05-07</th>\n",
       "      <td>1343.064459</td>\n",
       "      <td>1359.460714</td>\n",
       "      <td>1375.856970</td>\n",
       "      <td>1366.60</td>\n",
       "    </tr>\n",
       "    <tr>\n",
       "      <th>2019-05-08</th>\n",
       "      <td>1343.037397</td>\n",
       "      <td>1359.421429</td>\n",
       "      <td>1375.805460</td>\n",
       "      <td>1360.35</td>\n",
       "    </tr>\n",
       "    <tr>\n",
       "      <th>2019-05-09</th>\n",
       "      <td>1342.982196</td>\n",
       "      <td>1359.389286</td>\n",
       "      <td>1375.796375</td>\n",
       "      <td>1356.45</td>\n",
       "    </tr>\n",
       "    <tr>\n",
       "      <th>2019-05-10</th>\n",
       "      <td>1347.049497</td>\n",
       "      <td>1357.539286</td>\n",
       "      <td>1368.029074</td>\n",
       "      <td>1355.50</td>\n",
       "    </tr>\n",
       "    <tr>\n",
       "      <th>2019-05-13</th>\n",
       "      <td>1330.888535</td>\n",
       "      <td>1354.464286</td>\n",
       "      <td>1378.040037</td>\n",
       "      <td>1317.65</td>\n",
       "    </tr>\n",
       "  </tbody>\n",
       "</table>\n",
       "</div>"
      ],
      "text/plain": [
       "                  lower          avg        upper  Close Price\n",
       "Date                                                          \n",
       "2019-05-07  1343.064459  1359.460714  1375.856970      1366.60\n",
       "2019-05-08  1343.037397  1359.421429  1375.805460      1360.35\n",
       "2019-05-09  1342.982196  1359.389286  1375.796375      1356.45\n",
       "2019-05-10  1347.049497  1357.539286  1368.029074      1355.50\n",
       "2019-05-13  1330.888535  1354.464286  1378.040037      1317.65"
      ]
     },
     "execution_count": 42,
     "metadata": {},
     "output_type": "execute_result"
    }
   ],
   "source": [
    "Input = another_data[['lower','avg','upper','Close Price']]\n",
    "Input.tail()"
   ]
  },
  {
   "cell_type": "code",
   "execution_count": 43,
   "metadata": {},
   "outputs": [
    {
     "data": {
      "text/html": [
       "<div>\n",
       "<style scoped>\n",
       "    .dataframe tbody tr th:only-of-type {\n",
       "        vertical-align: middle;\n",
       "    }\n",
       "\n",
       "    .dataframe tbody tr th {\n",
       "        vertical-align: top;\n",
       "    }\n",
       "\n",
       "    .dataframe thead th {\n",
       "        text-align: right;\n",
       "    }\n",
       "</style>\n",
       "<table border=\"1\" class=\"dataframe\">\n",
       "  <thead>\n",
       "    <tr style=\"text-align: right;\">\n",
       "      <th></th>\n",
       "      <th>0</th>\n",
       "    </tr>\n",
       "  </thead>\n",
       "  <tbody>\n",
       "    <tr>\n",
       "      <th>476</th>\n",
       "      <td>2</td>\n",
       "    </tr>\n",
       "    <tr>\n",
       "      <th>477</th>\n",
       "      <td>2</td>\n",
       "    </tr>\n",
       "    <tr>\n",
       "      <th>478</th>\n",
       "      <td>1</td>\n",
       "    </tr>\n",
       "    <tr>\n",
       "      <th>479</th>\n",
       "      <td>1</td>\n",
       "    </tr>\n",
       "    <tr>\n",
       "      <th>480</th>\n",
       "      <td>0</td>\n",
       "    </tr>\n",
       "  </tbody>\n",
       "</table>\n",
       "</div>"
      ],
      "text/plain": [
       "     0\n",
       "476  2\n",
       "477  2\n",
       "478  1\n",
       "479  1\n",
       "480  0"
      ]
     },
     "execution_count": 43,
     "metadata": {},
     "output_type": "execute_result"
    }
   ],
   "source": [
    "label_encoder = preprocessing.LabelEncoder()\n",
    "numbered_label = label_encoder.fit_transform(another_data.Call.ravel())\n",
    "Output = pd.DataFrame(numbered_label)\n",
    "Output.tail()"
   ]
  },
  {
   "cell_type": "markdown",
   "metadata": {},
   "source": [
    "#### 4.1c.4 Predicted Calls using already defined Logistic Regression model"
   ]
  },
  {
   "cell_type": "code",
   "execution_count": 44,
   "metadata": {},
   "outputs": [],
   "source": [
    "output_pred = lr.predict(Input)"
   ]
  },
  {
   "cell_type": "markdown",
   "metadata": {},
   "source": [
    "#### 4.1c.5 Accuracy of LR model"
   ]
  },
  {
   "cell_type": "code",
   "execution_count": 45,
   "metadata": {},
   "outputs": [
    {
     "data": {
      "text/plain": [
       "0.972972972972973"
      ]
     },
     "execution_count": 45,
     "metadata": {},
     "output_type": "execute_result"
    }
   ],
   "source": [
    "lr.score(Input, Output)"
   ]
  },
  {
   "cell_type": "markdown",
   "metadata": {},
   "source": [
    "#### 4.1c.6 Adding Predicted Call in another_data"
   ]
  },
  {
   "cell_type": "code",
   "execution_count": 46,
   "metadata": {},
   "outputs": [
    {
     "data": {
      "text/html": [
       "<div>\n",
       "<style scoped>\n",
       "    .dataframe tbody tr th:only-of-type {\n",
       "        vertical-align: middle;\n",
       "    }\n",
       "\n",
       "    .dataframe tbody tr th {\n",
       "        vertical-align: top;\n",
       "    }\n",
       "\n",
       "    .dataframe thead th {\n",
       "        text-align: right;\n",
       "    }\n",
       "</style>\n",
       "<table border=\"1\" class=\"dataframe\">\n",
       "  <thead>\n",
       "    <tr style=\"text-align: right;\">\n",
       "      <th></th>\n",
       "      <th>Symbol</th>\n",
       "      <th>Series</th>\n",
       "      <th>Prev Close</th>\n",
       "      <th>Open Price</th>\n",
       "      <th>High Price</th>\n",
       "      <th>Low Price</th>\n",
       "      <th>Last Price</th>\n",
       "      <th>Close Price</th>\n",
       "      <th>Average Price</th>\n",
       "      <th>Total Traded Quantity</th>\n",
       "      <th>Turnover</th>\n",
       "      <th>No. of Trades</th>\n",
       "      <th>Deliverable Qty</th>\n",
       "      <th>% Dly Qt to Traded Qty</th>\n",
       "      <th>lower</th>\n",
       "      <th>avg</th>\n",
       "      <th>upper</th>\n",
       "      <th>Call</th>\n",
       "      <th>Predicted Call</th>\n",
       "    </tr>\n",
       "    <tr>\n",
       "      <th>Date</th>\n",
       "      <th></th>\n",
       "      <th></th>\n",
       "      <th></th>\n",
       "      <th></th>\n",
       "      <th></th>\n",
       "      <th></th>\n",
       "      <th></th>\n",
       "      <th></th>\n",
       "      <th></th>\n",
       "      <th></th>\n",
       "      <th></th>\n",
       "      <th></th>\n",
       "      <th></th>\n",
       "      <th></th>\n",
       "      <th></th>\n",
       "      <th></th>\n",
       "      <th></th>\n",
       "      <th></th>\n",
       "      <th></th>\n",
       "    </tr>\n",
       "  </thead>\n",
       "  <tbody>\n",
       "    <tr>\n",
       "      <th>2019-05-07</th>\n",
       "      <td>LT</td>\n",
       "      <td>EQ</td>\n",
       "      <td>1352.70</td>\n",
       "      <td>1357.40</td>\n",
       "      <td>1374.35</td>\n",
       "      <td>1350.0</td>\n",
       "      <td>1368.50</td>\n",
       "      <td>1366.60</td>\n",
       "      <td>1366.49</td>\n",
       "      <td>2596385</td>\n",
       "      <td>3.547930e+09</td>\n",
       "      <td>80814</td>\n",
       "      <td>1727865</td>\n",
       "      <td>66.55</td>\n",
       "      <td>1343.064459</td>\n",
       "      <td>1359.460714</td>\n",
       "      <td>1375.856970</td>\n",
       "      <td>Hold Short/Liquidate Buy</td>\n",
       "      <td>Hold Short/Liquidate Buy</td>\n",
       "    </tr>\n",
       "    <tr>\n",
       "      <th>2019-05-08</th>\n",
       "      <td>LT</td>\n",
       "      <td>EQ</td>\n",
       "      <td>1366.60</td>\n",
       "      <td>1363.90</td>\n",
       "      <td>1371.00</td>\n",
       "      <td>1355.0</td>\n",
       "      <td>1362.00</td>\n",
       "      <td>1360.35</td>\n",
       "      <td>1364.13</td>\n",
       "      <td>1601700</td>\n",
       "      <td>2.184919e+09</td>\n",
       "      <td>77662</td>\n",
       "      <td>910828</td>\n",
       "      <td>56.87</td>\n",
       "      <td>1343.037397</td>\n",
       "      <td>1359.421429</td>\n",
       "      <td>1375.805460</td>\n",
       "      <td>Hold Short/Liquidate Buy</td>\n",
       "      <td>Hold Short/Liquidate Buy</td>\n",
       "    </tr>\n",
       "    <tr>\n",
       "      <th>2019-05-09</th>\n",
       "      <td>LT</td>\n",
       "      <td>EQ</td>\n",
       "      <td>1360.35</td>\n",
       "      <td>1357.00</td>\n",
       "      <td>1368.80</td>\n",
       "      <td>1337.6</td>\n",
       "      <td>1356.00</td>\n",
       "      <td>1356.45</td>\n",
       "      <td>1356.59</td>\n",
       "      <td>2464425</td>\n",
       "      <td>3.343208e+09</td>\n",
       "      <td>97052</td>\n",
       "      <td>1560086</td>\n",
       "      <td>63.30</td>\n",
       "      <td>1342.982196</td>\n",
       "      <td>1359.389286</td>\n",
       "      <td>1375.796375</td>\n",
       "      <td>Hold Buy/Liquidate Short</td>\n",
       "      <td>Hold Buy/Liquidate Short</td>\n",
       "    </tr>\n",
       "    <tr>\n",
       "      <th>2019-05-10</th>\n",
       "      <td>LT</td>\n",
       "      <td>EQ</td>\n",
       "      <td>1356.45</td>\n",
       "      <td>1359.65</td>\n",
       "      <td>1362.50</td>\n",
       "      <td>1345.1</td>\n",
       "      <td>1356.65</td>\n",
       "      <td>1355.50</td>\n",
       "      <td>1354.49</td>\n",
       "      <td>1466154</td>\n",
       "      <td>1.985897e+09</td>\n",
       "      <td>69058</td>\n",
       "      <td>716794</td>\n",
       "      <td>48.89</td>\n",
       "      <td>1347.049497</td>\n",
       "      <td>1357.539286</td>\n",
       "      <td>1368.029074</td>\n",
       "      <td>Hold Buy/Liquidate Short</td>\n",
       "      <td>Hold Short/Liquidate Buy</td>\n",
       "    </tr>\n",
       "    <tr>\n",
       "      <th>2019-05-13</th>\n",
       "      <td>LT</td>\n",
       "      <td>EQ</td>\n",
       "      <td>1355.50</td>\n",
       "      <td>1345.00</td>\n",
       "      <td>1355.00</td>\n",
       "      <td>1312.0</td>\n",
       "      <td>1318.20</td>\n",
       "      <td>1317.65</td>\n",
       "      <td>1326.93</td>\n",
       "      <td>3422913</td>\n",
       "      <td>4.541968e+09</td>\n",
       "      <td>126334</td>\n",
       "      <td>1686523</td>\n",
       "      <td>49.27</td>\n",
       "      <td>1330.888535</td>\n",
       "      <td>1354.464286</td>\n",
       "      <td>1378.040037</td>\n",
       "      <td>Buy</td>\n",
       "      <td>Buy</td>\n",
       "    </tr>\n",
       "  </tbody>\n",
       "</table>\n",
       "</div>"
      ],
      "text/plain": [
       "           Symbol Series  Prev Close  Open Price  High Price  Low Price  \\\n",
       "Date                                                                      \n",
       "2019-05-07     LT     EQ     1352.70     1357.40     1374.35     1350.0   \n",
       "2019-05-08     LT     EQ     1366.60     1363.90     1371.00     1355.0   \n",
       "2019-05-09     LT     EQ     1360.35     1357.00     1368.80     1337.6   \n",
       "2019-05-10     LT     EQ     1356.45     1359.65     1362.50     1345.1   \n",
       "2019-05-13     LT     EQ     1355.50     1345.00     1355.00     1312.0   \n",
       "\n",
       "            Last Price  Close Price  Average Price  Total Traded Quantity  \\\n",
       "Date                                                                        \n",
       "2019-05-07     1368.50      1366.60        1366.49                2596385   \n",
       "2019-05-08     1362.00      1360.35        1364.13                1601700   \n",
       "2019-05-09     1356.00      1356.45        1356.59                2464425   \n",
       "2019-05-10     1356.65      1355.50        1354.49                1466154   \n",
       "2019-05-13     1318.20      1317.65        1326.93                3422913   \n",
       "\n",
       "                Turnover  No. of Trades  Deliverable Qty  \\\n",
       "Date                                                       \n",
       "2019-05-07  3.547930e+09          80814          1727865   \n",
       "2019-05-08  2.184919e+09          77662           910828   \n",
       "2019-05-09  3.343208e+09          97052          1560086   \n",
       "2019-05-10  1.985897e+09          69058           716794   \n",
       "2019-05-13  4.541968e+09         126334          1686523   \n",
       "\n",
       "            % Dly Qt to Traded Qty        lower          avg        upper  \\\n",
       "Date                                                                        \n",
       "2019-05-07                   66.55  1343.064459  1359.460714  1375.856970   \n",
       "2019-05-08                   56.87  1343.037397  1359.421429  1375.805460   \n",
       "2019-05-09                   63.30  1342.982196  1359.389286  1375.796375   \n",
       "2019-05-10                   48.89  1347.049497  1357.539286  1368.029074   \n",
       "2019-05-13                   49.27  1330.888535  1354.464286  1378.040037   \n",
       "\n",
       "                                Call            Predicted Call  \n",
       "Date                                                            \n",
       "2019-05-07  Hold Short/Liquidate Buy  Hold Short/Liquidate Buy  \n",
       "2019-05-08  Hold Short/Liquidate Buy  Hold Short/Liquidate Buy  \n",
       "2019-05-09  Hold Buy/Liquidate Short  Hold Buy/Liquidate Short  \n",
       "2019-05-10  Hold Buy/Liquidate Short  Hold Short/Liquidate Buy  \n",
       "2019-05-13                       Buy                       Buy  "
      ]
     },
     "execution_count": 46,
     "metadata": {},
     "output_type": "execute_result"
    }
   ],
   "source": [
    "another_data[\"Predicted Call\"] = label_encoder.inverse_transform(output_pred)\n",
    "another_data.tail()"
   ]
  },
  {
   "cell_type": "markdown",
   "metadata": {},
   "source": [
    "## <a id=\"id2\">Query 4.2</a>\n",
    "Now, we'll again utilize classification to make a trade call, and measure the efficiency of our trading algorithm over the past two years. For this assignment , we will use RandomForest classifier. \n",
    "\n",
    "> Import the stock data file of your choice\n",
    "\n",
    "> Define 4 new columns , whose values are: \n",
    "- % change between Open and Close price for the day \n",
    "- % change between Low and High price for the day \n",
    "- 5 day rolling mean of the day to day % change in Close Price \n",
    "- 5 day rolling std of the day to day % change in Close Price \n",
    "\n",
    "> Create a new column 'Action' whose values are: \n",
    "- 1 if next day's price(Close) is greater than present day's. \n",
    "- (-1) if next day's price(Close) is less than present day's. \n",
    "- i.e. Action [ i ] = 1 if Close[ i+1 ] > Close[ i ] \n",
    "- i.e. Action [ i ] = (-1) if Close[ i+1 ] < Close[ i ]\n",
    "\n",
    "> Construct a classification model with the 4 new inputs and 'Action' as target\n",
    "> Check the accuracy of this model , also , plot the net cumulative returns (in %) if we were to follow this algorithmic model\n",
    "\n",
    "<img src=\"../images/14.png\" alt=\"Drawing\" style=\"width: 500px;\" align=\"left\"/>"
   ]
  },
  {
   "cell_type": "code",
   "execution_count": 47,
   "metadata": {
    "scrolled": true
   },
   "outputs": [
    {
     "data": {
      "text/html": [
       "<div>\n",
       "<style scoped>\n",
       "    .dataframe tbody tr th:only-of-type {\n",
       "        vertical-align: middle;\n",
       "    }\n",
       "\n",
       "    .dataframe tbody tr th {\n",
       "        vertical-align: top;\n",
       "    }\n",
       "\n",
       "    .dataframe thead th {\n",
       "        text-align: right;\n",
       "    }\n",
       "</style>\n",
       "<table border=\"1\" class=\"dataframe\">\n",
       "  <thead>\n",
       "    <tr style=\"text-align: right;\">\n",
       "      <th></th>\n",
       "      <th>Symbol</th>\n",
       "      <th>Series</th>\n",
       "      <th>Prev Close</th>\n",
       "      <th>Open Price</th>\n",
       "      <th>High Price</th>\n",
       "      <th>Low Price</th>\n",
       "      <th>Last Price</th>\n",
       "      <th>Close Price</th>\n",
       "      <th>Average Price</th>\n",
       "      <th>Total Traded Quantity</th>\n",
       "      <th>Turnover</th>\n",
       "      <th>No. of Trades</th>\n",
       "      <th>Deliverable Qty</th>\n",
       "      <th>% Dly Qt to Traded Qty</th>\n",
       "    </tr>\n",
       "    <tr>\n",
       "      <th>Date</th>\n",
       "      <th></th>\n",
       "      <th></th>\n",
       "      <th></th>\n",
       "      <th></th>\n",
       "      <th></th>\n",
       "      <th></th>\n",
       "      <th></th>\n",
       "      <th></th>\n",
       "      <th></th>\n",
       "      <th></th>\n",
       "      <th></th>\n",
       "      <th></th>\n",
       "      <th></th>\n",
       "      <th></th>\n",
       "    </tr>\n",
       "  </thead>\n",
       "  <tbody>\n",
       "    <tr>\n",
       "      <th>2017-05-15</th>\n",
       "      <td>LT</td>\n",
       "      <td>EQ</td>\n",
       "      <td>1740.60</td>\n",
       "      <td>1748.60</td>\n",
       "      <td>1751.55</td>\n",
       "      <td>1736.50</td>\n",
       "      <td>1742.00</td>\n",
       "      <td>1742.40</td>\n",
       "      <td>1743.15</td>\n",
       "      <td>797134</td>\n",
       "      <td>1.389521e+09</td>\n",
       "      <td>52614</td>\n",
       "      <td>529359</td>\n",
       "      <td>66.41</td>\n",
       "    </tr>\n",
       "    <tr>\n",
       "      <th>2017-05-16</th>\n",
       "      <td>LT</td>\n",
       "      <td>EQ</td>\n",
       "      <td>1742.40</td>\n",
       "      <td>1747.00</td>\n",
       "      <td>1748.25</td>\n",
       "      <td>1727.55</td>\n",
       "      <td>1740.60</td>\n",
       "      <td>1740.70</td>\n",
       "      <td>1736.62</td>\n",
       "      <td>1102926</td>\n",
       "      <td>1.915365e+09</td>\n",
       "      <td>48756</td>\n",
       "      <td>674148</td>\n",
       "      <td>61.12</td>\n",
       "    </tr>\n",
       "    <tr>\n",
       "      <th>2017-05-17</th>\n",
       "      <td>LT</td>\n",
       "      <td>EQ</td>\n",
       "      <td>1740.70</td>\n",
       "      <td>1743.90</td>\n",
       "      <td>1764.00</td>\n",
       "      <td>1730.50</td>\n",
       "      <td>1754.30</td>\n",
       "      <td>1755.45</td>\n",
       "      <td>1749.36</td>\n",
       "      <td>1668586</td>\n",
       "      <td>2.918955e+09</td>\n",
       "      <td>77513</td>\n",
       "      <td>830692</td>\n",
       "      <td>49.78</td>\n",
       "    </tr>\n",
       "    <tr>\n",
       "      <th>2017-05-18</th>\n",
       "      <td>LT</td>\n",
       "      <td>EQ</td>\n",
       "      <td>1755.45</td>\n",
       "      <td>1739.65</td>\n",
       "      <td>1750.10</td>\n",
       "      <td>1716.40</td>\n",
       "      <td>1722.10</td>\n",
       "      <td>1722.60</td>\n",
       "      <td>1725.53</td>\n",
       "      <td>1437220</td>\n",
       "      <td>2.479968e+09</td>\n",
       "      <td>47602</td>\n",
       "      <td>915874</td>\n",
       "      <td>63.73</td>\n",
       "    </tr>\n",
       "    <tr>\n",
       "      <th>2017-05-19</th>\n",
       "      <td>LT</td>\n",
       "      <td>EQ</td>\n",
       "      <td>1722.60</td>\n",
       "      <td>1729.00</td>\n",
       "      <td>1734.00</td>\n",
       "      <td>1697.55</td>\n",
       "      <td>1720.05</td>\n",
       "      <td>1724.55</td>\n",
       "      <td>1718.73</td>\n",
       "      <td>1512094</td>\n",
       "      <td>2.598885e+09</td>\n",
       "      <td>59280</td>\n",
       "      <td>838396</td>\n",
       "      <td>55.45</td>\n",
       "    </tr>\n",
       "  </tbody>\n",
       "</table>\n",
       "</div>"
      ],
      "text/plain": [
       "           Symbol Series  Prev Close  Open Price  High Price  Low Price  \\\n",
       "Date                                                                      \n",
       "2017-05-15     LT     EQ     1740.60     1748.60     1751.55    1736.50   \n",
       "2017-05-16     LT     EQ     1742.40     1747.00     1748.25    1727.55   \n",
       "2017-05-17     LT     EQ     1740.70     1743.90     1764.00    1730.50   \n",
       "2017-05-18     LT     EQ     1755.45     1739.65     1750.10    1716.40   \n",
       "2017-05-19     LT     EQ     1722.60     1729.00     1734.00    1697.55   \n",
       "\n",
       "            Last Price  Close Price  Average Price  Total Traded Quantity  \\\n",
       "Date                                                                        \n",
       "2017-05-15     1742.00      1742.40        1743.15                 797134   \n",
       "2017-05-16     1740.60      1740.70        1736.62                1102926   \n",
       "2017-05-17     1754.30      1755.45        1749.36                1668586   \n",
       "2017-05-18     1722.10      1722.60        1725.53                1437220   \n",
       "2017-05-19     1720.05      1724.55        1718.73                1512094   \n",
       "\n",
       "                Turnover  No. of Trades  Deliverable Qty  \\\n",
       "Date                                                       \n",
       "2017-05-15  1.389521e+09          52614           529359   \n",
       "2017-05-16  1.915365e+09          48756           674148   \n",
       "2017-05-17  2.918955e+09          77513           830692   \n",
       "2017-05-18  2.479968e+09          47602           915874   \n",
       "2017-05-19  2.598885e+09          59280           838396   \n",
       "\n",
       "            % Dly Qt to Traded Qty  \n",
       "Date                                \n",
       "2017-05-15                   66.41  \n",
       "2017-05-16                   61.12  \n",
       "2017-05-17                   49.78  \n",
       "2017-05-18                   63.73  \n",
       "2017-05-19                   55.45  "
      ]
     },
     "execution_count": 47,
     "metadata": {},
     "output_type": "execute_result"
    }
   ],
   "source": [
    "# Importing Stock data of LT \n",
    "stock_data = pd.read_csv(\"./LT.csv\")\n",
    "stock_data.Date = pd.to_datetime(stock_data.Date)\n",
    "stock_data.set_index(\"Date\", inplace=True)\n",
    "stock_data.head()"
   ]
  },
  {
   "cell_type": "code",
   "execution_count": 48,
   "metadata": {},
   "outputs": [
    {
     "data": {
      "text/plain": [
       "(494, 14)"
      ]
     },
     "execution_count": 48,
     "metadata": {},
     "output_type": "execute_result"
    }
   ],
   "source": [
    "stock_data.shape"
   ]
  },
  {
   "cell_type": "markdown",
   "metadata": {},
   "source": [
    "#### 4.2.1 Adding Column for `% change between Open and Close price for the day`"
   ]
  },
  {
   "cell_type": "code",
   "execution_count": 49,
   "metadata": {},
   "outputs": [],
   "source": [
    "stock_data['OC_Pct_Change'] = (stock_data['Close Price']-stock_data['Open Price'])/stock_data['Close Price']*100.0"
   ]
  },
  {
   "cell_type": "markdown",
   "metadata": {},
   "source": [
    "#### 4.2.2 Adding Column for `% change between Low and High price for the day `"
   ]
  },
  {
   "cell_type": "code",
   "execution_count": 50,
   "metadata": {},
   "outputs": [],
   "source": [
    "stock_data['LH_Pct_Change'] = (stock_data['High Price']-stock_data['Low Price'])/stock_data['High Price']*100.0"
   ]
  },
  {
   "cell_type": "markdown",
   "metadata": {},
   "source": [
    "#### 4.2.3 Adding Column for `5 day rolling mean of the day to day % change in Close Price`"
   ]
  },
  {
   "cell_type": "code",
   "execution_count": 51,
   "metadata": {},
   "outputs": [],
   "source": [
    "stock_data['Mean_rolling'] = stock_data['Close Price'].rolling(window=5).mean() / stock_data.OC_Pct_Change"
   ]
  },
  {
   "cell_type": "markdown",
   "metadata": {},
   "source": [
    "#### 4.2.4 Adding Column for `5 day rolling std of the day to day % change in Close Price`"
   ]
  },
  {
   "cell_type": "code",
   "execution_count": 52,
   "metadata": {},
   "outputs": [],
   "source": [
    "stock_data['Std_rolling'] = stock_data['Close Price'].rolling(window=5).std() / stock_data.OC_Pct_Change"
   ]
  },
  {
   "cell_type": "code",
   "execution_count": 53,
   "metadata": {},
   "outputs": [
    {
     "data": {
      "text/plain": [
       "(494, 18)"
      ]
     },
     "execution_count": 53,
     "metadata": {},
     "output_type": "execute_result"
    }
   ],
   "source": [
    "stock_data.shape"
   ]
  },
  {
   "cell_type": "markdown",
   "metadata": {},
   "source": [
    "#### 4.2.5 Adding 'Action' Column"
   ]
  },
  {
   "cell_type": "code",
   "execution_count": 54,
   "metadata": {},
   "outputs": [],
   "source": [
    "stock_data['Action'] = (stock_data['Close Price'].shift(-1) > stock_data['Close Price']).replace([True, False],[1,-1])[:-1]"
   ]
  },
  {
   "cell_type": "code",
   "execution_count": 55,
   "metadata": {
    "scrolled": true
   },
   "outputs": [],
   "source": [
    "stock_data=stock_data.replace([pd.np.inf, -pd.np.inf], pd.np.nan)"
   ]
  },
  {
   "cell_type": "code",
   "execution_count": 56,
   "metadata": {},
   "outputs": [],
   "source": [
    "# Droping NaNs\n",
    "stock_data.dropna(inplace=True)"
   ]
  },
  {
   "cell_type": "code",
   "execution_count": 57,
   "metadata": {},
   "outputs": [
    {
     "data": {
      "text/plain": [
       "(488, 19)"
      ]
     },
     "execution_count": 57,
     "metadata": {},
     "output_type": "execute_result"
    }
   ],
   "source": [
    "stock_data.shape"
   ]
  },
  {
   "cell_type": "markdown",
   "metadata": {},
   "source": [
    "#### 4.2.6 Traning and Testing Split\n",
    "Construct a classification model with the 4 new inputs and 'Action' as target"
   ]
  },
  {
   "cell_type": "code",
   "execution_count": 58,
   "metadata": {},
   "outputs": [
    {
     "data": {
      "text/html": [
       "<div>\n",
       "<style scoped>\n",
       "    .dataframe tbody tr th:only-of-type {\n",
       "        vertical-align: middle;\n",
       "    }\n",
       "\n",
       "    .dataframe tbody tr th {\n",
       "        vertical-align: top;\n",
       "    }\n",
       "\n",
       "    .dataframe thead th {\n",
       "        text-align: right;\n",
       "    }\n",
       "</style>\n",
       "<table border=\"1\" class=\"dataframe\">\n",
       "  <thead>\n",
       "    <tr style=\"text-align: right;\">\n",
       "      <th></th>\n",
       "      <th>OC_Pct_Change</th>\n",
       "      <th>LH_Pct_Change</th>\n",
       "      <th>Mean_rolling</th>\n",
       "      <th>Std_rolling</th>\n",
       "    </tr>\n",
       "    <tr>\n",
       "      <th>Date</th>\n",
       "      <th></th>\n",
       "      <th></th>\n",
       "      <th></th>\n",
       "      <th></th>\n",
       "    </tr>\n",
       "  </thead>\n",
       "  <tbody>\n",
       "    <tr>\n",
       "      <th>2017-05-19</th>\n",
       "      <td>-0.258038</td>\n",
       "      <td>2.102076</td>\n",
       "      <td>-6732.100645</td>\n",
       "      <td>-52.907173</td>\n",
       "    </tr>\n",
       "    <tr>\n",
       "      <th>2017-05-22</th>\n",
       "      <td>1.081652</td>\n",
       "      <td>1.705514</td>\n",
       "      <td>1607.772373</td>\n",
       "      <td>14.012875</td>\n",
       "    </tr>\n",
       "    <tr>\n",
       "      <th>2017-05-23</th>\n",
       "      <td>-0.818613</td>\n",
       "      <td>2.124766</td>\n",
       "      <td>-2124.399084</td>\n",
       "      <td>-18.517219</td>\n",
       "    </tr>\n",
       "    <tr>\n",
       "      <th>2017-05-24</th>\n",
       "      <td>-3.422482</td>\n",
       "      <td>4.513632</td>\n",
       "      <td>-503.979259</td>\n",
       "      <td>-7.484361</td>\n",
       "    </tr>\n",
       "    <tr>\n",
       "      <th>2017-05-25</th>\n",
       "      <td>4.344631</td>\n",
       "      <td>4.676056</td>\n",
       "      <td>399.138643</td>\n",
       "      <td>7.392993</td>\n",
       "    </tr>\n",
       "  </tbody>\n",
       "</table>\n",
       "</div>"
      ],
      "text/plain": [
       "            OC_Pct_Change  LH_Pct_Change  Mean_rolling  Std_rolling\n",
       "Date                                                               \n",
       "2017-05-19      -0.258038       2.102076  -6732.100645   -52.907173\n",
       "2017-05-22       1.081652       1.705514   1607.772373    14.012875\n",
       "2017-05-23      -0.818613       2.124766  -2124.399084   -18.517219\n",
       "2017-05-24      -3.422482       4.513632   -503.979259    -7.484361\n",
       "2017-05-25       4.344631       4.676056    399.138643     7.392993"
      ]
     },
     "execution_count": 58,
     "metadata": {},
     "output_type": "execute_result"
    }
   ],
   "source": [
    "Input = stock_data[['OC_Pct_Change', 'LH_Pct_Change', 'Mean_rolling', 'Std_rolling']]\n",
    "Input.head()"
   ]
  },
  {
   "cell_type": "markdown",
   "metadata": {},
   "source": [
    "**Need to Normalize Input Data**"
   ]
  },
  {
   "cell_type": "code",
   "execution_count": 59,
   "metadata": {},
   "outputs": [],
   "source": [
    "from sklearn.preprocessing import MinMaxScaler\n",
    "Input = MinMaxScaler().fit_transform(Input)"
   ]
  },
  {
   "cell_type": "code",
   "execution_count": 60,
   "metadata": {},
   "outputs": [
    {
     "data": {
      "text/plain": [
       "Date\n",
       "2017-05-19    1.0\n",
       "2017-05-22   -1.0\n",
       "2017-05-23   -1.0\n",
       "2017-05-24    1.0\n",
       "2017-05-25    1.0\n",
       "Name: Action, dtype: float64"
      ]
     },
     "execution_count": 60,
     "metadata": {},
     "output_type": "execute_result"
    }
   ],
   "source": [
    "Output = stock_data.Action\n",
    "Output.head()"
   ]
  },
  {
   "cell_type": "code",
   "execution_count": 61,
   "metadata": {},
   "outputs": [],
   "source": [
    "X_train, X_test,y_train, y_test = train_test_split(Input, Output, test_size=0.2)"
   ]
  },
  {
   "cell_type": "code",
   "execution_count": 62,
   "metadata": {},
   "outputs": [],
   "source": [
    "y_train = y_train.values.ravel()\n",
    "y_test = y_test.values.ravel()"
   ]
  },
  {
   "cell_type": "markdown",
   "metadata": {},
   "source": [
    "#### 4.2.7 Classification Model : Random Forest"
   ]
  },
  {
   "cell_type": "code",
   "execution_count": 63,
   "metadata": {},
   "outputs": [
    {
     "data": {
      "text/plain": [
       "RandomForestClassifier(bootstrap=True, class_weight='balanced',\n",
       "                       criterion='gini', max_depth=10, max_features='auto',\n",
       "                       max_leaf_nodes=None, min_impurity_decrease=0.0,\n",
       "                       min_impurity_split=None, min_samples_leaf=1,\n",
       "                       min_samples_split=2, min_weight_fraction_leaf=0.0,\n",
       "                       n_estimators=10, n_jobs=None, oob_score=False,\n",
       "                       random_state=None, verbose=0, warm_start=False)"
      ]
     },
     "execution_count": 63,
     "metadata": {},
     "output_type": "execute_result"
    }
   ],
   "source": [
    "rf_classifier = RandomForestClassifier(max_depth = 10, n_estimators =10,class_weight='balanced')\n",
    "rf_classifier.fit(X_train, y_train)"
   ]
  },
  {
   "cell_type": "markdown",
   "metadata": {},
   "source": [
    "#### 4.2.8 Accuracy"
   ]
  },
  {
   "cell_type": "code",
   "execution_count": 64,
   "metadata": {},
   "outputs": [
    {
     "data": {
      "text/plain": [
       "0.9333333333333333"
      ]
     },
     "execution_count": 64,
     "metadata": {},
     "output_type": "execute_result"
    }
   ],
   "source": [
    "rf_classifier.score(X_train, y_train)"
   ]
  },
  {
   "cell_type": "code",
   "execution_count": 65,
   "metadata": {},
   "outputs": [
    {
     "data": {
      "text/plain": [
       "0.8483606557377049"
      ]
     },
     "execution_count": 65,
     "metadata": {},
     "output_type": "execute_result"
    }
   ],
   "source": [
    "rf_classifier.score(Input, Output)"
   ]
  },
  {
   "cell_type": "markdown",
   "metadata": {},
   "source": [
    "#### 4.2.9 Net Cumulative Returns (in %)\n",
    "plot the net cumulative returns (in %) if we were to follow this algorithmic model"
   ]
  },
  {
   "cell_type": "code",
   "execution_count": 66,
   "metadata": {},
   "outputs": [
    {
     "name": "stderr",
     "output_type": "stream",
     "text": [
      "C:\\Users\\Ztrimus\\Anaconda3\\lib\\site-packages\\pandas\\plotting\\_matplotlib\\converter.py:102: FutureWarning: Using an implicitly registered datetime converter for a matplotlib plotting method. The converter was registered by pandas on import. Future versions of pandas will require you to explicitly register matplotlib converters.\n",
      "\n",
      "To register the converters:\n",
      "\t>>> from pandas.plotting import register_matplotlib_converters\n",
      "\t>>> register_matplotlib_converters()\n",
      "  warnings.warn(msg, FutureWarning)\n"
     ]
    },
    {
     "data": {
      "image/png": "[encoded data removed]",
      "text/plain": [
       "<Figure size 1440x720 with 1 Axes>"
      ]
     },
     "metadata": {
      "needs_background": "light"
     },
     "output_type": "display_data"
    }
   ],
   "source": [
    "stock_data['Net_cum_returns'] = ((stock_data['Open Price']-stock_data['Close Price'])/stock_data['Open Price']*100).cumsum()\n",
    "\n",
    "plt.figure(figsize=(20,10))\n",
    "plt.plot(stock_data.index, stock_data['Net_cum_returns'])\n",
    "plt.ylabel(\"Strategy Returns (%)\")\n",
    "plt.xlabel(\"Date\")\n",
    "plt.show()"
   ]
  }
 ],
 "metadata": {
  "kernelspec": {
   "display_name": "Python 3",
   "language": "python",
   "name": "python3"
  },
  "language_info": {
   "codemirror_mode": {
    "name": "ipython",
    "version": 3
   },
   "file_extension": ".py",
   "mimetype": "text/x-python",
   "name": "python",
   "nbconvert_exporter": "python",
   "pygments_lexer": "ipython3",
   "version": "3.7.3"
  }
 },
 "nbformat": 4,
 "nbformat_minor": 2
}
